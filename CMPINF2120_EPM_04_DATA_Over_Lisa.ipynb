{
 "cells": [
  {
   "cell_type": "markdown",
   "id": "fc1e2c69",
   "metadata": {},
   "source": [
    "## Educational Process Mining\n",
    "\n",
    "https://archive-beta.ics.uci.edu/dataset/346/educational+process+mining+epm+a+learning+analytics+data+set\n",
    "\n",
    "Educational Process Mining (EPM): A Learning Analytics Data Set. (2015). UCI Machine Learning Repository.\n",
    "\n",
    "Educational Process Mining data set consists of student activity and outcome data for an e-learning simulation course in digital electronics. The experiments were carried out with a group of 115 first-year, undergraduate Engineering major students of the University of Genoa. The simulation environment, called Deeds (Digital Electronics Education and Design Suite), provides learning materials through specialized browsers and asks students to solve various problems with different levels of difficulty. For more information about the Deeds simulator see http://www.esng.dibe.unige.it/deeds/.\n",
    "\n",
    "I chose this application because I wanted to work with student-level education data. This dataset contains exercise and activity inputs and interim and final grade outcome data. It is likely that my research for the LIS PhD program would also involve student-level data. My goal for this project is to learn how to visulaize and analyze this kind of data, which is time series where each input record has a start and end time and represents the amount of time the student spent on the recorded exercise and activity.\n",
    "\n",
    "I have worked with education data in the past, but it was school-level aggregated data: School Performance Profile scores. I have domain knowledge (graduate coursework in Education and a PA state teaching certificate). I have not researched how to work with this data. \n",
    "\n",
    "I believe the data provided with this project is sufficient to answer the following questions:\n",
    "\n",
    "* What factors influence student outcomes for this course?\n",
    "* Is there a linear relationship between the total time spent and/or the number of sessions/exercises/activities completed and student outcomes? \n",
    "* Can student outcomes be predicted from time spent and/or the number of sessions/exercises/activities completed?\n",
    "\n",
    "This notebook reads in all data, evaluates variables, creates new input variables, renames variables to simply exploration and modeling, and outputs the data to CSV files.\n",
    "\n",
    "There are 6 session folders with student input data and two excel files with intermediate and final grades. Each session folder contains separate data sets for each student who participated in that session, either partially or fully. Each student data file contains fields for the session and student ID so each of these files were read in and concatenated to form one inputs data set. \n",
    "\n",
    "There are 13 columns and 227129 rows in the concatenated input data:\n",
    "\n",
    "* Four ID columns as type integer - `session` and `student_id`\n",
    "* Four object columns, two should be dates - `exercise`, `activity`, `start_time`, and `end_time`\n",
    "* Seven integer columns - `idle_time`, `mouse_wheel`, `mouse_wheel_click`, `mouse_click_left`, `mouse_click_right`, `mouse_movement`, and `keystoke`\n",
    "\n",
    "There are 6 columns and 115 rows in the intermediate grades data:\n",
    "\n",
    "* One ID column as type integer - `Student Id`\n",
    "* Five float columns for sessions 2 through 6 intermediate grades\n",
    "\n",
    "There are 18 columns and 62 rows in the final grades data:\n",
    "\n",
    "* One ID column as type interger - `Student ID`\n",
    "* Seventeen float columns - 16 for the individual test question values and one for the total score \n",
    "\n",
    "There are no missing data in the input, intermediate grades, or final grades data. However, not all students participated in all sessions, exercises, activities, and final assessment so records do not exist in these instances.\n",
    "\n",
    "The new input variables include\n",
    "\n",
    "* `total_ms` is the difference in milliseconds between `start_time` and `end_time`.\n",
    "* `activity_group` is the activity name, the first portion of the activity variable value, which consists of an activity and an associated exercise. Activities are 'Other', 'Aulaweb', 'Blank', 'Deeds', 'Study', 'Properties','Diagram', 'TextEditor', 'Study_Materials', 'Fsm_Related', 'FSM'\n",
    "* `activity_exercise` is the exercise portion of the activity variable value.\n",
    "\n"
   ]
  },
  {
   "cell_type": "code",
   "execution_count": 1,
   "id": "66b025f0",
   "metadata": {},
   "outputs": [],
   "source": [
    "import pandas as pd\n",
    "import numpy as np\n",
    "import matplotlib.pyplot as plt\n",
    "\n",
    "import seaborn as sns"
   ]
  },
  {
   "cell_type": "markdown",
   "id": "38800c27",
   "metadata": {},
   "source": [
    "### Load the input data from github repository"
   ]
  },
  {
   "cell_type": "markdown",
   "id": "b62dbffd",
   "metadata": {},
   "source": [
    "Not every student completed every session. Get the list of files (named as student number which ranges from 1 to 115) from the local data and create a list from the results. Remove the value '1' from filenames_s1 because it was already loaded."
   ]
  },
  {
   "cell_type": "code",
   "execution_count": 2,
   "id": "2dcdf41a",
   "metadata": {},
   "outputs": [],
   "source": [
    "#import os\n",
    "#os_path = \"/Users/lisaover/Documents/EPM Dataset 2/Data/Processes/Session 6\"\n",
    "#filenames = os.listdir(os_path)\n",
    "#filenames2 = [int(i) for i in filenames]\n",
    "#filenames2.sort()\n",
    "#print(len(filenames2))\n",
    "#print(filenames2)"
   ]
  },
  {
   "cell_type": "code",
   "execution_count": 3,
   "id": "f291eb40",
   "metadata": {},
   "outputs": [],
   "source": [
    "filenames_s1 = [2, 4, 5, 7, 9, 10, 11, 12, 14, 15, 17, 19, 20, 21, 22, 28, 30, 32, 34, 36, 37, 38, 39, 42, 43, 44, 46, 47, 49, 51, 52, 53, 54, 55, 56, 59, 62, 63, 66, 67, 68, 70, 71, 73, 74, 76, 78, 79, 80, 81, 82, 85, 86, 87, 88, 90, 91, 92, 93, 94, 96, 97, 98, 100, 101, 102, 104, 105, 108, 109, 110, 111, 112, 113, 114, 115]"
   ]
  },
  {
   "cell_type": "code",
   "execution_count": 4,
   "id": "82cc6a20",
   "metadata": {},
   "outputs": [],
   "source": [
    "filenames_s2 = [1, 2, 3, 4, 5, 6, 7, 8, 10, 11, 12, 14, 15, 16, 17, 18, 19, 20, 21, 22, 24, 27, 28, 29, 30, 32, 34, 36, 38, 39, 41, 42, 43, 44, 46, 47, 48, 49, 50, 51, 52, 53, 54, 56, 59, 61, 63, 66, 67, 70, 71, 72, 73, 74, 76, 78, 79, 80, 81, 82, 83, 84, 85, 86, 87, 88, 90, 91, 92, 93, 94, 95, 96, 97, 98, 99, 100, 101, 102, 103, 104, 107]"
   ]
  },
  {
   "cell_type": "code",
   "execution_count": 5,
   "id": "68852b04",
   "metadata": {},
   "outputs": [],
   "source": [
    "filenames_s3 = [2, 3, 4, 5, 6, 7, 8, 9, 10, 11, 12, 14, 15, 16, 17, 18, 19, 20, 23, 24, 25, 27, 28, 29, 30, 31, 32, 34, 35, 36, 38, 39, 41, 42, 43, 44, 45, 47, 48, 49, 50, 51, 52, 53, 54, 55, 56, 59, 61, 63, 66, 67, 68, 69, 70, 72, 73, 74, 75, 76, 78, 79, 80, 81, 82, 83, 84, 85, 86, 87, 88, 89, 90, 91, 92, 93, 94, 95, 97, 98, 99, 100, 101, 102, 105, 106, 107]"
   ]
  },
  {
   "cell_type": "code",
   "execution_count": 6,
   "id": "6f4c08e3",
   "metadata": {},
   "outputs": [],
   "source": [
    "filenames_s4 = [1, 2, 3, 4, 5, 6, 7, 8, 9, 10, 11, 12, 13, 14, 15, 16, 17, 18, 19, 20, 21, 22, 23, 24, 25, 26, 27, 28, 29, 30, 31, 32, 33, 34, 35, 36, 37, 38, 39, 40, 41, 42, 43, 44, 45, 46, 47, 48, 49, 50, 51, 52, 53, 54, 55, 56, 57, 58, 59, 60, 61, 62, 63, 64, 65, 66, 67, 68, 69, 70, 71, 72, 73, 74, 75, 76, 77, 78, 79, 80, 81, 82, 83, 84, 85, 86, 87, 88, 89, 90, 91, 92, 93, 94, 95, 96, 97, 98, 99]"
   ]
  },
  {
   "cell_type": "code",
   "execution_count": 7,
   "id": "911320d2",
   "metadata": {},
   "outputs": [],
   "source": [
    "filenames_s5 = [1, 2, 3, 4, 5, 6, 7, 8, 9, 10, 11, 12, 13, 14, 15, 16, 17, 18, 19, 20, 22, 23, 24, 27, 28, 29, 30, 31, 32, 34, 35, 36, 37, 38, 39, 40, 41, 42, 44, 45, 47, 48, 49, 50, 51, 52, 53, 54, 55, 56, 59, 60, 61, 63, 64, 65, 66, 67, 68, 69, 70, 71, 72, 74, 75, 76, 78, 79, 80, 81, 82, 83, 85, 86, 87, 88, 89, 90, 91, 92, 93, 94, 95, 96, 98, 99, 100, 101, 102, 103, 104]"
   ]
  },
  {
   "cell_type": "code",
   "execution_count": 8,
   "id": "4fca32ec",
   "metadata": {},
   "outputs": [],
   "source": [
    "filenames_s6 = [1, 2, 4, 5, 6, 7, 9, 10, 11, 12, 13, 14, 15, 16, 17, 18, 19, 20, 24, 25, 27, 28, 29, 30, 32, 34, 35, 36, 37, 38, 39, 41, 42, 44, 46, 47, 48, 49, 50, 51, 52, 53, 54, 56, 57, 59, 60, 61, 63, 64, 65, 66, 67, 68, 69, 70, 72, 73, 74, 75, 76, 78, 79, 80, 81, 82, 83, 85, 86, 87, 88, 89, 90, 91, 92, 93, 94, 95, 96, 97, 98, 99, 102, 104]"
   ]
  },
  {
   "cell_type": "code",
   "execution_count": 9,
   "id": "4b44c0f5",
   "metadata": {},
   "outputs": [],
   "source": [
    "path = 'https://raw.githubusercontent.com/lisaover/CMPINF2120_project/main/EPM%20Dataset%202/Data/Processes/Session%20'"
   ]
  },
  {
   "cell_type": "code",
   "execution_count": 10,
   "id": "114f3bdc",
   "metadata": {},
   "outputs": [
    {
     "name": "stdout",
     "output_type": "stream",
     "text": [
      "591 records for Session 1, student 1; 591 total records\n"
     ]
    }
   ],
   "source": [
    "inputs_init = pd.read_csv(path + \"1/1\", header=None)\n",
    "inputs_init.columns = ['session','student_id','exercise','activity',\n",
    "              'start_time','end_time','idle_time','mouse_wheel',\n",
    "              'mouse_wheel_click','mouse_click_left','mouse_click_right',\n",
    "              'mouse_movement','keystroke']\n",
    "record_tally = len(inputs_init)\n",
    "print(str(len(inputs_init)) + \" records for Session 1, student \" + str(inputs_init.student_id[0]) + \"; \" + str(record_tally) + \" total records\")"
   ]
  },
  {
   "cell_type": "code",
   "execution_count": 11,
   "id": "ef69726b",
   "metadata": {},
   "outputs": [],
   "source": [
    "def load_data(file_list, session):\n",
    "    global path\n",
    "    global record_tally\n",
    "    global inputs_init\n",
    "    for i in range(0,len(file_list)-1):\n",
    "        file = path + str(session) + \"/\" + str(file_list[i])\n",
    "        data = pd.read_csv(file, header=None)\n",
    "        df = pd.DataFrame(data)\n",
    "        df.columns = ['session','student_id','exercise','activity',\n",
    "                  'start_time','end_time','idle_time','mouse_wheel',\n",
    "                  'mouse_wheel_click','mouse_click_left','mouse_click_right',\n",
    "                  'mouse_movement','keystroke']\n",
    "        inputs_init = pd.concat([inputs_init, df], axis = 0)\n",
    "        record_tally = record_tally + len(df)\n",
    "        print(str(len(df)) + \" records for Session \" + str(session) + \", student \" + str(df.student_id[0]) + \"; \" + str(record_tally) + \" total records\")"
   ]
  },
  {
   "cell_type": "code",
   "execution_count": 12,
   "id": "3b0372c7",
   "metadata": {},
   "outputs": [
    {
     "name": "stdout",
     "output_type": "stream",
     "text": [
      "226 records for Session 1, student 2; 817 total records\n",
      "574 records for Session 1, student 4; 1391 total records\n",
      "567 records for Session 1, student 5; 1958 total records\n",
      "325 records for Session 1, student 7; 2283 total records\n",
      "507 records for Session 1, student 9; 2790 total records\n",
      "354 records for Session 1, student 10; 3144 total records\n",
      "457 records for Session 1, student 11; 3601 total records\n",
      "697 records for Session 1, student 12; 4298 total records\n",
      "380 records for Session 1, student 14; 4678 total records\n",
      "485 records for Session 1, student 15; 5163 total records\n",
      "184 records for Session 1, student 17; 5347 total records\n",
      "191 records for Session 1, student 19; 5538 total records\n",
      "543 records for Session 1, student 20; 6081 total records\n",
      "351 records for Session 1, student 21; 6432 total records\n",
      "423 records for Session 1, student 22; 6855 total records\n",
      "353 records for Session 1, student 28; 7208 total records\n",
      "599 records for Session 1, student 30; 7807 total records\n",
      "600 records for Session 1, student 32; 8407 total records\n",
      "254 records for Session 1, student 34; 8661 total records\n",
      "321 records for Session 1, student 36; 8982 total records\n",
      "314 records for Session 1, student 37; 9296 total records\n",
      "281 records for Session 1, student 38; 9577 total records\n",
      "447 records for Session 1, student 39; 10024 total records\n",
      "525 records for Session 1, student 42; 10549 total records\n",
      "378 records for Session 1, student 43; 10927 total records\n",
      "417 records for Session 1, student 44; 11344 total records\n",
      "580 records for Session 1, student 46; 11924 total records\n",
      "505 records for Session 1, student 47; 12429 total records\n",
      "347 records for Session 1, student 49; 12776 total records\n",
      "461 records for Session 1, student 51; 13237 total records\n",
      "500 records for Session 1, student 52; 13737 total records\n",
      "580 records for Session 1, student 53; 14317 total records\n",
      "329 records for Session 1, student 54; 14646 total records\n",
      "748 records for Session 1, student 55; 15394 total records\n",
      "539 records for Session 1, student 56; 15933 total records\n",
      "418 records for Session 1, student 59; 16351 total records\n",
      "480 records for Session 1, student 62; 16831 total records\n",
      "583 records for Session 1, student 63; 17414 total records\n",
      "419 records for Session 1, student 66; 17833 total records\n",
      "258 records for Session 1, student 67; 18091 total records\n",
      "356 records for Session 1, student 68; 18447 total records\n",
      "424 records for Session 1, student 70; 18871 total records\n",
      "302 records for Session 1, student 71; 19173 total records\n",
      "364 records for Session 1, student 73; 19537 total records\n",
      "732 records for Session 1, student 74; 20269 total records\n",
      "420 records for Session 1, student 76; 20689 total records\n",
      "243 records for Session 1, student 78; 20932 total records\n",
      "465 records for Session 1, student 79; 21397 total records\n",
      "238 records for Session 1, student 80; 21635 total records\n",
      "344 records for Session 1, student 81; 21979 total records\n",
      "555 records for Session 1, student 82; 22534 total records\n",
      "333 records for Session 1, student 85; 22867 total records\n",
      "365 records for Session 1, student 86; 23232 total records\n",
      "290 records for Session 1, student 87; 23522 total records\n",
      "429 records for Session 1, student 88; 23951 total records\n",
      "388 records for Session 1, student 90; 24339 total records\n",
      "507 records for Session 1, student 91; 24846 total records\n",
      "411 records for Session 1, student 92; 25257 total records\n",
      "388 records for Session 1, student 93; 25645 total records\n",
      "645 records for Session 1, student 94; 26290 total records\n",
      "507 records for Session 1, student 96; 26797 total records\n",
      "301 records for Session 1, student 97; 27098 total records\n",
      "356 records for Session 1, student 98; 27454 total records\n",
      "815 records for Session 1, student 100; 28269 total records\n",
      "400 records for Session 1, student 101; 28669 total records\n",
      "667 records for Session 1, student 102; 29336 total records\n",
      "307 records for Session 1, student 104; 29643 total records\n",
      "337 records for Session 1, student 105; 29980 total records\n",
      "469 records for Session 1, student 108; 30449 total records\n",
      "995 records for Session 1, student 109; 31444 total records\n",
      "386 records for Session 1, student 110; 31830 total records\n",
      "477 records for Session 1, student 111; 32307 total records\n",
      "357 records for Session 1, student 112; 32664 total records\n",
      "547 records for Session 1, student 113; 33211 total records\n",
      "632 records for Session 1, student 114; 33843 total records\n",
      "502 records for Session 2, student 1; 34345 total records\n",
      "348 records for Session 2, student 2; 34693 total records\n",
      "571 records for Session 2, student 3; 35264 total records\n",
      "748 records for Session 2, student 4; 36012 total records\n",
      "607 records for Session 2, student 5; 36619 total records\n",
      "549 records for Session 2, student 6; 37168 total records\n",
      "472 records for Session 2, student 7; 37640 total records\n",
      "336 records for Session 2, student 8; 37976 total records\n",
      "569 records for Session 2, student 10; 38545 total records\n",
      "570 records for Session 2, student 11; 39115 total records\n",
      "571 records for Session 2, student 12; 39686 total records\n",
      "425 records for Session 2, student 14; 40111 total records\n",
      "359 records for Session 2, student 15; 40470 total records\n",
      "460 records for Session 2, student 16; 40930 total records\n",
      "366 records for Session 2, student 17; 41296 total records\n",
      "396 records for Session 2, student 18; 41692 total records\n",
      "638 records for Session 2, student 19; 42330 total records\n",
      "501 records for Session 2, student 20; 42831 total records\n",
      "599 records for Session 2, student 21; 43430 total records\n",
      "445 records for Session 2, student 22; 43875 total records\n",
      "483 records for Session 2, student 24; 44358 total records\n",
      "317 records for Session 2, student 27; 44675 total records\n",
      "428 records for Session 2, student 28; 45103 total records\n",
      "614 records for Session 2, student 29; 45717 total records\n",
      "353 records for Session 2, student 30; 46070 total records\n",
      "661 records for Session 2, student 32; 46731 total records\n",
      "331 records for Session 2, student 34; 47062 total records\n",
      "369 records for Session 2, student 36; 47431 total records\n",
      "212 records for Session 2, student 38; 47643 total records\n",
      "486 records for Session 2, student 39; 48129 total records\n",
      "467 records for Session 2, student 41; 48596 total records\n",
      "429 records for Session 2, student 42; 49025 total records\n",
      "356 records for Session 2, student 43; 49381 total records\n",
      "649 records for Session 2, student 44; 50030 total records\n",
      "404 records for Session 2, student 46; 50434 total records\n",
      "516 records for Session 2, student 47; 50950 total records\n",
      "369 records for Session 2, student 48; 51319 total records\n",
      "568 records for Session 2, student 49; 51887 total records\n",
      "376 records for Session 2, student 50; 52263 total records\n",
      "724 records for Session 2, student 51; 52987 total records\n",
      "516 records for Session 2, student 52; 53503 total records\n",
      "485 records for Session 2, student 53; 53988 total records\n",
      "358 records for Session 2, student 54; 54346 total records\n",
      "510 records for Session 2, student 56; 54856 total records\n",
      "446 records for Session 2, student 59; 55302 total records\n",
      "647 records for Session 2, student 61; 55949 total records\n",
      "478 records for Session 2, student 63; 56427 total records\n",
      "882 records for Session 2, student 66; 57309 total records\n",
      "690 records for Session 2, student 67; 57999 total records\n",
      "505 records for Session 2, student 70; 58504 total records\n",
      "465 records for Session 2, student 71; 58969 total records\n",
      "726 records for Session 2, student 72; 59695 total records\n",
      "386 records for Session 2, student 73; 60081 total records\n",
      "756 records for Session 2, student 74; 60837 total records\n",
      "437 records for Session 2, student 76; 61274 total records\n",
      "431 records for Session 2, student 78; 61705 total records\n",
      "423 records for Session 2, student 79; 62128 total records\n",
      "250 records for Session 2, student 80; 62378 total records\n",
      "445 records for Session 2, student 81; 62823 total records\n",
      "538 records for Session 2, student 82; 63361 total records\n",
      "538 records for Session 2, student 83; 63899 total records\n",
      "169 records for Session 2, student 84; 64068 total records\n",
      "433 records for Session 2, student 85; 64501 total records\n",
      "597 records for Session 2, student 86; 65098 total records\n",
      "399 records for Session 2, student 87; 65497 total records\n",
      "494 records for Session 2, student 88; 65991 total records\n",
      "428 records for Session 2, student 90; 66419 total records\n",
      "417 records for Session 2, student 91; 66836 total records\n",
      "489 records for Session 2, student 92; 67325 total records\n",
      "336 records for Session 2, student 93; 67661 total records\n",
      "615 records for Session 2, student 94; 68276 total records\n",
      "660 records for Session 2, student 95; 68936 total records\n",
      "485 records for Session 2, student 96; 69421 total records\n",
      "416 records for Session 2, student 97; 69837 total records\n",
      "87 records for Session 2, student 98; 69924 total records\n",
      "346 records for Session 2, student 99; 70270 total records\n",
      "540 records for Session 2, student 100; 70810 total records\n",
      "439 records for Session 2, student 101; 71249 total records\n",
      "624 records for Session 2, student 102; 71873 total records\n",
      "481 records for Session 2, student 103; 72354 total records\n",
      "411 records for Session 2, student 104; 72765 total records\n",
      "261 records for Session 3, student 2; 73026 total records\n",
      "541 records for Session 3, student 3; 73567 total records\n",
      "535 records for Session 3, student 4; 74102 total records\n",
      "341 records for Session 3, student 5; 74443 total records\n",
      "425 records for Session 3, student 6; 74868 total records\n",
      "258 records for Session 3, student 7; 75126 total records\n",
      "247 records for Session 3, student 8; 75373 total records\n",
      "386 records for Session 3, student 9; 75759 total records\n",
      "549 records for Session 3, student 10; 76308 total records\n",
      "315 records for Session 3, student 11; 76623 total records\n",
      "368 records for Session 3, student 12; 76991 total records\n",
      "321 records for Session 3, student 14; 77312 total records\n",
      "409 records for Session 3, student 15; 77721 total records\n",
      "323 records for Session 3, student 16; 78044 total records\n",
      "345 records for Session 3, student 17; 78389 total records\n",
      "274 records for Session 3, student 18; 78663 total records\n",
      "233 records for Session 3, student 19; 78896 total records\n",
      "564 records for Session 3, student 20; 79460 total records\n",
      "232 records for Session 3, student 23; 79692 total records\n",
      "352 records for Session 3, student 24; 80044 total records\n",
      "520 records for Session 3, student 25; 80564 total records\n",
      "228 records for Session 3, student 27; 80792 total records\n",
      "350 records for Session 3, student 28; 81142 total records\n",
      "341 records for Session 3, student 29; 81483 total records\n",
      "402 records for Session 3, student 30; 81885 total records\n",
      "206 records for Session 3, student 31; 82091 total records\n",
      "392 records for Session 3, student 32; 82483 total records\n",
      "285 records for Session 3, student 34; 82768 total records\n",
      "233 records for Session 3, student 35; 83001 total records\n",
      "295 records for Session 3, student 36; 83296 total records\n",
      "152 records for Session 3, student 38; 83448 total records\n",
      "397 records for Session 3, student 39; 83845 total records\n",
      "295 records for Session 3, student 41; 84140 total records\n",
      "234 records for Session 3, student 42; 84374 total records\n",
      "159 records for Session 3, student 43; 84533 total records\n",
      "491 records for Session 3, student 44; 85024 total records\n",
      "87 records for Session 3, student 45; 85111 total records\n",
      "338 records for Session 3, student 47; 85449 total records\n",
      "219 records for Session 3, student 48; 85668 total records\n",
      "647 records for Session 3, student 49; 86315 total records\n",
      "188 records for Session 3, student 50; 86503 total records\n",
      "379 records for Session 3, student 51; 86882 total records\n",
      "402 records for Session 3, student 52; 87284 total records\n",
      "413 records for Session 3, student 53; 87697 total records\n",
      "285 records for Session 3, student 54; 87982 total records\n",
      "385 records for Session 3, student 55; 88367 total records\n",
      "231 records for Session 3, student 56; 88598 total records\n",
      "359 records for Session 3, student 59; 88957 total records\n",
      "448 records for Session 3, student 61; 89405 total records\n",
      "312 records for Session 3, student 63; 89717 total records\n",
      "255 records for Session 3, student 66; 89972 total records\n",
      "379 records for Session 3, student 67; 90351 total records\n",
      "496 records for Session 3, student 68; 90847 total records\n",
      "223 records for Session 3, student 69; 91070 total records\n",
      "393 records for Session 3, student 70; 91463 total records\n",
      "531 records for Session 3, student 72; 91994 total records\n",
      "411 records for Session 3, student 73; 92405 total records\n",
      "351 records for Session 3, student 74; 92756 total records\n",
      "295 records for Session 3, student 75; 93051 total records\n",
      "468 records for Session 3, student 76; 93519 total records\n",
      "312 records for Session 3, student 78; 93831 total records\n",
      "251 records for Session 3, student 79; 94082 total records\n",
      "151 records for Session 3, student 80; 94233 total records\n",
      "319 records for Session 3, student 81; 94552 total records\n",
      "322 records for Session 3, student 82; 94874 total records\n",
      "336 records for Session 3, student 83; 95210 total records\n",
      "209 records for Session 3, student 84; 95419 total records\n",
      "375 records for Session 3, student 85; 95794 total records\n",
      "458 records for Session 3, student 86; 96252 total records\n",
      "312 records for Session 3, student 87; 96564 total records\n",
      "326 records for Session 3, student 88; 96890 total records\n",
      "123 records for Session 3, student 89; 97013 total records\n",
      "297 records for Session 3, student 90; 97310 total records\n",
      "462 records for Session 3, student 91; 97772 total records\n",
      "224 records for Session 3, student 92; 97996 total records\n",
      "334 records for Session 3, student 93; 98330 total records\n",
      "463 records for Session 3, student 94; 98793 total records\n",
      "298 records for Session 3, student 95; 99091 total records\n",
      "271 records for Session 3, student 97; 99362 total records\n",
      "251 records for Session 3, student 98; 99613 total records\n",
      "370 records for Session 3, student 99; 99983 total records\n",
      "452 records for Session 3, student 100; 100435 total records\n",
      "191 records for Session 3, student 101; 100626 total records\n",
      "312 records for Session 3, student 102; 100938 total records\n",
      "126 records for Session 3, student 105; 101064 total records\n",
      "392 records for Session 3, student 106; 101456 total records\n",
      "522 records for Session 4, student 1; 101978 total records\n",
      "348 records for Session 4, student 2; 102326 total records\n",
      "603 records for Session 4, student 3; 102929 total records\n",
      "463 records for Session 4, student 4; 103392 total records\n",
      "319 records for Session 4, student 5; 103711 total records\n",
      "643 records for Session 4, student 6; 104354 total records\n",
      "246 records for Session 4, student 7; 104600 total records\n",
      "401 records for Session 4, student 8; 105001 total records\n",
      "405 records for Session 4, student 9; 105406 total records\n",
      "610 records for Session 4, student 10; 106016 total records\n",
      "360 records for Session 4, student 11; 106376 total records\n",
      "363 records for Session 4, student 12; 106739 total records\n",
      "318 records for Session 4, student 13; 107057 total records\n",
      "348 records for Session 4, student 14; 107405 total records\n",
      "344 records for Session 4, student 15; 107749 total records\n",
      "370 records for Session 4, student 16; 108119 total records\n",
      "336 records for Session 4, student 17; 108455 total records\n",
      "341 records for Session 4, student 18; 108796 total records\n",
      "400 records for Session 4, student 19; 109196 total records\n",
      "572 records for Session 4, student 20; 109768 total records\n",
      "320 records for Session 4, student 21; 110088 total records\n",
      "389 records for Session 4, student 22; 110477 total records\n",
      "272 records for Session 4, student 23; 110749 total records\n",
      "374 records for Session 4, student 24; 111123 total records\n",
      "421 records for Session 4, student 25; 111544 total records\n",
      "253 records for Session 4, student 26; 111797 total records\n",
      "181 records for Session 4, student 27; 111978 total records\n",
      "393 records for Session 4, student 28; 112371 total records\n",
      "621 records for Session 4, student 29; 112992 total records\n",
      "395 records for Session 4, student 30; 113387 total records\n",
      "345 records for Session 4, student 31; 113732 total records\n",
      "417 records for Session 4, student 32; 114149 total records\n",
      "290 records for Session 4, student 33; 114439 total records\n",
      "494 records for Session 4, student 34; 114933 total records\n",
      "534 records for Session 4, student 35; 115467 total records\n",
      "348 records for Session 4, student 36; 115815 total records\n",
      "339 records for Session 4, student 37; 116154 total records\n",
      "214 records for Session 4, student 38; 116368 total records\n",
      "551 records for Session 4, student 39; 116919 total records\n",
      "350 records for Session 4, student 40; 117269 total records\n",
      "385 records for Session 4, student 41; 117654 total records\n",
      "590 records for Session 4, student 42; 118244 total records\n",
      "328 records for Session 4, student 43; 118572 total records\n",
      "628 records for Session 4, student 44; 119200 total records\n",
      "243 records for Session 4, student 45; 119443 total records\n",
      "472 records for Session 4, student 46; 119915 total records\n",
      "496 records for Session 4, student 47; 120411 total records\n",
      "339 records for Session 4, student 48; 120750 total records\n",
      "342 records for Session 4, student 49; 121092 total records\n",
      "351 records for Session 4, student 50; 121443 total records\n",
      "397 records for Session 4, student 51; 121840 total records\n",
      "277 records for Session 4, student 52; 122117 total records\n",
      "393 records for Session 4, student 53; 122510 total records\n",
      "287 records for Session 4, student 54; 122797 total records\n",
      "427 records for Session 4, student 55; 123224 total records\n",
      "547 records for Session 4, student 56; 123771 total records\n",
      "366 records for Session 4, student 57; 124137 total records\n",
      "399 records for Session 4, student 58; 124536 total records\n",
      "318 records for Session 4, student 59; 124854 total records\n",
      "532 records for Session 4, student 60; 125386 total records\n",
      "426 records for Session 4, student 61; 125812 total records\n",
      "282 records for Session 4, student 62; 126094 total records\n",
      "603 records for Session 4, student 63; 126697 total records\n",
      "405 records for Session 4, student 64; 127102 total records\n",
      "596 records for Session 4, student 65; 127698 total records\n",
      "179 records for Session 4, student 66; 127877 total records\n",
      "344 records for Session 4, student 67; 128221 total records\n",
      "365 records for Session 4, student 68; 128586 total records\n",
      "339 records for Session 4, student 69; 128925 total records\n",
      "510 records for Session 4, student 70; 129435 total records\n",
      "302 records for Session 4, student 71; 129737 total records\n",
      "399 records for Session 4, student 72; 130136 total records\n",
      "281 records for Session 4, student 73; 130417 total records\n",
      "833 records for Session 4, student 74; 131250 total records\n",
      "351 records for Session 4, student 75; 131601 total records\n",
      "667 records for Session 4, student 76; 132268 total records\n",
      "342 records for Session 4, student 77; 132610 total records\n",
      "382 records for Session 4, student 78; 132992 total records\n",
      "333 records for Session 4, student 79; 133325 total records\n",
      "416 records for Session 4, student 80; 133741 total records\n",
      "304 records for Session 4, student 81; 134045 total records\n",
      "584 records for Session 4, student 82; 134629 total records\n",
      "383 records for Session 4, student 83; 135012 total records\n",
      "427 records for Session 4, student 84; 135439 total records\n",
      "379 records for Session 4, student 85; 135818 total records\n",
      "305 records for Session 4, student 86; 136123 total records\n",
      "446 records for Session 4, student 87; 136569 total records\n",
      "474 records for Session 4, student 88; 137043 total records\n",
      "581 records for Session 4, student 89; 137624 total records\n",
      "362 records for Session 4, student 90; 137986 total records\n",
      "298 records for Session 4, student 91; 138284 total records\n",
      "219 records for Session 4, student 92; 138503 total records\n",
      "291 records for Session 4, student 93; 138794 total records\n",
      "356 records for Session 4, student 94; 139150 total records\n",
      "423 records for Session 4, student 95; 139573 total records\n",
      "436 records for Session 4, student 96; 140009 total records\n",
      "401 records for Session 4, student 97; 140410 total records\n",
      "309 records for Session 4, student 98; 140719 total records\n",
      "404 records for Session 5, student 1; 141123 total records\n",
      "301 records for Session 5, student 2; 141424 total records\n",
      "550 records for Session 5, student 3; 141974 total records\n",
      "560 records for Session 5, student 4; 142534 total records\n",
      "338 records for Session 5, student 5; 142872 total records\n",
      "616 records for Session 5, student 6; 143488 total records\n",
      "213 records for Session 5, student 7; 143701 total records\n",
      "255 records for Session 5, student 8; 143956 total records\n",
      "348 records for Session 5, student 9; 144304 total records\n",
      "531 records for Session 5, student 10; 144835 total records\n",
      "385 records for Session 5, student 11; 145220 total records\n",
      "362 records for Session 5, student 12; 145582 total records\n",
      "422 records for Session 5, student 13; 146004 total records\n",
      "237 records for Session 5, student 14; 146241 total records\n",
      "328 records for Session 5, student 15; 146569 total records\n",
      "288 records for Session 5, student 16; 146857 total records\n",
      "417 records for Session 5, student 17; 147274 total records\n",
      "223 records for Session 5, student 18; 147497 total records\n",
      "315 records for Session 5, student 19; 147812 total records\n",
      "585 records for Session 5, student 20; 148397 total records\n",
      "432 records for Session 5, student 22; 148829 total records\n",
      "383 records for Session 5, student 23; 149212 total records\n",
      "373 records for Session 5, student 24; 149585 total records\n",
      "366 records for Session 5, student 27; 149951 total records\n",
      "298 records for Session 5, student 28; 150249 total records\n",
      "456 records for Session 5, student 29; 150705 total records\n",
      "497 records for Session 5, student 30; 151202 total records\n",
      "303 records for Session 5, student 31; 151505 total records\n",
      "471 records for Session 5, student 32; 151976 total records\n",
      "296 records for Session 5, student 34; 152272 total records\n",
      "436 records for Session 5, student 35; 152708 total records\n",
      "239 records for Session 5, student 36; 152947 total records\n",
      "532 records for Session 5, student 37; 153479 total records\n",
      "270 records for Session 5, student 38; 153749 total records\n",
      "530 records for Session 5, student 39; 154279 total records\n",
      "540 records for Session 5, student 40; 154819 total records\n",
      "281 records for Session 5, student 41; 155100 total records\n",
      "337 records for Session 5, student 42; 155437 total records\n",
      "505 records for Session 5, student 44; 155942 total records\n",
      "270 records for Session 5, student 45; 156212 total records\n",
      "351 records for Session 5, student 47; 156563 total records\n",
      "322 records for Session 5, student 48; 156885 total records\n",
      "522 records for Session 5, student 49; 157407 total records\n",
      "265 records for Session 5, student 50; 157672 total records\n",
      "372 records for Session 5, student 51; 158044 total records\n",
      "274 records for Session 5, student 52; 158318 total records\n",
      "417 records for Session 5, student 53; 158735 total records\n",
      "233 records for Session 5, student 54; 158968 total records\n",
      "258 records for Session 5, student 55; 159226 total records\n",
      "450 records for Session 5, student 56; 159676 total records\n",
      "406 records for Session 5, student 59; 160082 total records\n",
      "452 records for Session 5, student 60; 160534 total records\n",
      "477 records for Session 5, student 61; 161011 total records\n",
      "334 records for Session 5, student 63; 161345 total records\n",
      "330 records for Session 5, student 64; 161675 total records\n",
      "420 records for Session 5, student 65; 162095 total records\n",
      "499 records for Session 5, student 66; 162594 total records\n",
      "687 records for Session 5, student 67; 163281 total records\n",
      "290 records for Session 5, student 68; 163571 total records\n",
      "262 records for Session 5, student 69; 163833 total records\n",
      "296 records for Session 5, student 70; 164129 total records\n",
      "267 records for Session 5, student 71; 164396 total records\n",
      "437 records for Session 5, student 72; 164833 total records\n",
      "530 records for Session 5, student 74; 165363 total records\n",
      "318 records for Session 5, student 75; 165681 total records\n",
      "454 records for Session 5, student 76; 166135 total records\n",
      "358 records for Session 5, student 78; 166493 total records\n",
      "334 records for Session 5, student 79; 166827 total records\n",
      "365 records for Session 5, student 80; 167192 total records\n",
      "396 records for Session 5, student 81; 167588 total records\n",
      "524 records for Session 5, student 82; 168112 total records\n",
      "348 records for Session 5, student 83; 168460 total records\n",
      "463 records for Session 5, student 85; 168923 total records\n",
      "459 records for Session 5, student 86; 169382 total records\n",
      "472 records for Session 5, student 87; 169854 total records\n",
      "373 records for Session 5, student 88; 170227 total records\n",
      "127 records for Session 5, student 89; 170354 total records\n",
      "517 records for Session 5, student 90; 170871 total records\n",
      "232 records for Session 5, student 91; 171103 total records\n",
      "234 records for Session 5, student 92; 171337 total records\n",
      "370 records for Session 5, student 93; 171707 total records\n",
      "285 records for Session 5, student 94; 171992 total records\n",
      "437 records for Session 5, student 95; 172429 total records\n",
      "344 records for Session 5, student 96; 172773 total records\n",
      "344 records for Session 5, student 98; 173117 total records\n",
      "394 records for Session 5, student 99; 173511 total records\n",
      "311 records for Session 5, student 100; 173822 total records\n",
      "261 records for Session 5, student 101; 174083 total records\n",
      "245 records for Session 5, student 102; 174328 total records\n",
      "513 records for Session 5, student 103; 174841 total records\n",
      "807 records for Session 6, student 1; 175648 total records\n",
      "368 records for Session 6, student 2; 176016 total records\n",
      "881 records for Session 6, student 4; 176897 total records\n",
      "784 records for Session 6, student 5; 177681 total records\n",
      "708 records for Session 6, student 6; 178389 total records\n",
      "513 records for Session 6, student 7; 178902 total records\n",
      "576 records for Session 6, student 9; 179478 total records\n",
      "717 records for Session 6, student 10; 180195 total records\n",
      "786 records for Session 6, student 11; 180981 total records\n",
      "435 records for Session 6, student 12; 181416 total records\n",
      "582 records for Session 6, student 13; 181998 total records\n",
      "630 records for Session 6, student 14; 182628 total records\n",
      "759 records for Session 6, student 15; 183387 total records\n",
      "605 records for Session 6, student 16; 183992 total records\n",
      "616 records for Session 6, student 17; 184608 total records\n",
      "690 records for Session 6, student 18; 185298 total records\n",
      "588 records for Session 6, student 19; 185886 total records\n",
      "690 records for Session 6, student 20; 186576 total records\n",
      "523 records for Session 6, student 24; 187099 total records\n",
      "829 records for Session 6, student 25; 187928 total records\n",
      "452 records for Session 6, student 27; 188380 total records\n",
      "818 records for Session 6, student 28; 189198 total records\n",
      "845 records for Session 6, student 29; 190043 total records\n",
      "631 records for Session 6, student 30; 190674 total records\n",
      "1087 records for Session 6, student 32; 191761 total records\n",
      "343 records for Session 6, student 34; 192104 total records\n",
      "551 records for Session 6, student 35; 192655 total records\n",
      "645 records for Session 6, student 36; 193300 total records\n",
      "803 records for Session 6, student 37; 194103 total records\n",
      "390 records for Session 6, student 38; 194493 total records\n",
      "692 records for Session 6, student 39; 195185 total records\n",
      "950 records for Session 6, student 41; 196135 total records\n",
      "655 records for Session 6, student 42; 196790 total records\n",
      "687 records for Session 6, student 44; 197477 total records\n",
      "720 records for Session 6, student 46; 198197 total records\n",
      "627 records for Session 6, student 47; 198824 total records\n",
      "562 records for Session 6, student 48; 199386 total records\n",
      "865 records for Session 6, student 49; 200251 total records\n",
      "221 records for Session 6, student 50; 200472 total records\n",
      "565 records for Session 6, student 51; 201037 total records\n",
      "741 records for Session 6, student 52; 201778 total records\n",
      "644 records for Session 6, student 53; 202422 total records\n",
      "331 records for Session 6, student 54; 202753 total records\n",
      "609 records for Session 6, student 56; 203362 total records\n",
      "431 records for Session 6, student 57; 203793 total records\n",
      "440 records for Session 6, student 59; 204233 total records\n",
      "491 records for Session 6, student 60; 204724 total records\n",
      "540 records for Session 6, student 61; 205264 total records\n",
      "606 records for Session 6, student 63; 205870 total records\n",
      "356 records for Session 6, student 64; 206226 total records\n",
      "614 records for Session 6, student 65; 206840 total records\n",
      "799 records for Session 6, student 66; 207639 total records\n",
      "646 records for Session 6, student 67; 208285 total records\n",
      "546 records for Session 6, student 68; 208831 total records\n",
      "386 records for Session 6, student 69; 209217 total records\n",
      "839 records for Session 6, student 70; 210056 total records\n",
      "769 records for Session 6, student 72; 210825 total records\n",
      "587 records for Session 6, student 73; 211412 total records\n",
      "859 records for Session 6, student 74; 212271 total records\n",
      "612 records for Session 6, student 75; 212883 total records\n",
      "660 records for Session 6, student 76; 213543 total records\n",
      "733 records for Session 6, student 78; 214276 total records\n",
      "381 records for Session 6, student 79; 214657 total records\n",
      "681 records for Session 6, student 80; 215338 total records\n",
      "562 records for Session 6, student 81; 215900 total records\n",
      "787 records for Session 6, student 82; 216687 total records\n",
      "788 records for Session 6, student 83; 217475 total records\n",
      "818 records for Session 6, student 85; 218293 total records\n",
      "924 records for Session 6, student 86; 219217 total records\n",
      "754 records for Session 6, student 87; 219971 total records\n",
      "849 records for Session 6, student 88; 220820 total records\n",
      "206 records for Session 6, student 89; 221026 total records\n",
      "397 records for Session 6, student 90; 221423 total records\n",
      "542 records for Session 6, student 91; 221965 total records\n",
      "363 records for Session 6, student 92; 222328 total records\n",
      "649 records for Session 6, student 93; 222977 total records\n",
      "646 records for Session 6, student 94; 223623 total records\n",
      "732 records for Session 6, student 95; 224355 total records\n",
      "635 records for Session 6, student 96; 224990 total records\n",
      "396 records for Session 6, student 97; 225386 total records\n",
      "569 records for Session 6, student 98; 225955 total records\n",
      "529 records for Session 6, student 99; 226484 total records\n",
      "645 records for Session 6, student 102; 227129 total records\n"
     ]
    }
   ],
   "source": [
    "load_data(filenames_s1, 1)\n",
    "load_data(filenames_s2, 2)\n",
    "load_data(filenames_s3, 3)\n",
    "load_data(filenames_s4, 4)\n",
    "load_data(filenames_s5, 5)\n",
    "load_data(filenames_s6, 6)"
   ]
  },
  {
   "cell_type": "code",
   "execution_count": 13,
   "id": "4d59f1c3",
   "metadata": {},
   "outputs": [
    {
     "name": "stdout",
     "output_type": "stream",
     "text": [
      "<class 'pandas.core.frame.DataFrame'>\n",
      "Int64Index: 227129 entries, 0 to 644\n",
      "Data columns (total 13 columns):\n",
      " #   Column             Non-Null Count   Dtype \n",
      "---  ------             --------------   ----- \n",
      " 0   session            227129 non-null  int64 \n",
      " 1   student_id         227129 non-null  int64 \n",
      " 2   exercise           227129 non-null  object\n",
      " 3   activity           227129 non-null  object\n",
      " 4   start_time         227129 non-null  object\n",
      " 5   end_time           227129 non-null  object\n",
      " 6   idle_time          227129 non-null  int64 \n",
      " 7   mouse_wheel        227129 non-null  int64 \n",
      " 8   mouse_wheel_click  227129 non-null  int64 \n",
      " 9   mouse_click_left   227129 non-null  int64 \n",
      " 10  mouse_click_right  227129 non-null  int64 \n",
      " 11  mouse_movement     227129 non-null  int64 \n",
      " 12  keystroke          227129 non-null  int64 \n",
      "dtypes: int64(9), object(4)\n",
      "memory usage: 24.3+ MB\n"
     ]
    }
   ],
   "source": [
    "inputs_init.info()"
   ]
  },
  {
   "cell_type": "code",
   "execution_count": 14,
   "id": "f5839684",
   "metadata": {},
   "outputs": [
    {
     "data": {
      "text/plain": [
       "(227129, 13)"
      ]
     },
     "execution_count": 14,
     "metadata": {},
     "output_type": "execute_result"
    }
   ],
   "source": [
    "inputs_init.shape"
   ]
  },
  {
   "cell_type": "markdown",
   "id": "09f6f15f",
   "metadata": {},
   "source": [
    "There are 13 columns:\n",
    "\n",
    "* Four ID columns as type integer - session and student_id\n",
    "* Four object columns, two should be dates - exercise, activity, start_time, and end_time\n",
    "* Seven integer columns - idle_time, mouse_wheel, mouse_wheel_click, mouse_click_left, mouse_click_right, mouse_movement, and keystoke\n",
    "\n",
    "There are no missing data."
   ]
  },
  {
   "cell_type": "code",
   "execution_count": 15,
   "id": "fd91a907",
   "metadata": {},
   "outputs": [],
   "source": [
    "inputs_df = inputs_init.copy()"
   ]
  },
  {
   "cell_type": "markdown",
   "id": "966d761a",
   "metadata": {},
   "source": [
    "#### Convert IDs and object variables to categorical type"
   ]
  },
  {
   "cell_type": "code",
   "execution_count": 16,
   "id": "a6736c50",
   "metadata": {},
   "outputs": [],
   "source": [
    "inputs_df.session =  inputs_df.session.astype('object')\n",
    "inputs_df.student_id =  inputs_df.student_id.astype('object')"
   ]
  },
  {
   "cell_type": "code",
   "execution_count": 17,
   "id": "ea25c217",
   "metadata": {},
   "outputs": [
    {
     "name": "stdout",
     "output_type": "stream",
     "text": [
      "<class 'pandas.core.frame.DataFrame'>\n",
      "Int64Index: 227129 entries, 0 to 644\n",
      "Data columns (total 13 columns):\n",
      " #   Column             Non-Null Count   Dtype \n",
      "---  ------             --------------   ----- \n",
      " 0   session            227129 non-null  object\n",
      " 1   student_id         227129 non-null  object\n",
      " 2   exercise           227129 non-null  object\n",
      " 3   activity           227129 non-null  object\n",
      " 4   start_time         227129 non-null  object\n",
      " 5   end_time           227129 non-null  object\n",
      " 6   idle_time          227129 non-null  int64 \n",
      " 7   mouse_wheel        227129 non-null  int64 \n",
      " 8   mouse_wheel_click  227129 non-null  int64 \n",
      " 9   mouse_click_left   227129 non-null  int64 \n",
      " 10  mouse_click_right  227129 non-null  int64 \n",
      " 11  mouse_movement     227129 non-null  int64 \n",
      " 12  keystroke          227129 non-null  int64 \n",
      "dtypes: int64(7), object(6)\n",
      "memory usage: 24.3+ MB\n"
     ]
    }
   ],
   "source": [
    "inputs_df.info()"
   ]
  },
  {
   "cell_type": "code",
   "execution_count": 18,
   "id": "88514ddb",
   "metadata": {},
   "outputs": [
    {
     "data": {
      "text/plain": [
       "session              0\n",
       "student_id           0\n",
       "exercise             0\n",
       "activity             0\n",
       "start_time           0\n",
       "end_time             0\n",
       "idle_time            0\n",
       "mouse_wheel          0\n",
       "mouse_wheel_click    0\n",
       "mouse_click_left     0\n",
       "mouse_click_right    0\n",
       "mouse_movement       0\n",
       "keystroke            0\n",
       "dtype: int64"
      ]
     },
     "execution_count": 18,
     "metadata": {},
     "output_type": "execute_result"
    }
   ],
   "source": [
    "inputs_df.isna().sum()"
   ]
  },
  {
   "cell_type": "code",
   "execution_count": 19,
   "id": "e4adc485",
   "metadata": {},
   "outputs": [
    {
     "data": {
      "text/plain": [
       "6"
      ]
     },
     "execution_count": 19,
     "metadata": {},
     "output_type": "execute_result"
    }
   ],
   "source": [
    "inputs_df.session.nunique()"
   ]
  },
  {
   "cell_type": "code",
   "execution_count": 20,
   "id": "d8784dcb",
   "metadata": {},
   "outputs": [
    {
     "data": {
      "text/plain": [
       "array([1, 2, 3, 4, 5, 6], dtype=object)"
      ]
     },
     "execution_count": 20,
     "metadata": {},
     "output_type": "execute_result"
    }
   ],
   "source": [
    "inputs_df.session.unique()"
   ]
  },
  {
   "cell_type": "code",
   "execution_count": 21,
   "id": "6898cf17",
   "metadata": {},
   "outputs": [
    {
     "data": {
      "text/plain": [
       "113"
      ]
     },
     "execution_count": 21,
     "metadata": {},
     "output_type": "execute_result"
    }
   ],
   "source": [
    "inputs_df.student_id.nunique()"
   ]
  },
  {
   "cell_type": "code",
   "execution_count": 22,
   "id": "440fd961",
   "metadata": {},
   "outputs": [
    {
     "data": {
      "text/plain": [
       "array([1, 2, 4, 5, 7, 9, 10, 11, 12, 14, 15, 17, 19, 20, 21, 22, 28, 30,\n",
       "       32, 34, 36, 37, 38, 39, 42, 43, 44, 46, 47, 49, 51, 52, 53, 54, 55,\n",
       "       56, 59, 62, 63, 66, 67, 68, 70, 71, 73, 74, 76, 78, 79, 80, 81, 82,\n",
       "       85, 86, 87, 88, 90, 91, 92, 93, 94, 96, 97, 98, 100, 101, 102, 104,\n",
       "       105, 108, 109, 110, 111, 112, 113, 114, 3, 6, 8, 16, 18, 24, 27,\n",
       "       29, 41, 48, 50, 61, 72, 83, 84, 95, 99, 103, 23, 25, 31, 35, 45,\n",
       "       69, 75, 89, 106, 13, 26, 33, 40, 57, 58, 60, 64, 65, 77],\n",
       "      dtype=object)"
      ]
     },
     "execution_count": 22,
     "metadata": {},
     "output_type": "execute_result"
    }
   ],
   "source": [
    "inputs_df.student_id.unique()"
   ]
  },
  {
   "cell_type": "code",
   "execution_count": 23,
   "id": "20272288",
   "metadata": {},
   "outputs": [
    {
     "data": {
      "text/plain": [
       "30"
      ]
     },
     "execution_count": 23,
     "metadata": {},
     "output_type": "execute_result"
    }
   ],
   "source": [
    "inputs_df.exercise.nunique()"
   ]
  },
  {
   "cell_type": "code",
   "execution_count": 24,
   "id": "afd2e6d2",
   "metadata": {},
   "outputs": [
    {
     "data": {
      "text/plain": [
       "array([' Es', ' Es_1_1', ' Es_1_2', ' Es_1_4', ' Es_1_3', ' Es_2_1',\n",
       "       ' Es_2_2', ' Es_2_3', ' Es_2_4', ' Es_2_5', ' Es_2_6', ' Es_3_1',\n",
       "       ' Es_3_2', ' Es_3_3', ' Es_3_4', ' Es_4_1', ' Es_4_2', ' Es_4_3',\n",
       "       ' Es_4_4', ' Es_4_5', ' Es_5_2', ' Es_5_1', ' Es_5_3', ' Es_5_4',\n",
       "       ' Es_6_1', ' Es_6_2', ' Es_6_3', ' Es_6_4', ' Es_6_6', ' Es_6_5'],\n",
       "      dtype=object)"
      ]
     },
     "execution_count": 24,
     "metadata": {},
     "output_type": "execute_result"
    }
   ],
   "source": [
    "inputs_df.exercise.unique()"
   ]
  },
  {
   "cell_type": "code",
   "execution_count": 25,
   "id": "265564e3",
   "metadata": {},
   "outputs": [],
   "source": [
    "inputs_df['exercise'] = inputs_df['exercise'].str.strip()"
   ]
  },
  {
   "cell_type": "code",
   "execution_count": 26,
   "id": "ee50bda2",
   "metadata": {},
   "outputs": [
    {
     "data": {
      "text/plain": [
       "99"
      ]
     },
     "execution_count": 26,
     "metadata": {},
     "output_type": "execute_result"
    }
   ],
   "source": [
    "inputs_df.activity.nunique()"
   ]
  },
  {
   "cell_type": "code",
   "execution_count": 27,
   "id": "37d9794c",
   "metadata": {},
   "outputs": [
    {
     "data": {
      "text/plain": [
       "array([' Other', ' Aulaweb', ' Blank', ' Deeds', ' Study_Es_1_1',\n",
       "       ' Deeds_Es_1_1', ' Properties', ' Diagram', ' Study_Es_1_2',\n",
       "       ' Study_Es_1_4', ' TextEditor', ' TextEditor_Es_3_1',\n",
       "       ' Deeds_Es_1_2', ' TextEditor_Es_1_2', ' TextEditor_Es_1_1',\n",
       "       ' Study_Es_1_3', ' Deeds_Es_1_3', ' TextEditor_Es_1_3',\n",
       "       ' Deeds_Es_1_4', ' TextEditor_Es_1_4', ' TextEditor_Es',\n",
       "       ' Deeds_Es', ' Study_Materials', ' TextEditor_Es_4_1',\n",
       "       ' Fsm_Related', ' TextEditor_Es_4_2', ' TextEditor_Es_4_3',\n",
       "       ' TextEditor_Es_4_4', ' Study_Es_2_1', ' Deeds_Es_2_1',\n",
       "       ' TextEditor_Es_2_1', ' Study_Es_2_2', ' Deeds_Es_2_2',\n",
       "       ' TextEditor_Es_2_2', ' Study_Es_2_3', ' Deeds_Es_2_3',\n",
       "       ' TextEditor_Es_2_3', ' Study_Es_2_4', ' TextEditor_Es_2_4',\n",
       "       ' Deeds_Es_2_4', ' Study_Es_2_5', ' TextEditor_Es_2_5',\n",
       "       ' Deeds_Es_2_5', ' Study_Es_2_6', ' TextEditor_Es_2_6',\n",
       "       ' Deeds_Es_2_6', ' TextEditor_Es_3_2', ' TextEditor_Es_3_3',\n",
       "       ' TextEditor_Es_3_4', ' TextEditor_Es_4_5', ' Study_Es_3_1',\n",
       "       ' Deeds_Es_3_1', ' Study_Es_3_2', ' Deeds_Es_3_2', ' Study_Es_3_3',\n",
       "       ' Deeds_Es_3_3', ' Study_Es_3_4', ' Deeds_Es_3_4', ' Study_Es_4_1',\n",
       "       ' Study_Es_4_2', ' Study_Es_4_3', ' Study_Es_4_4', ' Deeds_Es_4_1',\n",
       "       ' Deeds_Es_4_2', ' Deeds_Es_4_3', ' Deeds_Es_4_4', ' Deeds_Es_4_5',\n",
       "       ' Study_Es_4_5', ' TextEditor_Es_5_2', ' TextEditor_Es_5_1',\n",
       "       ' Study_Es_5_2', ' Deeds_Es_5_1', ' Study_Es_5_1', ' Deeds_Es_5_2',\n",
       "       ' Study_Es_5_3', ' TextEditor_Es_5_3', ' Deeds_Es_5_3',\n",
       "       ' Study_Es_5_4', ' Deeds_Es_5_4', ' TextEditor_Es_5_4',\n",
       "       ' FSM_Es_6_1', ' Study_Es_6_1', ' FSM_Related',\n",
       "       ' TextEditor_Es_6_1', ' Deeds_Es_6_1', ' Study_Es_6_2',\n",
       "       ' TextEditor_Es_6_2', ' FSM_Es_6_2', ' Deeds_Es_6_2',\n",
       "       ' Study_Es_6_3', ' TextEditor_Es_6_3', ' FSM_Es_6_3',\n",
       "       ' Study_Es_6_4', ' Study_Es_6_6', ' Study_Es_6_5',\n",
       "       ' TextEditor_Es_6_4', ' FSM_Es_6_4', ' TextEditor_Es_6_6',\n",
       "       ' TextEditor_Es_6_5'], dtype=object)"
      ]
     },
     "execution_count": 27,
     "metadata": {},
     "output_type": "execute_result"
    }
   ],
   "source": [
    "inputs_df.activity.unique()"
   ]
  },
  {
   "cell_type": "code",
   "execution_count": 28,
   "id": "77cd1301",
   "metadata": {},
   "outputs": [],
   "source": [
    "inputs_df['activity'] = inputs_df['activity'].str.strip()"
   ]
  },
  {
   "cell_type": "code",
   "execution_count": 29,
   "id": "0ec4fcd6",
   "metadata": {},
   "outputs": [
    {
     "data": {
      "text/plain": [
       "460"
      ]
     },
     "execution_count": 29,
     "metadata": {},
     "output_type": "execute_result"
    }
   ],
   "source": [
    "inputs_df.mouse_wheel.nunique()"
   ]
  },
  {
   "cell_type": "code",
   "execution_count": 30,
   "id": "4727f455",
   "metadata": {},
   "outputs": [
    {
     "data": {
      "text/plain": [
       "17"
      ]
     },
     "execution_count": 30,
     "metadata": {},
     "output_type": "execute_result"
    }
   ],
   "source": [
    "inputs_df.mouse_wheel_click.nunique()"
   ]
  },
  {
   "cell_type": "code",
   "execution_count": 31,
   "id": "e232bcd4",
   "metadata": {},
   "outputs": [
    {
     "data": {
      "text/plain": [
       "394"
      ]
     },
     "execution_count": 31,
     "metadata": {},
     "output_type": "execute_result"
    }
   ],
   "source": [
    "inputs_df.mouse_click_left.nunique()"
   ]
  },
  {
   "cell_type": "code",
   "execution_count": 32,
   "id": "09a4dece",
   "metadata": {},
   "outputs": [
    {
     "data": {
      "text/plain": [
       "75"
      ]
     },
     "execution_count": 32,
     "metadata": {},
     "output_type": "execute_result"
    }
   ],
   "source": [
    "inputs_df.mouse_click_right.nunique()"
   ]
  },
  {
   "cell_type": "code",
   "execution_count": 33,
   "id": "c00932e7",
   "metadata": {},
   "outputs": [
    {
     "data": {
      "text/plain": [
       "6221"
      ]
     },
     "execution_count": 33,
     "metadata": {},
     "output_type": "execute_result"
    }
   ],
   "source": [
    "inputs_df.mouse_movement.nunique()"
   ]
  },
  {
   "cell_type": "code",
   "execution_count": 34,
   "id": "9c3355f8",
   "metadata": {},
   "outputs": [
    {
     "data": {
      "text/plain": [
       "808"
      ]
     },
     "execution_count": 34,
     "metadata": {},
     "output_type": "execute_result"
    }
   ],
   "source": [
    "inputs_df.keystroke.nunique()"
   ]
  },
  {
   "cell_type": "markdown",
   "id": "59a5a960",
   "metadata": {},
   "source": [
    "#### Create column for total time between start and end times in milliseconds\n",
    "\n",
    "This is to be consistent with variable `idle_time`, which is the idle time in milliseconds."
   ]
  },
  {
   "cell_type": "code",
   "execution_count": 35,
   "id": "4434e764",
   "metadata": {},
   "outputs": [],
   "source": [
    "inputs_df['start_time'] = pd.to_datetime(inputs_df['start_time'])"
   ]
  },
  {
   "cell_type": "code",
   "execution_count": 36,
   "id": "3b22e090",
   "metadata": {},
   "outputs": [],
   "source": [
    "inputs_df['end_time'] = pd.to_datetime(inputs_df['end_time'])"
   ]
  },
  {
   "cell_type": "code",
   "execution_count": 37,
   "id": "5b8ae778",
   "metadata": {},
   "outputs": [],
   "source": [
    "inputs_df['time_delta'] = inputs_df['end_time'] - inputs_df['start_time']"
   ]
  },
  {
   "cell_type": "code",
   "execution_count": 38,
   "id": "ebee5582",
   "metadata": {},
   "outputs": [],
   "source": [
    "inputs_df['total_ms'] = inputs_df['time_delta'].dt.total_seconds() * 1000"
   ]
  },
  {
   "cell_type": "code",
   "execution_count": 39,
   "id": "4937e094",
   "metadata": {},
   "outputs": [
    {
     "name": "stdout",
     "output_type": "stream",
     "text": [
      "<class 'pandas.core.frame.DataFrame'>\n",
      "Int64Index: 227129 entries, 0 to 644\n",
      "Data columns (total 15 columns):\n",
      " #   Column             Non-Null Count   Dtype          \n",
      "---  ------             --------------   -----          \n",
      " 0   session            227129 non-null  object         \n",
      " 1   student_id         227129 non-null  object         \n",
      " 2   exercise           227129 non-null  object         \n",
      " 3   activity           227129 non-null  object         \n",
      " 4   start_time         227129 non-null  datetime64[ns] \n",
      " 5   end_time           227129 non-null  datetime64[ns] \n",
      " 6   idle_time          227129 non-null  int64          \n",
      " 7   mouse_wheel        227129 non-null  int64          \n",
      " 8   mouse_wheel_click  227129 non-null  int64          \n",
      " 9   mouse_click_left   227129 non-null  int64          \n",
      " 10  mouse_click_right  227129 non-null  int64          \n",
      " 11  mouse_movement     227129 non-null  int64          \n",
      " 12  keystroke          227129 non-null  int64          \n",
      " 13  time_delta         227129 non-null  timedelta64[ns]\n",
      " 14  total_ms           227129 non-null  float64        \n",
      "dtypes: datetime64[ns](2), float64(1), int64(7), object(4), timedelta64[ns](1)\n",
      "memory usage: 27.7+ MB\n"
     ]
    }
   ],
   "source": [
    "inputs_df.info()"
   ]
  },
  {
   "cell_type": "markdown",
   "id": "62294031",
   "metadata": {},
   "source": [
    "#### Activity key\n",
    "\n",
    "* Es: Exercise\n",
    "* #: Number\n",
    "* Deeds: Digital Electronics Education and Design Suite\n",
    "* Diagram: Simulation Timing Diagram\n",
    "* FSM: Finite State Machine Simulator"
   ]
  },
  {
   "cell_type": "markdown",
   "id": "2d0a02ae",
   "metadata": {},
   "source": [
    "#### Split activity group from the exercise"
   ]
  },
  {
   "cell_type": "code",
   "execution_count": 40,
   "id": "bee296df",
   "metadata": {},
   "outputs": [],
   "source": [
    "inputs_df['activity'] = inputs_df['activity'].str.strip()"
   ]
  },
  {
   "cell_type": "code",
   "execution_count": 41,
   "id": "c9c14fda",
   "metadata": {},
   "outputs": [],
   "source": [
    "inputs_df[['activity_group','activity_exercise']] = inputs_df.activity.str.split( '_Es', expand=True )"
   ]
  },
  {
   "cell_type": "code",
   "execution_count": 42,
   "id": "77f1fbd9",
   "metadata": {},
   "outputs": [
    {
     "data": {
      "text/plain": [
       "array(['Other', 'Aulaweb', 'Blank', 'Deeds', 'Study', 'Properties',\n",
       "       'Diagram', 'TextEditor', 'Study_Materials', 'Fsm_Related', 'FSM',\n",
       "       'FSM_Related'], dtype=object)"
      ]
     },
     "execution_count": 42,
     "metadata": {},
     "output_type": "execute_result"
    }
   ],
   "source": [
    "inputs_df.activity_group.unique()"
   ]
  },
  {
   "cell_type": "code",
   "execution_count": 43,
   "id": "b1b10f30",
   "metadata": {},
   "outputs": [],
   "source": [
    "inputs_df['activity_group'] = inputs_df['activity_group'].str.strip()"
   ]
  },
  {
   "cell_type": "code",
   "execution_count": 44,
   "id": "1fea8987",
   "metadata": {},
   "outputs": [
    {
     "data": {
      "text/plain": [
       "array(['Other', 'Aulaweb', 'Blank', 'Deeds', 'Study', 'Properties',\n",
       "       'Diagram', 'TextEditor', 'Study_Materials', 'Fsm_Related', 'FSM',\n",
       "       'FSM_Related'], dtype=object)"
      ]
     },
     "execution_count": 44,
     "metadata": {},
     "output_type": "execute_result"
    }
   ],
   "source": [
    "inputs_df.activity_group.unique()"
   ]
  },
  {
   "cell_type": "code",
   "execution_count": 45,
   "id": "31c24a33",
   "metadata": {},
   "outputs": [],
   "source": [
    "inputs_df['activity_exercise'] = inputs_df['activity_exercise'].str.replace(\"_\", \"Es_\", 1)"
   ]
  },
  {
   "cell_type": "code",
   "execution_count": 46,
   "id": "acf1ebc0",
   "metadata": {},
   "outputs": [],
   "source": [
    "inputs_df['activity_exercise'] = inputs_df['activity_exercise'].str.strip()"
   ]
  },
  {
   "cell_type": "code",
   "execution_count": 47,
   "id": "7515b9df",
   "metadata": {},
   "outputs": [
    {
     "data": {
      "text/plain": [
       "array([None, 'Es_1_1', 'Es_1_2', 'Es_1_4', 'Es_3_1', 'Es_1_3', '',\n",
       "       'Es_4_1', 'Es_4_2', 'Es_4_3', 'Es_4_4', 'Es_2_1', 'Es_2_2',\n",
       "       'Es_2_3', 'Es_2_4', 'Es_2_5', 'Es_2_6', 'Es_3_2', 'Es_3_3',\n",
       "       'Es_3_4', 'Es_4_5', 'Es_5_2', 'Es_5_1', 'Es_5_3', 'Es_5_4',\n",
       "       'Es_6_1', 'Es_6_2', 'Es_6_3', 'Es_6_4', 'Es_6_6', 'Es_6_5'],\n",
       "      dtype=object)"
      ]
     },
     "execution_count": 47,
     "metadata": {},
     "output_type": "execute_result"
    }
   ],
   "source": [
    "inputs_df.activity_exercise.unique()"
   ]
  },
  {
   "cell_type": "markdown",
   "id": "7f42a162",
   "metadata": {},
   "source": [
    "#### Check if `act_ex == exercise` for every row, and if so, delete `act_ex`. Otherwise keep `act_ex`."
   ]
  },
  {
   "cell_type": "code",
   "execution_count": 48,
   "id": "e3d77179",
   "metadata": {},
   "outputs": [],
   "source": [
    "activity_chk = inputs_df.copy()"
   ]
  },
  {
   "cell_type": "code",
   "execution_count": 49,
   "id": "6b32080b",
   "metadata": {},
   "outputs": [],
   "source": [
    "activity_chk['chk_sum'] = np.where((activity_chk['exercise'] != activity_chk['activity_exercise']) & ~(activity_chk['activity_exercise'].isna()) & ~(activity_chk['activity_exercise'] == ''), 1, 0)"
   ]
  },
  {
   "cell_type": "code",
   "execution_count": 50,
   "id": "6ecbc49a",
   "metadata": {},
   "outputs": [
    {
     "data": {
      "text/plain": [
       "328"
      ]
     },
     "execution_count": 50,
     "metadata": {},
     "output_type": "execute_result"
    }
   ],
   "source": [
    "activity_chk.chk_sum.sum()"
   ]
  },
  {
   "cell_type": "code",
   "execution_count": 51,
   "id": "205ef895",
   "metadata": {},
   "outputs": [
    {
     "data": {
      "text/html": [
       "<div>\n",
       "<style scoped>\n",
       "    .dataframe tbody tr th:only-of-type {\n",
       "        vertical-align: middle;\n",
       "    }\n",
       "\n",
       "    .dataframe tbody tr th {\n",
       "        vertical-align: top;\n",
       "    }\n",
       "\n",
       "    .dataframe thead th {\n",
       "        text-align: right;\n",
       "    }\n",
       "</style>\n",
       "<table border=\"1\" class=\"dataframe\">\n",
       "  <thead>\n",
       "    <tr style=\"text-align: right;\">\n",
       "      <th></th>\n",
       "      <th>session</th>\n",
       "      <th>student_id</th>\n",
       "      <th>exercise</th>\n",
       "      <th>activity</th>\n",
       "      <th>start_time</th>\n",
       "      <th>end_time</th>\n",
       "      <th>idle_time</th>\n",
       "      <th>mouse_wheel</th>\n",
       "      <th>mouse_wheel_click</th>\n",
       "      <th>mouse_click_left</th>\n",
       "      <th>mouse_click_right</th>\n",
       "      <th>mouse_movement</th>\n",
       "      <th>keystroke</th>\n",
       "      <th>time_delta</th>\n",
       "      <th>total_ms</th>\n",
       "      <th>activity_group</th>\n",
       "      <th>activity_exercise</th>\n",
       "      <th>chk_sum</th>\n",
       "    </tr>\n",
       "  </thead>\n",
       "  <tbody>\n",
       "    <tr>\n",
       "      <th>87</th>\n",
       "      <td>1</td>\n",
       "      <td>1</td>\n",
       "      <td>Es_1_1</td>\n",
       "      <td>TextEditor_Es_3_1</td>\n",
       "      <td>2014-02-10 11:58:18</td>\n",
       "      <td>2014-02-10 11:58:59</td>\n",
       "      <td>225830</td>\n",
       "      <td>5</td>\n",
       "      <td>0</td>\n",
       "      <td>20</td>\n",
       "      <td>4</td>\n",
       "      <td>1250</td>\n",
       "      <td>22</td>\n",
       "      <td>0 days 00:00:41</td>\n",
       "      <td>41000.0</td>\n",
       "      <td>TextEditor</td>\n",
       "      <td>Es_3_1</td>\n",
       "      <td>1</td>\n",
       "    </tr>\n",
       "    <tr>\n",
       "      <th>89</th>\n",
       "      <td>1</td>\n",
       "      <td>1</td>\n",
       "      <td>Es_1_1</td>\n",
       "      <td>TextEditor_Es_3_1</td>\n",
       "      <td>2014-02-10 11:59:04</td>\n",
       "      <td>2014-02-10 11:59:21</td>\n",
       "      <td>7357</td>\n",
       "      <td>0</td>\n",
       "      <td>0</td>\n",
       "      <td>8</td>\n",
       "      <td>0</td>\n",
       "      <td>1063</td>\n",
       "      <td>106</td>\n",
       "      <td>0 days 00:00:17</td>\n",
       "      <td>17000.0</td>\n",
       "      <td>TextEditor</td>\n",
       "      <td>Es_3_1</td>\n",
       "      <td>1</td>\n",
       "    </tr>\n",
       "    <tr>\n",
       "      <th>91</th>\n",
       "      <td>1</td>\n",
       "      <td>1</td>\n",
       "      <td>Es_1_1</td>\n",
       "      <td>TextEditor_Es_3_1</td>\n",
       "      <td>2014-02-10 11:59:33</td>\n",
       "      <td>2014-02-10 12:00:06</td>\n",
       "      <td>12660</td>\n",
       "      <td>5</td>\n",
       "      <td>0</td>\n",
       "      <td>48</td>\n",
       "      <td>0</td>\n",
       "      <td>2002</td>\n",
       "      <td>22</td>\n",
       "      <td>0 days 00:00:33</td>\n",
       "      <td>33000.0</td>\n",
       "      <td>TextEditor</td>\n",
       "      <td>Es_3_1</td>\n",
       "      <td>1</td>\n",
       "    </tr>\n",
       "    <tr>\n",
       "      <th>93</th>\n",
       "      <td>1</td>\n",
       "      <td>1</td>\n",
       "      <td>Es_1_1</td>\n",
       "      <td>TextEditor_Es_3_1</td>\n",
       "      <td>2014-02-10 12:00:14</td>\n",
       "      <td>2014-02-10 12:00:25</td>\n",
       "      <td>9681</td>\n",
       "      <td>0</td>\n",
       "      <td>0</td>\n",
       "      <td>10</td>\n",
       "      <td>0</td>\n",
       "      <td>375</td>\n",
       "      <td>18</td>\n",
       "      <td>0 days 00:00:11</td>\n",
       "      <td>11000.0</td>\n",
       "      <td>TextEditor</td>\n",
       "      <td>Es_3_1</td>\n",
       "      <td>1</td>\n",
       "    </tr>\n",
       "    <tr>\n",
       "      <th>103</th>\n",
       "      <td>1</td>\n",
       "      <td>1</td>\n",
       "      <td>Es_1_2</td>\n",
       "      <td>TextEditor_Es_3_1</td>\n",
       "      <td>2014-02-10 12:01:42</td>\n",
       "      <td>2014-02-10 12:01:42</td>\n",
       "      <td>0</td>\n",
       "      <td>0</td>\n",
       "      <td>0</td>\n",
       "      <td>2</td>\n",
       "      <td>0</td>\n",
       "      <td>48</td>\n",
       "      <td>0</td>\n",
       "      <td>0 days 00:00:00</td>\n",
       "      <td>0.0</td>\n",
       "      <td>TextEditor</td>\n",
       "      <td>Es_3_1</td>\n",
       "      <td>1</td>\n",
       "    </tr>\n",
       "    <tr>\n",
       "      <th>...</th>\n",
       "      <td>...</td>\n",
       "      <td>...</td>\n",
       "      <td>...</td>\n",
       "      <td>...</td>\n",
       "      <td>...</td>\n",
       "      <td>...</td>\n",
       "      <td>...</td>\n",
       "      <td>...</td>\n",
       "      <td>...</td>\n",
       "      <td>...</td>\n",
       "      <td>...</td>\n",
       "      <td>...</td>\n",
       "      <td>...</td>\n",
       "      <td>...</td>\n",
       "      <td>...</td>\n",
       "      <td>...</td>\n",
       "      <td>...</td>\n",
       "      <td>...</td>\n",
       "    </tr>\n",
       "    <tr>\n",
       "      <th>65</th>\n",
       "      <td>6</td>\n",
       "      <td>89</td>\n",
       "      <td>Es_6_1</td>\n",
       "      <td>TextEditor_Es_3_1</td>\n",
       "      <td>2014-11-12 12:29:35</td>\n",
       "      <td>2014-11-12 12:29:36</td>\n",
       "      <td>282</td>\n",
       "      <td>0</td>\n",
       "      <td>0</td>\n",
       "      <td>2</td>\n",
       "      <td>0</td>\n",
       "      <td>50</td>\n",
       "      <td>0</td>\n",
       "      <td>0 days 00:00:01</td>\n",
       "      <td>1000.0</td>\n",
       "      <td>TextEditor</td>\n",
       "      <td>Es_3_1</td>\n",
       "      <td>1</td>\n",
       "    </tr>\n",
       "    <tr>\n",
       "      <th>129</th>\n",
       "      <td>6</td>\n",
       "      <td>89</td>\n",
       "      <td>Es_6_1</td>\n",
       "      <td>TextEditor_Es_3_1</td>\n",
       "      <td>2014-11-12 12:35:51</td>\n",
       "      <td>2014-11-12 12:37:23</td>\n",
       "      <td>4077151</td>\n",
       "      <td>0</td>\n",
       "      <td>0</td>\n",
       "      <td>1</td>\n",
       "      <td>0</td>\n",
       "      <td>75</td>\n",
       "      <td>0</td>\n",
       "      <td>0 days 00:01:32</td>\n",
       "      <td>92000.0</td>\n",
       "      <td>TextEditor</td>\n",
       "      <td>Es_3_1</td>\n",
       "      <td>1</td>\n",
       "    </tr>\n",
       "    <tr>\n",
       "      <th>132</th>\n",
       "      <td>6</td>\n",
       "      <td>89</td>\n",
       "      <td>Es_6_1</td>\n",
       "      <td>TextEditor_Es_3_1</td>\n",
       "      <td>2014-11-12 12:38:16</td>\n",
       "      <td>2014-11-12 12:38:17</td>\n",
       "      <td>16</td>\n",
       "      <td>0</td>\n",
       "      <td>0</td>\n",
       "      <td>2</td>\n",
       "      <td>0</td>\n",
       "      <td>42</td>\n",
       "      <td>0</td>\n",
       "      <td>0 days 00:00:01</td>\n",
       "      <td>1000.0</td>\n",
       "      <td>TextEditor</td>\n",
       "      <td>Es_3_1</td>\n",
       "      <td>1</td>\n",
       "    </tr>\n",
       "    <tr>\n",
       "      <th>146</th>\n",
       "      <td>6</td>\n",
       "      <td>89</td>\n",
       "      <td>Es_6_1</td>\n",
       "      <td>TextEditor_Es_3_1</td>\n",
       "      <td>2014-11-12 12:43:25</td>\n",
       "      <td>2014-11-12 12:44:03</td>\n",
       "      <td>672476</td>\n",
       "      <td>0</td>\n",
       "      <td>0</td>\n",
       "      <td>2</td>\n",
       "      <td>0</td>\n",
       "      <td>58</td>\n",
       "      <td>0</td>\n",
       "      <td>0 days 00:00:38</td>\n",
       "      <td>38000.0</td>\n",
       "      <td>TextEditor</td>\n",
       "      <td>Es_3_1</td>\n",
       "      <td>1</td>\n",
       "    </tr>\n",
       "    <tr>\n",
       "      <th>161</th>\n",
       "      <td>6</td>\n",
       "      <td>89</td>\n",
       "      <td>Es_6_1</td>\n",
       "      <td>TextEditor_Es_3_1</td>\n",
       "      <td>2014-11-12 12:46:30</td>\n",
       "      <td>2014-11-12 12:48:21</td>\n",
       "      <td>6058802</td>\n",
       "      <td>0</td>\n",
       "      <td>0</td>\n",
       "      <td>2</td>\n",
       "      <td>0</td>\n",
       "      <td>87</td>\n",
       "      <td>0</td>\n",
       "      <td>0 days 00:01:51</td>\n",
       "      <td>111000.0</td>\n",
       "      <td>TextEditor</td>\n",
       "      <td>Es_3_1</td>\n",
       "      <td>1</td>\n",
       "    </tr>\n",
       "  </tbody>\n",
       "</table>\n",
       "<p>328 rows × 18 columns</p>\n",
       "</div>"
      ],
      "text/plain": [
       "    session student_id exercise           activity          start_time  \\\n",
       "87        1          1   Es_1_1  TextEditor_Es_3_1 2014-02-10 11:58:18   \n",
       "89        1          1   Es_1_1  TextEditor_Es_3_1 2014-02-10 11:59:04   \n",
       "91        1          1   Es_1_1  TextEditor_Es_3_1 2014-02-10 11:59:33   \n",
       "93        1          1   Es_1_1  TextEditor_Es_3_1 2014-02-10 12:00:14   \n",
       "103       1          1   Es_1_2  TextEditor_Es_3_1 2014-02-10 12:01:42   \n",
       "..      ...        ...      ...                ...                 ...   \n",
       "65        6         89   Es_6_1  TextEditor_Es_3_1 2014-11-12 12:29:35   \n",
       "129       6         89   Es_6_1  TextEditor_Es_3_1 2014-11-12 12:35:51   \n",
       "132       6         89   Es_6_1  TextEditor_Es_3_1 2014-11-12 12:38:16   \n",
       "146       6         89   Es_6_1  TextEditor_Es_3_1 2014-11-12 12:43:25   \n",
       "161       6         89   Es_6_1  TextEditor_Es_3_1 2014-11-12 12:46:30   \n",
       "\n",
       "               end_time  idle_time  mouse_wheel  mouse_wheel_click  \\\n",
       "87  2014-02-10 11:58:59     225830            5                  0   \n",
       "89  2014-02-10 11:59:21       7357            0                  0   \n",
       "91  2014-02-10 12:00:06      12660            5                  0   \n",
       "93  2014-02-10 12:00:25       9681            0                  0   \n",
       "103 2014-02-10 12:01:42          0            0                  0   \n",
       "..                  ...        ...          ...                ...   \n",
       "65  2014-11-12 12:29:36        282            0                  0   \n",
       "129 2014-11-12 12:37:23    4077151            0                  0   \n",
       "132 2014-11-12 12:38:17         16            0                  0   \n",
       "146 2014-11-12 12:44:03     672476            0                  0   \n",
       "161 2014-11-12 12:48:21    6058802            0                  0   \n",
       "\n",
       "     mouse_click_left  mouse_click_right  mouse_movement  keystroke  \\\n",
       "87                 20                  4            1250         22   \n",
       "89                  8                  0            1063        106   \n",
       "91                 48                  0            2002         22   \n",
       "93                 10                  0             375         18   \n",
       "103                 2                  0              48          0   \n",
       "..                ...                ...             ...        ...   \n",
       "65                  2                  0              50          0   \n",
       "129                 1                  0              75          0   \n",
       "132                 2                  0              42          0   \n",
       "146                 2                  0              58          0   \n",
       "161                 2                  0              87          0   \n",
       "\n",
       "         time_delta  total_ms activity_group activity_exercise  chk_sum  \n",
       "87  0 days 00:00:41   41000.0     TextEditor            Es_3_1        1  \n",
       "89  0 days 00:00:17   17000.0     TextEditor            Es_3_1        1  \n",
       "91  0 days 00:00:33   33000.0     TextEditor            Es_3_1        1  \n",
       "93  0 days 00:00:11   11000.0     TextEditor            Es_3_1        1  \n",
       "103 0 days 00:00:00       0.0     TextEditor            Es_3_1        1  \n",
       "..              ...       ...            ...               ...      ...  \n",
       "65  0 days 00:00:01    1000.0     TextEditor            Es_3_1        1  \n",
       "129 0 days 00:01:32   92000.0     TextEditor            Es_3_1        1  \n",
       "132 0 days 00:00:01    1000.0     TextEditor            Es_3_1        1  \n",
       "146 0 days 00:00:38   38000.0     TextEditor            Es_3_1        1  \n",
       "161 0 days 00:01:51  111000.0     TextEditor            Es_3_1        1  \n",
       "\n",
       "[328 rows x 18 columns]"
      ]
     },
     "execution_count": 51,
     "metadata": {},
     "output_type": "execute_result"
    }
   ],
   "source": [
    "activity_chk.loc[activity_chk.chk_sum == 1]"
   ]
  },
  {
   "cell_type": "code",
   "execution_count": 52,
   "id": "3eb64e26",
   "metadata": {},
   "outputs": [
    {
     "data": {
      "text/plain": [
       "(41900, 18)"
      ]
     },
     "execution_count": 52,
     "metadata": {},
     "output_type": "execute_result"
    }
   ],
   "source": [
    "activity_chk.loc[activity_chk['activity_group'] == 'TextEditor'].shape"
   ]
  },
  {
   "cell_type": "markdown",
   "id": "247defc4",
   "metadata": {},
   "source": [
    "#### Delete `activity` column from inputs_df. Keep `activity_grp` and `activity_ex` as replacement (328 rows have `activity_ex` that is not equal to `exercise`)."
   ]
  },
  {
   "cell_type": "code",
   "execution_count": 53,
   "id": "d69b0b8c",
   "metadata": {},
   "outputs": [],
   "source": [
    "inputs_out = inputs_df[['session', 'student_id', 'exercise','activity','activity_group', \n",
    "       'activity_exercise', 'start_time', 'end_time', 'total_ms', 'idle_time',\n",
    "       'mouse_wheel', 'mouse_wheel_click', 'mouse_click_left', 'mouse_click_right', \n",
    "       'mouse_movement', 'keystroke']].\\\n",
    "       rename(columns={'session': 'sess', 'student_id': 'sid', 'exercise': 'exer', 'activity': 'actv', \n",
    "       'activity_group': 'actv_grp', 'activity_exercise': 'actv_exer', 'start_time': 'start_dt', \n",
    "       'end_time': 'end_dt', 'idle_time': 'idle_ms', 'mouse_wheel': 'mw', 'mouse_wheel_click': 'mwc', \n",
    "       'mouse_click_left': 'mcl', 'mouse_click_right': 'mcr', 'mouse_movement': 'mm', 'keystroke': 'ks' }).\\\n",
    "       copy()"
   ]
  },
  {
   "cell_type": "code",
   "execution_count": 54,
   "id": "5ffe0d67",
   "metadata": {},
   "outputs": [
    {
     "name": "stdout",
     "output_type": "stream",
     "text": [
      "<class 'pandas.core.frame.DataFrame'>\n",
      "Int64Index: 227129 entries, 0 to 644\n",
      "Data columns (total 16 columns):\n",
      " #   Column     Non-Null Count   Dtype         \n",
      "---  ------     --------------   -----         \n",
      " 0   sess       227129 non-null  object        \n",
      " 1   sid        227129 non-null  object        \n",
      " 2   exer       227129 non-null  object        \n",
      " 3   actv       227129 non-null  object        \n",
      " 4   actv_grp   227129 non-null  object        \n",
      " 5   actv_exer  112679 non-null  object        \n",
      " 6   start_dt   227129 non-null  datetime64[ns]\n",
      " 7   end_dt     227129 non-null  datetime64[ns]\n",
      " 8   total_ms   227129 non-null  float64       \n",
      " 9   idle_ms    227129 non-null  int64         \n",
      " 10  mw         227129 non-null  int64         \n",
      " 11  mwc        227129 non-null  int64         \n",
      " 12  mcl        227129 non-null  int64         \n",
      " 13  mcr        227129 non-null  int64         \n",
      " 14  mm         227129 non-null  int64         \n",
      " 15  ks         227129 non-null  int64         \n",
      "dtypes: datetime64[ns](2), float64(1), int64(7), object(6)\n",
      "memory usage: 29.5+ MB\n"
     ]
    }
   ],
   "source": [
    "inputs_out.info()"
   ]
  },
  {
   "cell_type": "code",
   "execution_count": 55,
   "id": "6fe3c6dd",
   "metadata": {},
   "outputs": [],
   "source": [
    "inputs_out.to_csv('inputs_df.csv', index=False)"
   ]
  },
  {
   "cell_type": "markdown",
   "id": "167312c9",
   "metadata": {},
   "source": [
    "### Load the intermediate output data from github repository"
   ]
  },
  {
   "cell_type": "code",
   "execution_count": 56,
   "id": "f6f39239",
   "metadata": {},
   "outputs": [],
   "source": [
    "interim_path = 'https://raw.githubusercontent.com/lisaover/CMPINF2120_project/main/EPM%20Dataset%202/Data/intermediate_grades.csv'"
   ]
  },
  {
   "cell_type": "code",
   "execution_count": 57,
   "id": "fa85ed4c",
   "metadata": {},
   "outputs": [],
   "source": [
    "interim_init = pd.read_csv(interim_path)"
   ]
  },
  {
   "cell_type": "code",
   "execution_count": 58,
   "id": "56a98321",
   "metadata": {},
   "outputs": [
    {
     "name": "stdout",
     "output_type": "stream",
     "text": [
      "<class 'pandas.core.frame.DataFrame'>\n",
      "RangeIndex: 115 entries, 0 to 114\n",
      "Data columns (total 6 columns):\n",
      " #   Column      Non-Null Count  Dtype  \n",
      "---  ------      --------------  -----  \n",
      " 0   Student Id  115 non-null    int64  \n",
      " 1   Session 2   115 non-null    float64\n",
      " 2   Session 3   115 non-null    float64\n",
      " 3   Session 4   115 non-null    float64\n",
      " 4   Session 5   115 non-null    float64\n",
      " 5   Session 6   115 non-null    float64\n",
      "dtypes: float64(5), int64(1)\n",
      "memory usage: 5.5 KB\n"
     ]
    }
   ],
   "source": [
    "interim_init.info()"
   ]
  },
  {
   "cell_type": "code",
   "execution_count": 59,
   "id": "9d8010ce",
   "metadata": {},
   "outputs": [
    {
     "data": {
      "text/plain": [
       "Student Id    0\n",
       "Session 2     0\n",
       "Session 3     0\n",
       "Session 4     0\n",
       "Session 5     0\n",
       "Session 6     0\n",
       "dtype: int64"
      ]
     },
     "execution_count": 59,
     "metadata": {},
     "output_type": "execute_result"
    }
   ],
   "source": [
    "interim_init.isna().sum()"
   ]
  },
  {
   "cell_type": "code",
   "execution_count": 60,
   "id": "284cb7d7",
   "metadata": {},
   "outputs": [],
   "source": [
    "interim_df = interim_init.copy()"
   ]
  },
  {
   "cell_type": "markdown",
   "id": "77f05d05",
   "metadata": {},
   "source": [
    "#### Melt the dataset and clean up the variable names"
   ]
  },
  {
   "cell_type": "code",
   "execution_count": 61,
   "id": "ff1e90c2",
   "metadata": {},
   "outputs": [
    {
     "data": {
      "text/plain": [
       "Index(['Student Id', 'Session 2', 'Session 3', 'Session 4', 'Session 5',\n",
       "       'Session 6'],\n",
       "      dtype='object')"
      ]
     },
     "execution_count": 61,
     "metadata": {},
     "output_type": "execute_result"
    }
   ],
   "source": [
    "interim_df.columns"
   ]
  },
  {
   "cell_type": "code",
   "execution_count": 62,
   "id": "afb90994",
   "metadata": {},
   "outputs": [],
   "source": [
    "interim_lf = interim_df.melt( id_vars=['Student Id'] ).copy()"
   ]
  },
  {
   "cell_type": "code",
   "execution_count": 63,
   "id": "9afb3e4d",
   "metadata": {},
   "outputs": [
    {
     "data": {
      "text/html": [
       "<div>\n",
       "<style scoped>\n",
       "    .dataframe tbody tr th:only-of-type {\n",
       "        vertical-align: middle;\n",
       "    }\n",
       "\n",
       "    .dataframe tbody tr th {\n",
       "        vertical-align: top;\n",
       "    }\n",
       "\n",
       "    .dataframe thead th {\n",
       "        text-align: right;\n",
       "    }\n",
       "</style>\n",
       "<table border=\"1\" class=\"dataframe\">\n",
       "  <thead>\n",
       "    <tr style=\"text-align: right;\">\n",
       "      <th></th>\n",
       "      <th>Student Id</th>\n",
       "      <th>variable</th>\n",
       "      <th>value</th>\n",
       "    </tr>\n",
       "  </thead>\n",
       "  <tbody>\n",
       "    <tr>\n",
       "      <th>0</th>\n",
       "      <td>1</td>\n",
       "      <td>Session 2</td>\n",
       "      <td>5.0</td>\n",
       "    </tr>\n",
       "    <tr>\n",
       "      <th>1</th>\n",
       "      <td>2</td>\n",
       "      <td>Session 2</td>\n",
       "      <td>4.0</td>\n",
       "    </tr>\n",
       "    <tr>\n",
       "      <th>2</th>\n",
       "      <td>3</td>\n",
       "      <td>Session 2</td>\n",
       "      <td>3.5</td>\n",
       "    </tr>\n",
       "    <tr>\n",
       "      <th>3</th>\n",
       "      <td>4</td>\n",
       "      <td>Session 2</td>\n",
       "      <td>6.0</td>\n",
       "    </tr>\n",
       "    <tr>\n",
       "      <th>4</th>\n",
       "      <td>5</td>\n",
       "      <td>Session 2</td>\n",
       "      <td>5.0</td>\n",
       "    </tr>\n",
       "    <tr>\n",
       "      <th>...</th>\n",
       "      <td>...</td>\n",
       "      <td>...</td>\n",
       "      <td>...</td>\n",
       "    </tr>\n",
       "    <tr>\n",
       "      <th>570</th>\n",
       "      <td>111</td>\n",
       "      <td>Session 6</td>\n",
       "      <td>0.0</td>\n",
       "    </tr>\n",
       "    <tr>\n",
       "      <th>571</th>\n",
       "      <td>112</td>\n",
       "      <td>Session 6</td>\n",
       "      <td>0.0</td>\n",
       "    </tr>\n",
       "    <tr>\n",
       "      <th>572</th>\n",
       "      <td>113</td>\n",
       "      <td>Session 6</td>\n",
       "      <td>0.0</td>\n",
       "    </tr>\n",
       "    <tr>\n",
       "      <th>573</th>\n",
       "      <td>114</td>\n",
       "      <td>Session 6</td>\n",
       "      <td>0.0</td>\n",
       "    </tr>\n",
       "    <tr>\n",
       "      <th>574</th>\n",
       "      <td>115</td>\n",
       "      <td>Session 6</td>\n",
       "      <td>0.0</td>\n",
       "    </tr>\n",
       "  </tbody>\n",
       "</table>\n",
       "<p>575 rows × 3 columns</p>\n",
       "</div>"
      ],
      "text/plain": [
       "     Student Id   variable  value\n",
       "0             1  Session 2    5.0\n",
       "1             2  Session 2    4.0\n",
       "2             3  Session 2    3.5\n",
       "3             4  Session 2    6.0\n",
       "4             5  Session 2    5.0\n",
       "..          ...        ...    ...\n",
       "570         111  Session 6    0.0\n",
       "571         112  Session 6    0.0\n",
       "572         113  Session 6    0.0\n",
       "573         114  Session 6    0.0\n",
       "574         115  Session 6    0.0\n",
       "\n",
       "[575 rows x 3 columns]"
      ]
     },
     "execution_count": 63,
     "metadata": {},
     "output_type": "execute_result"
    }
   ],
   "source": [
    "interim_lf"
   ]
  },
  {
   "cell_type": "code",
   "execution_count": 64,
   "id": "694d2d18",
   "metadata": {},
   "outputs": [
    {
     "data": {
      "text/plain": [
       "array(['Session 2', 'Session 3', 'Session 4', 'Session 5', 'Session 6'],\n",
       "      dtype=object)"
      ]
     },
     "execution_count": 64,
     "metadata": {},
     "output_type": "execute_result"
    }
   ],
   "source": [
    "interim_lf.variable.unique()"
   ]
  },
  {
   "cell_type": "code",
   "execution_count": 65,
   "id": "0e039c10",
   "metadata": {},
   "outputs": [],
   "source": [
    "interim_lf['variable'] = interim_lf['variable'].str.replace(\"Session\", \"interim\", regex=True)"
   ]
  },
  {
   "cell_type": "code",
   "execution_count": 66,
   "id": "4fb3dfdc",
   "metadata": {},
   "outputs": [],
   "source": [
    "interim_lf['variable'] = interim_lf['variable'].str.replace(\"[ ]\", \"_scr\", regex=True)"
   ]
  },
  {
   "cell_type": "code",
   "execution_count": 67,
   "id": "8c915760",
   "metadata": {},
   "outputs": [
    {
     "data": {
      "text/plain": [
       "array(['interim_scr2', 'interim_scr3', 'interim_scr4', 'interim_scr5',\n",
       "       'interim_scr6'], dtype=object)"
      ]
     },
     "execution_count": 67,
     "metadata": {},
     "output_type": "execute_result"
    }
   ],
   "source": [
    "interim_lf.variable.unique()"
   ]
  },
  {
   "cell_type": "markdown",
   "id": "86816cfc",
   "metadata": {},
   "source": [
    "#### Pivot interim_lf to wide dataset and ouput to CSV"
   ]
  },
  {
   "cell_type": "code",
   "execution_count": 68,
   "id": "d3581638",
   "metadata": {},
   "outputs": [
    {
     "data": {
      "text/html": [
       "<div>\n",
       "<style scoped>\n",
       "    .dataframe tbody tr th:only-of-type {\n",
       "        vertical-align: middle;\n",
       "    }\n",
       "\n",
       "    .dataframe tbody tr th {\n",
       "        vertical-align: top;\n",
       "    }\n",
       "\n",
       "    .dataframe thead th {\n",
       "        text-align: right;\n",
       "    }\n",
       "</style>\n",
       "<table border=\"1\" class=\"dataframe\">\n",
       "  <thead>\n",
       "    <tr style=\"text-align: right;\">\n",
       "      <th>variable</th>\n",
       "      <th>Student Id</th>\n",
       "      <th>interim_scr2</th>\n",
       "      <th>interim_scr3</th>\n",
       "      <th>interim_scr4</th>\n",
       "      <th>interim_scr5</th>\n",
       "      <th>interim_scr6</th>\n",
       "    </tr>\n",
       "  </thead>\n",
       "  <tbody>\n",
       "    <tr>\n",
       "      <th>0</th>\n",
       "      <td>1</td>\n",
       "      <td>5.0</td>\n",
       "      <td>0.0</td>\n",
       "      <td>4.5</td>\n",
       "      <td>4.0</td>\n",
       "      <td>2.25</td>\n",
       "    </tr>\n",
       "    <tr>\n",
       "      <th>1</th>\n",
       "      <td>2</td>\n",
       "      <td>4.0</td>\n",
       "      <td>3.5</td>\n",
       "      <td>4.5</td>\n",
       "      <td>4.0</td>\n",
       "      <td>1.00</td>\n",
       "    </tr>\n",
       "    <tr>\n",
       "      <th>2</th>\n",
       "      <td>3</td>\n",
       "      <td>3.5</td>\n",
       "      <td>3.5</td>\n",
       "      <td>4.5</td>\n",
       "      <td>4.0</td>\n",
       "      <td>0.00</td>\n",
       "    </tr>\n",
       "    <tr>\n",
       "      <th>3</th>\n",
       "      <td>4</td>\n",
       "      <td>6.0</td>\n",
       "      <td>4.0</td>\n",
       "      <td>5.0</td>\n",
       "      <td>3.5</td>\n",
       "      <td>2.75</td>\n",
       "    </tr>\n",
       "    <tr>\n",
       "      <th>4</th>\n",
       "      <td>5</td>\n",
       "      <td>5.0</td>\n",
       "      <td>4.0</td>\n",
       "      <td>5.0</td>\n",
       "      <td>4.0</td>\n",
       "      <td>2.75</td>\n",
       "    </tr>\n",
       "    <tr>\n",
       "      <th>...</th>\n",
       "      <td>...</td>\n",
       "      <td>...</td>\n",
       "      <td>...</td>\n",
       "      <td>...</td>\n",
       "      <td>...</td>\n",
       "      <td>...</td>\n",
       "    </tr>\n",
       "    <tr>\n",
       "      <th>110</th>\n",
       "      <td>111</td>\n",
       "      <td>3.0</td>\n",
       "      <td>0.0</td>\n",
       "      <td>0.0</td>\n",
       "      <td>3.0</td>\n",
       "      <td>0.00</td>\n",
       "    </tr>\n",
       "    <tr>\n",
       "      <th>111</th>\n",
       "      <td>112</td>\n",
       "      <td>0.0</td>\n",
       "      <td>0.0</td>\n",
       "      <td>0.0</td>\n",
       "      <td>0.0</td>\n",
       "      <td>0.00</td>\n",
       "    </tr>\n",
       "    <tr>\n",
       "      <th>112</th>\n",
       "      <td>113</td>\n",
       "      <td>0.0</td>\n",
       "      <td>0.0</td>\n",
       "      <td>0.0</td>\n",
       "      <td>0.0</td>\n",
       "      <td>0.00</td>\n",
       "    </tr>\n",
       "    <tr>\n",
       "      <th>113</th>\n",
       "      <td>114</td>\n",
       "      <td>0.0</td>\n",
       "      <td>0.0</td>\n",
       "      <td>0.0</td>\n",
       "      <td>0.0</td>\n",
       "      <td>0.00</td>\n",
       "    </tr>\n",
       "    <tr>\n",
       "      <th>114</th>\n",
       "      <td>115</td>\n",
       "      <td>0.0</td>\n",
       "      <td>0.0</td>\n",
       "      <td>0.0</td>\n",
       "      <td>0.0</td>\n",
       "      <td>0.00</td>\n",
       "    </tr>\n",
       "  </tbody>\n",
       "</table>\n",
       "<p>115 rows × 6 columns</p>\n",
       "</div>"
      ],
      "text/plain": [
       "variable  Student Id  interim_scr2  interim_scr3  interim_scr4  interim_scr5  \\\n",
       "0                  1           5.0           0.0           4.5           4.0   \n",
       "1                  2           4.0           3.5           4.5           4.0   \n",
       "2                  3           3.5           3.5           4.5           4.0   \n",
       "3                  4           6.0           4.0           5.0           3.5   \n",
       "4                  5           5.0           4.0           5.0           4.0   \n",
       "..               ...           ...           ...           ...           ...   \n",
       "110              111           3.0           0.0           0.0           3.0   \n",
       "111              112           0.0           0.0           0.0           0.0   \n",
       "112              113           0.0           0.0           0.0           0.0   \n",
       "113              114           0.0           0.0           0.0           0.0   \n",
       "114              115           0.0           0.0           0.0           0.0   \n",
       "\n",
       "variable  interim_scr6  \n",
       "0                 2.25  \n",
       "1                 1.00  \n",
       "2                 0.00  \n",
       "3                 2.75  \n",
       "4                 2.75  \n",
       "..                 ...  \n",
       "110               0.00  \n",
       "111               0.00  \n",
       "112               0.00  \n",
       "113               0.00  \n",
       "114               0.00  \n",
       "\n",
       "[115 rows x 6 columns]"
      ]
     },
     "execution_count": 68,
     "metadata": {},
     "output_type": "execute_result"
    }
   ],
   "source": [
    "interim_out = interim_lf.reset_index().loc[:, ['Student Id','variable','value']].\\\n",
    "                pivot(index=['Student Id'], columns='variable', values='value').\\\n",
    "                reset_index().copy()\n",
    "\n",
    "interim_out"
   ]
  },
  {
   "cell_type": "markdown",
   "id": "3456b7a9",
   "metadata": {},
   "source": [
    "#### Rename `Student ID` to match input dataset"
   ]
  },
  {
   "cell_type": "code",
   "execution_count": 69,
   "id": "4d727c75",
   "metadata": {},
   "outputs": [],
   "source": [
    "interim_out.rename(columns={\"Student Id\": \"sid\"}, inplace=True)"
   ]
  },
  {
   "cell_type": "code",
   "execution_count": 70,
   "id": "d0c5751c",
   "metadata": {},
   "outputs": [
    {
     "data": {
      "text/plain": [
       "Index(['Student Id', 'Session 2', 'Session 3', 'Session 4', 'Session 5',\n",
       "       'Session 6'],\n",
       "      dtype='object')"
      ]
     },
     "execution_count": 70,
     "metadata": {},
     "output_type": "execute_result"
    }
   ],
   "source": [
    "interim_df.columns"
   ]
  },
  {
   "cell_type": "code",
   "execution_count": 71,
   "id": "84d621f5",
   "metadata": {},
   "outputs": [
    {
     "data": {
      "text/plain": [
       "Index(['sid', 'interim_scr2', 'interim_scr3', 'interim_scr4', 'interim_scr5',\n",
       "       'interim_scr6'],\n",
       "      dtype='object', name='variable')"
      ]
     },
     "execution_count": 71,
     "metadata": {},
     "output_type": "execute_result"
    }
   ],
   "source": [
    "interim_out.columns"
   ]
  },
  {
   "cell_type": "code",
   "execution_count": 72,
   "id": "3d9a6b14",
   "metadata": {},
   "outputs": [],
   "source": [
    "interim_out.to_csv('interim_df.csv', index=False)"
   ]
  },
  {
   "cell_type": "markdown",
   "id": "5bd6eaa5",
   "metadata": {},
   "source": [
    "### Load the final output data from github repository"
   ]
  },
  {
   "cell_type": "code",
   "execution_count": 73,
   "id": "4ff7d049",
   "metadata": {},
   "outputs": [],
   "source": [
    "final_path = 'https://raw.githubusercontent.com/lisaover/CMPINF2120_project/main/EPM%20Dataset%202/Data/final_grades.csv'"
   ]
  },
  {
   "cell_type": "code",
   "execution_count": 74,
   "id": "384a0523",
   "metadata": {},
   "outputs": [],
   "source": [
    "final_init = pd.read_csv(final_path)"
   ]
  },
  {
   "cell_type": "code",
   "execution_count": 75,
   "id": "8cd9059e",
   "metadata": {},
   "outputs": [
    {
     "name": "stdout",
     "output_type": "stream",
     "text": [
      "<class 'pandas.core.frame.DataFrame'>\n",
      "RangeIndex: 62 entries, 0 to 61\n",
      "Data columns (total 18 columns):\n",
      " #   Column              Non-Null Count  Dtype  \n",
      "---  ------              --------------  -----  \n",
      " 0   Student ID          62 non-null     int64  \n",
      " 1   ES 1.1 \n",
      "(2 points)  62 non-null     float64\n",
      " 2   ES 1.2 \n",
      "(3 points)  62 non-null     float64\n",
      " 3   ES 2.1\n",
      "(2 points)   62 non-null     float64\n",
      " 4   ES 2.2\n",
      "(3 points)   62 non-null     float64\n",
      " 5   ES 3.1\n",
      "(1 points)   62 non-null     float64\n",
      " 6   ES 3.2\n",
      "(2 points)   62 non-null     float64\n",
      " 7   ES 3.3\n",
      "(2 points)   62 non-null     float64\n",
      " 8   ES 3.4\n",
      "(2 points)   62 non-null     float64\n",
      " 9   ES 3.5\n",
      "(3 points)   62 non-null     float64\n",
      " 10  ES 4.1\n",
      "(15 points)  62 non-null     float64\n",
      " 11  ES 4.2\n",
      "(10 points)  62 non-null     float64\n",
      " 12  ES 5.1\n",
      "(2 points)   62 non-null     float64\n",
      " 13  ES 5.2\n",
      "(10 points)  62 non-null     float64\n",
      " 14  ES 5.3\n",
      "(3 points)   62 non-null     float64\n",
      " 15  ES 6.1\n",
      "(25 points)  62 non-null     float64\n",
      " 16  ES 6.2\n",
      "(15 points)  62 non-null     float64\n",
      " 17  TOTAL\n",
      "(100 points)  62 non-null     float64\n",
      "dtypes: float64(17), int64(1)\n",
      "memory usage: 8.8 KB\n"
     ]
    }
   ],
   "source": [
    "final_init.info()"
   ]
  },
  {
   "cell_type": "code",
   "execution_count": 76,
   "id": "6ac64b64",
   "metadata": {},
   "outputs": [
    {
     "data": {
      "text/plain": [
       "Student ID             0\n",
       "ES 1.1 \\n(2 points)    0\n",
       "ES 1.2 \\n(3 points)    0\n",
       "ES 2.1\\n(2 points)     0\n",
       "ES 2.2\\n(3 points)     0\n",
       "ES 3.1\\n(1 points)     0\n",
       "ES 3.2\\n(2 points)     0\n",
       "ES 3.3\\n(2 points)     0\n",
       "ES 3.4\\n(2 points)     0\n",
       "ES 3.5\\n(3 points)     0\n",
       "ES 4.1\\n(15 points)    0\n",
       "ES 4.2\\n(10 points)    0\n",
       "ES 5.1\\n(2 points)     0\n",
       "ES 5.2\\n(10 points)    0\n",
       "ES 5.3\\n(3 points)     0\n",
       "ES 6.1\\n(25 points)    0\n",
       "ES 6.2\\n(15 points)    0\n",
       "TOTAL\\n(100 points)    0\n",
       "dtype: int64"
      ]
     },
     "execution_count": 76,
     "metadata": {},
     "output_type": "execute_result"
    }
   ],
   "source": [
    "final_init.isna().sum()"
   ]
  },
  {
   "cell_type": "code",
   "execution_count": 77,
   "id": "9c87ecc5",
   "metadata": {},
   "outputs": [],
   "source": [
    "final_df = final_init.copy()"
   ]
  },
  {
   "cell_type": "markdown",
   "id": "dc7fdf84",
   "metadata": {},
   "source": [
    "#### Melt final dataset and clean up the column names \n",
    "\n",
    "Make the exercise (ES #.#) equal the execise variable in the input dataset"
   ]
  },
  {
   "cell_type": "code",
   "execution_count": 78,
   "id": "be3fecfe",
   "metadata": {},
   "outputs": [
    {
     "data": {
      "text/plain": [
       "Index(['Student ID', 'ES 1.1 \\n(2 points)', 'ES 1.2 \\n(3 points)',\n",
       "       'ES 2.1\\n(2 points)', 'ES 2.2\\n(3 points)', 'ES 3.1\\n(1 points)',\n",
       "       'ES 3.2\\n(2 points)', 'ES 3.3\\n(2 points)', 'ES 3.4\\n(2 points)',\n",
       "       'ES 3.5\\n(3 points)', 'ES 4.1\\n(15 points)', 'ES 4.2\\n(10 points)',\n",
       "       'ES 5.1\\n(2 points)', 'ES 5.2\\n(10 points)', 'ES 5.3\\n(3 points)',\n",
       "       'ES 6.1\\n(25 points)', 'ES 6.2\\n(15 points)', 'TOTAL\\n(100 points)'],\n",
       "      dtype='object')"
      ]
     },
     "execution_count": 78,
     "metadata": {},
     "output_type": "execute_result"
    }
   ],
   "source": [
    "final_df.columns"
   ]
  },
  {
   "cell_type": "markdown",
   "id": "ca4f61e2",
   "metadata": {},
   "source": [
    "#### Melt final_df and clean up variable names"
   ]
  },
  {
   "cell_type": "code",
   "execution_count": 79,
   "id": "71acdfa7",
   "metadata": {},
   "outputs": [],
   "source": [
    "final_lf = final_df.melt( id_vars=['Student ID'], value_vars=['ES 1.1 \\n(2 points)', 'ES 1.2 \\n(3 points)',\n",
    "       'ES 2.1\\n(2 points)', 'ES 2.2\\n(3 points)', 'ES 3.1\\n(1 points)',\n",
    "       'ES 3.2\\n(2 points)', 'ES 3.3\\n(2 points)', 'ES 3.4\\n(2 points)',\n",
    "       'ES 3.5\\n(3 points)', 'ES 4.1\\n(15 points)', 'ES 4.2\\n(10 points)',\n",
    "       'ES 5.1\\n(2 points)', 'ES 5.2\\n(10 points)', 'ES 5.3\\n(3 points)',\n",
    "       'ES 6.1\\n(25 points)', 'ES 6.2\\n(15 points)', 'TOTAL\\n(100 points)'] ).copy()"
   ]
  },
  {
   "cell_type": "code",
   "execution_count": 80,
   "id": "d6ca50bc",
   "metadata": {},
   "outputs": [
    {
     "data": {
      "text/html": [
       "<div>\n",
       "<style scoped>\n",
       "    .dataframe tbody tr th:only-of-type {\n",
       "        vertical-align: middle;\n",
       "    }\n",
       "\n",
       "    .dataframe tbody tr th {\n",
       "        vertical-align: top;\n",
       "    }\n",
       "\n",
       "    .dataframe thead th {\n",
       "        text-align: right;\n",
       "    }\n",
       "</style>\n",
       "<table border=\"1\" class=\"dataframe\">\n",
       "  <thead>\n",
       "    <tr style=\"text-align: right;\">\n",
       "      <th></th>\n",
       "      <th>Student ID</th>\n",
       "      <th>variable</th>\n",
       "      <th>value</th>\n",
       "    </tr>\n",
       "  </thead>\n",
       "  <tbody>\n",
       "    <tr>\n",
       "      <th>0</th>\n",
       "      <td>1</td>\n",
       "      <td>ES 1.1 \\n(2 points)</td>\n",
       "      <td>2.0</td>\n",
       "    </tr>\n",
       "    <tr>\n",
       "      <th>1</th>\n",
       "      <td>2</td>\n",
       "      <td>ES 1.1 \\n(2 points)</td>\n",
       "      <td>2.0</td>\n",
       "    </tr>\n",
       "    <tr>\n",
       "      <th>2</th>\n",
       "      <td>4</td>\n",
       "      <td>ES 1.1 \\n(2 points)</td>\n",
       "      <td>2.0</td>\n",
       "    </tr>\n",
       "    <tr>\n",
       "      <th>3</th>\n",
       "      <td>5</td>\n",
       "      <td>ES 1.1 \\n(2 points)</td>\n",
       "      <td>2.0</td>\n",
       "    </tr>\n",
       "    <tr>\n",
       "      <th>4</th>\n",
       "      <td>7</td>\n",
       "      <td>ES 1.1 \\n(2 points)</td>\n",
       "      <td>2.0</td>\n",
       "    </tr>\n",
       "    <tr>\n",
       "      <th>...</th>\n",
       "      <td>...</td>\n",
       "      <td>...</td>\n",
       "      <td>...</td>\n",
       "    </tr>\n",
       "    <tr>\n",
       "      <th>1049</th>\n",
       "      <td>101</td>\n",
       "      <td>TOTAL\\n(100 points)</td>\n",
       "      <td>32.0</td>\n",
       "    </tr>\n",
       "    <tr>\n",
       "      <th>1050</th>\n",
       "      <td>102</td>\n",
       "      <td>TOTAL\\n(100 points)</td>\n",
       "      <td>31.5</td>\n",
       "    </tr>\n",
       "    <tr>\n",
       "      <th>1051</th>\n",
       "      <td>103</td>\n",
       "      <td>TOTAL\\n(100 points)</td>\n",
       "      <td>18.5</td>\n",
       "    </tr>\n",
       "    <tr>\n",
       "      <th>1052</th>\n",
       "      <td>104</td>\n",
       "      <td>TOTAL\\n(100 points)</td>\n",
       "      <td>92.0</td>\n",
       "    </tr>\n",
       "    <tr>\n",
       "      <th>1053</th>\n",
       "      <td>106</td>\n",
       "      <td>TOTAL\\n(100 points)</td>\n",
       "      <td>71.0</td>\n",
       "    </tr>\n",
       "  </tbody>\n",
       "</table>\n",
       "<p>1054 rows × 3 columns</p>\n",
       "</div>"
      ],
      "text/plain": [
       "      Student ID             variable  value\n",
       "0              1  ES 1.1 \\n(2 points)    2.0\n",
       "1              2  ES 1.1 \\n(2 points)    2.0\n",
       "2              4  ES 1.1 \\n(2 points)    2.0\n",
       "3              5  ES 1.1 \\n(2 points)    2.0\n",
       "4              7  ES 1.1 \\n(2 points)    2.0\n",
       "...          ...                  ...    ...\n",
       "1049         101  TOTAL\\n(100 points)   32.0\n",
       "1050         102  TOTAL\\n(100 points)   31.5\n",
       "1051         103  TOTAL\\n(100 points)   18.5\n",
       "1052         104  TOTAL\\n(100 points)   92.0\n",
       "1053         106  TOTAL\\n(100 points)   71.0\n",
       "\n",
       "[1054 rows x 3 columns]"
      ]
     },
     "execution_count": 80,
     "metadata": {},
     "output_type": "execute_result"
    }
   ],
   "source": [
    "final_lf"
   ]
  },
  {
   "cell_type": "code",
   "execution_count": 81,
   "id": "81bcce99",
   "metadata": {},
   "outputs": [],
   "source": [
    "final_lf[['question','point_str']] = final_lf.variable.str.split( '\\n', expand=True )"
   ]
  },
  {
   "cell_type": "code",
   "execution_count": 82,
   "id": "5a2c6505",
   "metadata": {},
   "outputs": [],
   "source": [
    "final_lf['question'] = final_lf['question'].str.rstrip()"
   ]
  },
  {
   "cell_type": "code",
   "execution_count": 83,
   "id": "a9b01961",
   "metadata": {},
   "outputs": [],
   "source": [
    "final_lf['question'] = final_lf['question'].str.replace(\"[S]\", \"s\", regex=True)"
   ]
  },
  {
   "cell_type": "code",
   "execution_count": 84,
   "id": "454ff28d",
   "metadata": {},
   "outputs": [],
   "source": [
    "final_lf['question'] = final_lf['question'].str.replace(\"[ ]\", \"_\", regex=True)"
   ]
  },
  {
   "cell_type": "code",
   "execution_count": 85,
   "id": "db888a11",
   "metadata": {},
   "outputs": [],
   "source": [
    "final_lf['question'] = final_lf['question'].str.replace(\"[ .]\", \"q\", regex=True)"
   ]
  },
  {
   "cell_type": "code",
   "execution_count": 86,
   "id": "a6ea191b",
   "metadata": {},
   "outputs": [],
   "source": [
    "final_lf.drop(['variable'], axis=1, inplace=True)"
   ]
  },
  {
   "cell_type": "code",
   "execution_count": 87,
   "id": "592e8dda",
   "metadata": {},
   "outputs": [
    {
     "data": {
      "text/html": [
       "<div>\n",
       "<style scoped>\n",
       "    .dataframe tbody tr th:only-of-type {\n",
       "        vertical-align: middle;\n",
       "    }\n",
       "\n",
       "    .dataframe tbody tr th {\n",
       "        vertical-align: top;\n",
       "    }\n",
       "\n",
       "    .dataframe thead th {\n",
       "        text-align: right;\n",
       "    }\n",
       "</style>\n",
       "<table border=\"1\" class=\"dataframe\">\n",
       "  <thead>\n",
       "    <tr style=\"text-align: right;\">\n",
       "      <th></th>\n",
       "      <th>Student ID</th>\n",
       "      <th>value</th>\n",
       "      <th>question</th>\n",
       "      <th>point_str</th>\n",
       "    </tr>\n",
       "  </thead>\n",
       "  <tbody>\n",
       "    <tr>\n",
       "      <th>0</th>\n",
       "      <td>1</td>\n",
       "      <td>2.0</td>\n",
       "      <td>Es_1q1</td>\n",
       "      <td>(2 points)</td>\n",
       "    </tr>\n",
       "    <tr>\n",
       "      <th>1</th>\n",
       "      <td>2</td>\n",
       "      <td>2.0</td>\n",
       "      <td>Es_1q1</td>\n",
       "      <td>(2 points)</td>\n",
       "    </tr>\n",
       "    <tr>\n",
       "      <th>2</th>\n",
       "      <td>4</td>\n",
       "      <td>2.0</td>\n",
       "      <td>Es_1q1</td>\n",
       "      <td>(2 points)</td>\n",
       "    </tr>\n",
       "    <tr>\n",
       "      <th>3</th>\n",
       "      <td>5</td>\n",
       "      <td>2.0</td>\n",
       "      <td>Es_1q1</td>\n",
       "      <td>(2 points)</td>\n",
       "    </tr>\n",
       "    <tr>\n",
       "      <th>4</th>\n",
       "      <td>7</td>\n",
       "      <td>2.0</td>\n",
       "      <td>Es_1q1</td>\n",
       "      <td>(2 points)</td>\n",
       "    </tr>\n",
       "    <tr>\n",
       "      <th>...</th>\n",
       "      <td>...</td>\n",
       "      <td>...</td>\n",
       "      <td>...</td>\n",
       "      <td>...</td>\n",
       "    </tr>\n",
       "    <tr>\n",
       "      <th>1049</th>\n",
       "      <td>101</td>\n",
       "      <td>32.0</td>\n",
       "      <td>TOTAL</td>\n",
       "      <td>(100 points)</td>\n",
       "    </tr>\n",
       "    <tr>\n",
       "      <th>1050</th>\n",
       "      <td>102</td>\n",
       "      <td>31.5</td>\n",
       "      <td>TOTAL</td>\n",
       "      <td>(100 points)</td>\n",
       "    </tr>\n",
       "    <tr>\n",
       "      <th>1051</th>\n",
       "      <td>103</td>\n",
       "      <td>18.5</td>\n",
       "      <td>TOTAL</td>\n",
       "      <td>(100 points)</td>\n",
       "    </tr>\n",
       "    <tr>\n",
       "      <th>1052</th>\n",
       "      <td>104</td>\n",
       "      <td>92.0</td>\n",
       "      <td>TOTAL</td>\n",
       "      <td>(100 points)</td>\n",
       "    </tr>\n",
       "    <tr>\n",
       "      <th>1053</th>\n",
       "      <td>106</td>\n",
       "      <td>71.0</td>\n",
       "      <td>TOTAL</td>\n",
       "      <td>(100 points)</td>\n",
       "    </tr>\n",
       "  </tbody>\n",
       "</table>\n",
       "<p>1054 rows × 4 columns</p>\n",
       "</div>"
      ],
      "text/plain": [
       "      Student ID  value question     point_str\n",
       "0              1    2.0   Es_1q1    (2 points)\n",
       "1              2    2.0   Es_1q1    (2 points)\n",
       "2              4    2.0   Es_1q1    (2 points)\n",
       "3              5    2.0   Es_1q1    (2 points)\n",
       "4              7    2.0   Es_1q1    (2 points)\n",
       "...          ...    ...      ...           ...\n",
       "1049         101   32.0    TOTAL  (100 points)\n",
       "1050         102   31.5    TOTAL  (100 points)\n",
       "1051         103   18.5    TOTAL  (100 points)\n",
       "1052         104   92.0    TOTAL  (100 points)\n",
       "1053         106   71.0    TOTAL  (100 points)\n",
       "\n",
       "[1054 rows x 4 columns]"
      ]
     },
     "execution_count": 87,
     "metadata": {},
     "output_type": "execute_result"
    }
   ],
   "source": [
    "final_lf"
   ]
  },
  {
   "cell_type": "code",
   "execution_count": 88,
   "id": "7f5117b6",
   "metadata": {},
   "outputs": [],
   "source": [
    "final_lf['question_points'] = final_lf.point_str.str.extract('(\\d+)')"
   ]
  },
  {
   "cell_type": "code",
   "execution_count": 89,
   "id": "3f2927c8",
   "metadata": {},
   "outputs": [],
   "source": [
    "final_lf.drop(['point_str'], axis=1, inplace=True)"
   ]
  },
  {
   "cell_type": "code",
   "execution_count": 90,
   "id": "51d4e543",
   "metadata": {},
   "outputs": [],
   "source": [
    "final_lf.loc[final_lf[\"question\"] == \"TOTAL\", \"question\"] = \"final_score\""
   ]
  },
  {
   "cell_type": "code",
   "execution_count": 91,
   "id": "5f564e1e",
   "metadata": {},
   "outputs": [
    {
     "data": {
      "text/html": [
       "<div>\n",
       "<style scoped>\n",
       "    .dataframe tbody tr th:only-of-type {\n",
       "        vertical-align: middle;\n",
       "    }\n",
       "\n",
       "    .dataframe tbody tr th {\n",
       "        vertical-align: top;\n",
       "    }\n",
       "\n",
       "    .dataframe thead th {\n",
       "        text-align: right;\n",
       "    }\n",
       "</style>\n",
       "<table border=\"1\" class=\"dataframe\">\n",
       "  <thead>\n",
       "    <tr style=\"text-align: right;\">\n",
       "      <th></th>\n",
       "      <th>Student ID</th>\n",
       "      <th>value</th>\n",
       "      <th>question</th>\n",
       "      <th>question_points</th>\n",
       "    </tr>\n",
       "  </thead>\n",
       "  <tbody>\n",
       "    <tr>\n",
       "      <th>0</th>\n",
       "      <td>1</td>\n",
       "      <td>2.0</td>\n",
       "      <td>Es_1q1</td>\n",
       "      <td>2</td>\n",
       "    </tr>\n",
       "    <tr>\n",
       "      <th>1</th>\n",
       "      <td>2</td>\n",
       "      <td>2.0</td>\n",
       "      <td>Es_1q1</td>\n",
       "      <td>2</td>\n",
       "    </tr>\n",
       "    <tr>\n",
       "      <th>2</th>\n",
       "      <td>4</td>\n",
       "      <td>2.0</td>\n",
       "      <td>Es_1q1</td>\n",
       "      <td>2</td>\n",
       "    </tr>\n",
       "    <tr>\n",
       "      <th>3</th>\n",
       "      <td>5</td>\n",
       "      <td>2.0</td>\n",
       "      <td>Es_1q1</td>\n",
       "      <td>2</td>\n",
       "    </tr>\n",
       "    <tr>\n",
       "      <th>4</th>\n",
       "      <td>7</td>\n",
       "      <td>2.0</td>\n",
       "      <td>Es_1q1</td>\n",
       "      <td>2</td>\n",
       "    </tr>\n",
       "    <tr>\n",
       "      <th>...</th>\n",
       "      <td>...</td>\n",
       "      <td>...</td>\n",
       "      <td>...</td>\n",
       "      <td>...</td>\n",
       "    </tr>\n",
       "    <tr>\n",
       "      <th>1049</th>\n",
       "      <td>101</td>\n",
       "      <td>32.0</td>\n",
       "      <td>final_score</td>\n",
       "      <td>100</td>\n",
       "    </tr>\n",
       "    <tr>\n",
       "      <th>1050</th>\n",
       "      <td>102</td>\n",
       "      <td>31.5</td>\n",
       "      <td>final_score</td>\n",
       "      <td>100</td>\n",
       "    </tr>\n",
       "    <tr>\n",
       "      <th>1051</th>\n",
       "      <td>103</td>\n",
       "      <td>18.5</td>\n",
       "      <td>final_score</td>\n",
       "      <td>100</td>\n",
       "    </tr>\n",
       "    <tr>\n",
       "      <th>1052</th>\n",
       "      <td>104</td>\n",
       "      <td>92.0</td>\n",
       "      <td>final_score</td>\n",
       "      <td>100</td>\n",
       "    </tr>\n",
       "    <tr>\n",
       "      <th>1053</th>\n",
       "      <td>106</td>\n",
       "      <td>71.0</td>\n",
       "      <td>final_score</td>\n",
       "      <td>100</td>\n",
       "    </tr>\n",
       "  </tbody>\n",
       "</table>\n",
       "<p>1054 rows × 4 columns</p>\n",
       "</div>"
      ],
      "text/plain": [
       "      Student ID  value     question question_points\n",
       "0              1    2.0       Es_1q1               2\n",
       "1              2    2.0       Es_1q1               2\n",
       "2              4    2.0       Es_1q1               2\n",
       "3              5    2.0       Es_1q1               2\n",
       "4              7    2.0       Es_1q1               2\n",
       "...          ...    ...          ...             ...\n",
       "1049         101   32.0  final_score             100\n",
       "1050         102   31.5  final_score             100\n",
       "1051         103   18.5  final_score             100\n",
       "1052         104   92.0  final_score             100\n",
       "1053         106   71.0  final_score             100\n",
       "\n",
       "[1054 rows x 4 columns]"
      ]
     },
     "execution_count": 91,
     "metadata": {},
     "output_type": "execute_result"
    }
   ],
   "source": [
    "final_lf"
   ]
  },
  {
   "cell_type": "markdown",
   "id": "36e9c3da",
   "metadata": {},
   "source": [
    "#### Create lookup table for points"
   ]
  },
  {
   "cell_type": "code",
   "execution_count": 92,
   "id": "2b9e54c7",
   "metadata": {},
   "outputs": [],
   "source": [
    "pts_final = pd.DataFrame(final_lf[['question','question_points']].\\\n",
    "                          groupby(['question'])['question_points'].\\\n",
    "                          agg(pd.Series.mode)).reset_index()"
   ]
  },
  {
   "cell_type": "code",
   "execution_count": 93,
   "id": "265ba72d",
   "metadata": {},
   "outputs": [
    {
     "data": {
      "text/html": [
       "<div>\n",
       "<style scoped>\n",
       "    .dataframe tbody tr th:only-of-type {\n",
       "        vertical-align: middle;\n",
       "    }\n",
       "\n",
       "    .dataframe tbody tr th {\n",
       "        vertical-align: top;\n",
       "    }\n",
       "\n",
       "    .dataframe thead th {\n",
       "        text-align: right;\n",
       "    }\n",
       "</style>\n",
       "<table border=\"1\" class=\"dataframe\">\n",
       "  <thead>\n",
       "    <tr style=\"text-align: right;\">\n",
       "      <th></th>\n",
       "      <th>question</th>\n",
       "      <th>question_points</th>\n",
       "    </tr>\n",
       "  </thead>\n",
       "  <tbody>\n",
       "    <tr>\n",
       "      <th>0</th>\n",
       "      <td>Es_1q1</td>\n",
       "      <td>2</td>\n",
       "    </tr>\n",
       "    <tr>\n",
       "      <th>1</th>\n",
       "      <td>Es_1q2</td>\n",
       "      <td>3</td>\n",
       "    </tr>\n",
       "    <tr>\n",
       "      <th>2</th>\n",
       "      <td>Es_2q1</td>\n",
       "      <td>2</td>\n",
       "    </tr>\n",
       "    <tr>\n",
       "      <th>3</th>\n",
       "      <td>Es_2q2</td>\n",
       "      <td>3</td>\n",
       "    </tr>\n",
       "    <tr>\n",
       "      <th>4</th>\n",
       "      <td>Es_3q1</td>\n",
       "      <td>1</td>\n",
       "    </tr>\n",
       "    <tr>\n",
       "      <th>5</th>\n",
       "      <td>Es_3q2</td>\n",
       "      <td>2</td>\n",
       "    </tr>\n",
       "    <tr>\n",
       "      <th>6</th>\n",
       "      <td>Es_3q3</td>\n",
       "      <td>2</td>\n",
       "    </tr>\n",
       "    <tr>\n",
       "      <th>7</th>\n",
       "      <td>Es_3q4</td>\n",
       "      <td>2</td>\n",
       "    </tr>\n",
       "    <tr>\n",
       "      <th>8</th>\n",
       "      <td>Es_3q5</td>\n",
       "      <td>3</td>\n",
       "    </tr>\n",
       "    <tr>\n",
       "      <th>9</th>\n",
       "      <td>Es_4q1</td>\n",
       "      <td>15</td>\n",
       "    </tr>\n",
       "    <tr>\n",
       "      <th>10</th>\n",
       "      <td>Es_4q2</td>\n",
       "      <td>10</td>\n",
       "    </tr>\n",
       "    <tr>\n",
       "      <th>11</th>\n",
       "      <td>Es_5q1</td>\n",
       "      <td>2</td>\n",
       "    </tr>\n",
       "    <tr>\n",
       "      <th>12</th>\n",
       "      <td>Es_5q2</td>\n",
       "      <td>10</td>\n",
       "    </tr>\n",
       "    <tr>\n",
       "      <th>13</th>\n",
       "      <td>Es_5q3</td>\n",
       "      <td>3</td>\n",
       "    </tr>\n",
       "    <tr>\n",
       "      <th>14</th>\n",
       "      <td>Es_6q1</td>\n",
       "      <td>25</td>\n",
       "    </tr>\n",
       "    <tr>\n",
       "      <th>15</th>\n",
       "      <td>Es_6q2</td>\n",
       "      <td>15</td>\n",
       "    </tr>\n",
       "    <tr>\n",
       "      <th>16</th>\n",
       "      <td>final_score</td>\n",
       "      <td>100</td>\n",
       "    </tr>\n",
       "  </tbody>\n",
       "</table>\n",
       "</div>"
      ],
      "text/plain": [
       "       question question_points\n",
       "0        Es_1q1               2\n",
       "1        Es_1q2               3\n",
       "2        Es_2q1               2\n",
       "3        Es_2q2               3\n",
       "4        Es_3q1               1\n",
       "5        Es_3q2               2\n",
       "6        Es_3q3               2\n",
       "7        Es_3q4               2\n",
       "8        Es_3q5               3\n",
       "9        Es_4q1              15\n",
       "10       Es_4q2              10\n",
       "11       Es_5q1               2\n",
       "12       Es_5q2              10\n",
       "13       Es_5q3               3\n",
       "14       Es_6q1              25\n",
       "15       Es_6q2              15\n",
       "16  final_score             100"
      ]
     },
     "execution_count": 93,
     "metadata": {},
     "output_type": "execute_result"
    }
   ],
   "source": [
    "pts_final"
   ]
  },
  {
   "cell_type": "markdown",
   "id": "39dc65f4",
   "metadata": {},
   "source": [
    "#### Pivot final_lf to wide dataset and output to CSV"
   ]
  },
  {
   "cell_type": "code",
   "execution_count": 94,
   "id": "d5856069",
   "metadata": {},
   "outputs": [],
   "source": [
    "final_lf.drop(['question_points'], axis=1, inplace=True)"
   ]
  },
  {
   "cell_type": "code",
   "execution_count": 95,
   "id": "aa2fe7f2",
   "metadata": {},
   "outputs": [
    {
     "data": {
      "text/html": [
       "<div>\n",
       "<style scoped>\n",
       "    .dataframe tbody tr th:only-of-type {\n",
       "        vertical-align: middle;\n",
       "    }\n",
       "\n",
       "    .dataframe tbody tr th {\n",
       "        vertical-align: top;\n",
       "    }\n",
       "\n",
       "    .dataframe thead th {\n",
       "        text-align: right;\n",
       "    }\n",
       "</style>\n",
       "<table border=\"1\" class=\"dataframe\">\n",
       "  <thead>\n",
       "    <tr style=\"text-align: right;\">\n",
       "      <th></th>\n",
       "      <th>Student ID</th>\n",
       "      <th>value</th>\n",
       "      <th>question</th>\n",
       "    </tr>\n",
       "  </thead>\n",
       "  <tbody>\n",
       "    <tr>\n",
       "      <th>0</th>\n",
       "      <td>1</td>\n",
       "      <td>2.0</td>\n",
       "      <td>Es_1q1</td>\n",
       "    </tr>\n",
       "    <tr>\n",
       "      <th>1</th>\n",
       "      <td>2</td>\n",
       "      <td>2.0</td>\n",
       "      <td>Es_1q1</td>\n",
       "    </tr>\n",
       "    <tr>\n",
       "      <th>2</th>\n",
       "      <td>4</td>\n",
       "      <td>2.0</td>\n",
       "      <td>Es_1q1</td>\n",
       "    </tr>\n",
       "    <tr>\n",
       "      <th>3</th>\n",
       "      <td>5</td>\n",
       "      <td>2.0</td>\n",
       "      <td>Es_1q1</td>\n",
       "    </tr>\n",
       "    <tr>\n",
       "      <th>4</th>\n",
       "      <td>7</td>\n",
       "      <td>2.0</td>\n",
       "      <td>Es_1q1</td>\n",
       "    </tr>\n",
       "    <tr>\n",
       "      <th>...</th>\n",
       "      <td>...</td>\n",
       "      <td>...</td>\n",
       "      <td>...</td>\n",
       "    </tr>\n",
       "    <tr>\n",
       "      <th>1049</th>\n",
       "      <td>101</td>\n",
       "      <td>32.0</td>\n",
       "      <td>final_score</td>\n",
       "    </tr>\n",
       "    <tr>\n",
       "      <th>1050</th>\n",
       "      <td>102</td>\n",
       "      <td>31.5</td>\n",
       "      <td>final_score</td>\n",
       "    </tr>\n",
       "    <tr>\n",
       "      <th>1051</th>\n",
       "      <td>103</td>\n",
       "      <td>18.5</td>\n",
       "      <td>final_score</td>\n",
       "    </tr>\n",
       "    <tr>\n",
       "      <th>1052</th>\n",
       "      <td>104</td>\n",
       "      <td>92.0</td>\n",
       "      <td>final_score</td>\n",
       "    </tr>\n",
       "    <tr>\n",
       "      <th>1053</th>\n",
       "      <td>106</td>\n",
       "      <td>71.0</td>\n",
       "      <td>final_score</td>\n",
       "    </tr>\n",
       "  </tbody>\n",
       "</table>\n",
       "<p>1054 rows × 3 columns</p>\n",
       "</div>"
      ],
      "text/plain": [
       "      Student ID  value     question\n",
       "0              1    2.0       Es_1q1\n",
       "1              2    2.0       Es_1q1\n",
       "2              4    2.0       Es_1q1\n",
       "3              5    2.0       Es_1q1\n",
       "4              7    2.0       Es_1q1\n",
       "...          ...    ...          ...\n",
       "1049         101   32.0  final_score\n",
       "1050         102   31.5  final_score\n",
       "1051         103   18.5  final_score\n",
       "1052         104   92.0  final_score\n",
       "1053         106   71.0  final_score\n",
       "\n",
       "[1054 rows x 3 columns]"
      ]
     },
     "execution_count": 95,
     "metadata": {},
     "output_type": "execute_result"
    }
   ],
   "source": [
    "final_lf"
   ]
  },
  {
   "cell_type": "code",
   "execution_count": 96,
   "id": "6de4e655",
   "metadata": {},
   "outputs": [
    {
     "data": {
      "text/html": [
       "<div>\n",
       "<style scoped>\n",
       "    .dataframe tbody tr th:only-of-type {\n",
       "        vertical-align: middle;\n",
       "    }\n",
       "\n",
       "    .dataframe tbody tr th {\n",
       "        vertical-align: top;\n",
       "    }\n",
       "\n",
       "    .dataframe thead th {\n",
       "        text-align: right;\n",
       "    }\n",
       "</style>\n",
       "<table border=\"1\" class=\"dataframe\">\n",
       "  <thead>\n",
       "    <tr style=\"text-align: right;\">\n",
       "      <th>question</th>\n",
       "      <th>Student ID</th>\n",
       "      <th>Es_1q1</th>\n",
       "      <th>Es_1q2</th>\n",
       "      <th>Es_2q1</th>\n",
       "      <th>Es_2q2</th>\n",
       "      <th>Es_3q1</th>\n",
       "      <th>Es_3q2</th>\n",
       "      <th>Es_3q3</th>\n",
       "      <th>Es_3q4</th>\n",
       "      <th>Es_3q5</th>\n",
       "      <th>Es_4q1</th>\n",
       "      <th>Es_4q2</th>\n",
       "      <th>Es_5q1</th>\n",
       "      <th>Es_5q2</th>\n",
       "      <th>Es_5q3</th>\n",
       "      <th>Es_6q1</th>\n",
       "      <th>Es_6q2</th>\n",
       "      <th>final_score</th>\n",
       "    </tr>\n",
       "  </thead>\n",
       "  <tbody>\n",
       "    <tr>\n",
       "      <th>0</th>\n",
       "      <td>1</td>\n",
       "      <td>2.0</td>\n",
       "      <td>3.0</td>\n",
       "      <td>1.0</td>\n",
       "      <td>0.5</td>\n",
       "      <td>1.0</td>\n",
       "      <td>2.0</td>\n",
       "      <td>2.0</td>\n",
       "      <td>2.0</td>\n",
       "      <td>3.0</td>\n",
       "      <td>15.0</td>\n",
       "      <td>10.0</td>\n",
       "      <td>2.0</td>\n",
       "      <td>10.0</td>\n",
       "      <td>3.0</td>\n",
       "      <td>25.0</td>\n",
       "      <td>13.0</td>\n",
       "      <td>94.5</td>\n",
       "    </tr>\n",
       "    <tr>\n",
       "      <th>1</th>\n",
       "      <td>2</td>\n",
       "      <td>2.0</td>\n",
       "      <td>3.0</td>\n",
       "      <td>2.0</td>\n",
       "      <td>0.5</td>\n",
       "      <td>1.0</td>\n",
       "      <td>2.0</td>\n",
       "      <td>0.0</td>\n",
       "      <td>2.0</td>\n",
       "      <td>3.0</td>\n",
       "      <td>15.0</td>\n",
       "      <td>2.0</td>\n",
       "      <td>0.0</td>\n",
       "      <td>5.0</td>\n",
       "      <td>1.5</td>\n",
       "      <td>5.0</td>\n",
       "      <td>0.0</td>\n",
       "      <td>44.0</td>\n",
       "    </tr>\n",
       "    <tr>\n",
       "      <th>2</th>\n",
       "      <td>4</td>\n",
       "      <td>2.0</td>\n",
       "      <td>3.0</td>\n",
       "      <td>1.0</td>\n",
       "      <td>0.5</td>\n",
       "      <td>1.0</td>\n",
       "      <td>2.0</td>\n",
       "      <td>0.0</td>\n",
       "      <td>2.0</td>\n",
       "      <td>0.0</td>\n",
       "      <td>3.0</td>\n",
       "      <td>4.0</td>\n",
       "      <td>0.0</td>\n",
       "      <td>1.5</td>\n",
       "      <td>0.0</td>\n",
       "      <td>5.0</td>\n",
       "      <td>5.0</td>\n",
       "      <td>30.0</td>\n",
       "    </tr>\n",
       "    <tr>\n",
       "      <th>3</th>\n",
       "      <td>5</td>\n",
       "      <td>2.0</td>\n",
       "      <td>3.0</td>\n",
       "      <td>2.0</td>\n",
       "      <td>1.5</td>\n",
       "      <td>1.0</td>\n",
       "      <td>2.0</td>\n",
       "      <td>2.0</td>\n",
       "      <td>2.0</td>\n",
       "      <td>3.0</td>\n",
       "      <td>3.0</td>\n",
       "      <td>2.0</td>\n",
       "      <td>1.5</td>\n",
       "      <td>9.0</td>\n",
       "      <td>1.5</td>\n",
       "      <td>2.0</td>\n",
       "      <td>1.0</td>\n",
       "      <td>38.5</td>\n",
       "    </tr>\n",
       "    <tr>\n",
       "      <th>4</th>\n",
       "      <td>7</td>\n",
       "      <td>2.0</td>\n",
       "      <td>3.0</td>\n",
       "      <td>1.0</td>\n",
       "      <td>1.5</td>\n",
       "      <td>1.0</td>\n",
       "      <td>2.0</td>\n",
       "      <td>2.0</td>\n",
       "      <td>2.0</td>\n",
       "      <td>3.0</td>\n",
       "      <td>15.0</td>\n",
       "      <td>10.0</td>\n",
       "      <td>1.0</td>\n",
       "      <td>2.5</td>\n",
       "      <td>0.0</td>\n",
       "      <td>20.0</td>\n",
       "      <td>12.0</td>\n",
       "      <td>78.0</td>\n",
       "    </tr>\n",
       "    <tr>\n",
       "      <th>...</th>\n",
       "      <td>...</td>\n",
       "      <td>...</td>\n",
       "      <td>...</td>\n",
       "      <td>...</td>\n",
       "      <td>...</td>\n",
       "      <td>...</td>\n",
       "      <td>...</td>\n",
       "      <td>...</td>\n",
       "      <td>...</td>\n",
       "      <td>...</td>\n",
       "      <td>...</td>\n",
       "      <td>...</td>\n",
       "      <td>...</td>\n",
       "      <td>...</td>\n",
       "      <td>...</td>\n",
       "      <td>...</td>\n",
       "      <td>...</td>\n",
       "      <td>...</td>\n",
       "    </tr>\n",
       "    <tr>\n",
       "      <th>57</th>\n",
       "      <td>101</td>\n",
       "      <td>2.0</td>\n",
       "      <td>2.0</td>\n",
       "      <td>1.0</td>\n",
       "      <td>2.0</td>\n",
       "      <td>1.0</td>\n",
       "      <td>2.0</td>\n",
       "      <td>1.5</td>\n",
       "      <td>2.0</td>\n",
       "      <td>2.0</td>\n",
       "      <td>5.0</td>\n",
       "      <td>1.0</td>\n",
       "      <td>0.0</td>\n",
       "      <td>0.0</td>\n",
       "      <td>1.5</td>\n",
       "      <td>4.0</td>\n",
       "      <td>5.0</td>\n",
       "      <td>32.0</td>\n",
       "    </tr>\n",
       "    <tr>\n",
       "      <th>58</th>\n",
       "      <td>102</td>\n",
       "      <td>2.0</td>\n",
       "      <td>3.0</td>\n",
       "      <td>1.0</td>\n",
       "      <td>1.5</td>\n",
       "      <td>1.0</td>\n",
       "      <td>0.0</td>\n",
       "      <td>0.0</td>\n",
       "      <td>2.0</td>\n",
       "      <td>3.0</td>\n",
       "      <td>12.0</td>\n",
       "      <td>3.0</td>\n",
       "      <td>0.0</td>\n",
       "      <td>0.0</td>\n",
       "      <td>0.0</td>\n",
       "      <td>2.0</td>\n",
       "      <td>1.0</td>\n",
       "      <td>31.5</td>\n",
       "    </tr>\n",
       "    <tr>\n",
       "      <th>59</th>\n",
       "      <td>103</td>\n",
       "      <td>2.0</td>\n",
       "      <td>3.0</td>\n",
       "      <td>1.0</td>\n",
       "      <td>1.5</td>\n",
       "      <td>1.0</td>\n",
       "      <td>2.0</td>\n",
       "      <td>0.0</td>\n",
       "      <td>2.0</td>\n",
       "      <td>3.0</td>\n",
       "      <td>3.0</td>\n",
       "      <td>0.0</td>\n",
       "      <td>0.0</td>\n",
       "      <td>0.0</td>\n",
       "      <td>0.0</td>\n",
       "      <td>0.0</td>\n",
       "      <td>0.0</td>\n",
       "      <td>18.5</td>\n",
       "    </tr>\n",
       "    <tr>\n",
       "      <th>60</th>\n",
       "      <td>104</td>\n",
       "      <td>2.0</td>\n",
       "      <td>3.0</td>\n",
       "      <td>1.0</td>\n",
       "      <td>1.5</td>\n",
       "      <td>1.0</td>\n",
       "      <td>2.0</td>\n",
       "      <td>2.0</td>\n",
       "      <td>2.0</td>\n",
       "      <td>3.0</td>\n",
       "      <td>15.0</td>\n",
       "      <td>9.0</td>\n",
       "      <td>2.0</td>\n",
       "      <td>8.0</td>\n",
       "      <td>3.0</td>\n",
       "      <td>24.5</td>\n",
       "      <td>13.0</td>\n",
       "      <td>92.0</td>\n",
       "    </tr>\n",
       "    <tr>\n",
       "      <th>61</th>\n",
       "      <td>106</td>\n",
       "      <td>2.0</td>\n",
       "      <td>3.0</td>\n",
       "      <td>1.0</td>\n",
       "      <td>1.5</td>\n",
       "      <td>1.0</td>\n",
       "      <td>2.0</td>\n",
       "      <td>2.0</td>\n",
       "      <td>2.0</td>\n",
       "      <td>3.0</td>\n",
       "      <td>7.0</td>\n",
       "      <td>7.5</td>\n",
       "      <td>1.0</td>\n",
       "      <td>1.5</td>\n",
       "      <td>1.5</td>\n",
       "      <td>25.0</td>\n",
       "      <td>10.0</td>\n",
       "      <td>71.0</td>\n",
       "    </tr>\n",
       "  </tbody>\n",
       "</table>\n",
       "<p>62 rows × 18 columns</p>\n",
       "</div>"
      ],
      "text/plain": [
       "question  Student ID  Es_1q1  Es_1q2  Es_2q1  Es_2q2  Es_3q1  Es_3q2  Es_3q3  \\\n",
       "0                  1     2.0     3.0     1.0     0.5     1.0     2.0     2.0   \n",
       "1                  2     2.0     3.0     2.0     0.5     1.0     2.0     0.0   \n",
       "2                  4     2.0     3.0     1.0     0.5     1.0     2.0     0.0   \n",
       "3                  5     2.0     3.0     2.0     1.5     1.0     2.0     2.0   \n",
       "4                  7     2.0     3.0     1.0     1.5     1.0     2.0     2.0   \n",
       "..               ...     ...     ...     ...     ...     ...     ...     ...   \n",
       "57               101     2.0     2.0     1.0     2.0     1.0     2.0     1.5   \n",
       "58               102     2.0     3.0     1.0     1.5     1.0     0.0     0.0   \n",
       "59               103     2.0     3.0     1.0     1.5     1.0     2.0     0.0   \n",
       "60               104     2.0     3.0     1.0     1.5     1.0     2.0     2.0   \n",
       "61               106     2.0     3.0     1.0     1.5     1.0     2.0     2.0   \n",
       "\n",
       "question  Es_3q4  Es_3q5  Es_4q1  Es_4q2  Es_5q1  Es_5q2  Es_5q3  Es_6q1  \\\n",
       "0            2.0     3.0    15.0    10.0     2.0    10.0     3.0    25.0   \n",
       "1            2.0     3.0    15.0     2.0     0.0     5.0     1.5     5.0   \n",
       "2            2.0     0.0     3.0     4.0     0.0     1.5     0.0     5.0   \n",
       "3            2.0     3.0     3.0     2.0     1.5     9.0     1.5     2.0   \n",
       "4            2.0     3.0    15.0    10.0     1.0     2.5     0.0    20.0   \n",
       "..           ...     ...     ...     ...     ...     ...     ...     ...   \n",
       "57           2.0     2.0     5.0     1.0     0.0     0.0     1.5     4.0   \n",
       "58           2.0     3.0    12.0     3.0     0.0     0.0     0.0     2.0   \n",
       "59           2.0     3.0     3.0     0.0     0.0     0.0     0.0     0.0   \n",
       "60           2.0     3.0    15.0     9.0     2.0     8.0     3.0    24.5   \n",
       "61           2.0     3.0     7.0     7.5     1.0     1.5     1.5    25.0   \n",
       "\n",
       "question  Es_6q2  final_score  \n",
       "0           13.0         94.5  \n",
       "1            0.0         44.0  \n",
       "2            5.0         30.0  \n",
       "3            1.0         38.5  \n",
       "4           12.0         78.0  \n",
       "..           ...          ...  \n",
       "57           5.0         32.0  \n",
       "58           1.0         31.5  \n",
       "59           0.0         18.5  \n",
       "60          13.0         92.0  \n",
       "61          10.0         71.0  \n",
       "\n",
       "[62 rows x 18 columns]"
      ]
     },
     "execution_count": 96,
     "metadata": {},
     "output_type": "execute_result"
    }
   ],
   "source": [
    "final_out = final_lf.reset_index().loc[:, ['Student ID','value','question']].\\\n",
    "                pivot(index=['Student ID'], columns='question', values='value').\\\n",
    "                reset_index()\n",
    "\n",
    "\n",
    "final_out"
   ]
  },
  {
   "cell_type": "markdown",
   "id": "53d046a7",
   "metadata": {},
   "source": [
    "#### Rename `Student ID` to match input dataset"
   ]
  },
  {
   "cell_type": "code",
   "execution_count": 97,
   "id": "bd18e3a0",
   "metadata": {},
   "outputs": [],
   "source": [
    "final_out.rename(columns={\"Student ID\": \"sid\"}, inplace=True)"
   ]
  },
  {
   "cell_type": "code",
   "execution_count": 98,
   "id": "3e5034a3",
   "metadata": {},
   "outputs": [
    {
     "name": "stdout",
     "output_type": "stream",
     "text": [
      "<class 'pandas.core.frame.DataFrame'>\n",
      "RangeIndex: 62 entries, 0 to 61\n",
      "Data columns (total 18 columns):\n",
      " #   Column       Non-Null Count  Dtype  \n",
      "---  ------       --------------  -----  \n",
      " 0   sid          62 non-null     int64  \n",
      " 1   Es_1q1       62 non-null     float64\n",
      " 2   Es_1q2       62 non-null     float64\n",
      " 3   Es_2q1       62 non-null     float64\n",
      " 4   Es_2q2       62 non-null     float64\n",
      " 5   Es_3q1       62 non-null     float64\n",
      " 6   Es_3q2       62 non-null     float64\n",
      " 7   Es_3q3       62 non-null     float64\n",
      " 8   Es_3q4       62 non-null     float64\n",
      " 9   Es_3q5       62 non-null     float64\n",
      " 10  Es_4q1       62 non-null     float64\n",
      " 11  Es_4q2       62 non-null     float64\n",
      " 12  Es_5q1       62 non-null     float64\n",
      " 13  Es_5q2       62 non-null     float64\n",
      " 14  Es_5q3       62 non-null     float64\n",
      " 15  Es_6q1       62 non-null     float64\n",
      " 16  Es_6q2       62 non-null     float64\n",
      " 17  final_score  62 non-null     float64\n",
      "dtypes: float64(17), int64(1)\n",
      "memory usage: 8.8 KB\n"
     ]
    }
   ],
   "source": [
    "final_out.info()"
   ]
  },
  {
   "cell_type": "code",
   "execution_count": 99,
   "id": "6e427a48",
   "metadata": {},
   "outputs": [],
   "source": [
    "pts_final.to_csv('final_points_lookup.csv', index=False)"
   ]
  },
  {
   "cell_type": "code",
   "execution_count": 100,
   "id": "31c4e5d5",
   "metadata": {},
   "outputs": [],
   "source": [
    "final_out.to_csv('final_df.csv', index=False)"
   ]
  },
  {
   "cell_type": "markdown",
   "id": "cdbedff0",
   "metadata": {},
   "source": [
    "#### Create variable lookup datasets"
   ]
  },
  {
   "cell_type": "code",
   "execution_count": 101,
   "id": "26803608",
   "metadata": {},
   "outputs": [],
   "source": [
    "inputs_df2 = inputs_df[['session', 'student_id', 'exercise', 'activity', \n",
    "                        'activity_group', 'activity_exercise', 'start_time', 'end_time',\n",
    "                        'total_ms','idle_time', 'mouse_wheel', 'mouse_wheel_click',\n",
    "                        'mouse_click_left', 'mouse_click_right', 'mouse_movement', \n",
    "                        'keystroke']].copy()"
   ]
  },
  {
   "cell_type": "code",
   "execution_count": 102,
   "id": "d926fd90",
   "metadata": {},
   "outputs": [
    {
     "data": {
      "text/plain": [
       "Index(['session', 'student_id', 'exercise', 'activity', 'activity_group',\n",
       "       'activity_exercise', 'start_time', 'end_time', 'total_ms', 'idle_time',\n",
       "       'mouse_wheel', 'mouse_wheel_click', 'mouse_click_left',\n",
       "       'mouse_click_right', 'mouse_movement', 'keystroke'],\n",
       "      dtype='object')"
      ]
     },
     "execution_count": 102,
     "metadata": {},
     "output_type": "execute_result"
    }
   ],
   "source": [
    "inputs_df2.columns"
   ]
  },
  {
   "cell_type": "code",
   "execution_count": 103,
   "id": "c8d6cb2d",
   "metadata": {},
   "outputs": [
    {
     "data": {
      "text/plain": [
       "Index(['sess', 'sid', 'exer', 'actv', 'actv_grp', 'actv_exer', 'start_dt',\n",
       "       'end_dt', 'total_ms', 'idle_ms', 'mw', 'mwc', 'mcl', 'mcr', 'mm', 'ks'],\n",
       "      dtype='object')"
      ]
     },
     "execution_count": 103,
     "metadata": {},
     "output_type": "execute_result"
    }
   ],
   "source": [
    "inputs_out.columns"
   ]
  },
  {
   "cell_type": "code",
   "execution_count": 104,
   "id": "0b865201",
   "metadata": {},
   "outputs": [],
   "source": [
    "inputs_var_lookup = pd.DataFrame({'original_variable' : inputs_df2.columns,\n",
    "                                  'new_variable' : inputs_out.columns})"
   ]
  },
  {
   "cell_type": "code",
   "execution_count": 105,
   "id": "bcce1ac2",
   "metadata": {},
   "outputs": [],
   "source": [
    "inputs_var_lookup.to_csv('inputs_var_lookup.csv', index=False)"
   ]
  },
  {
   "cell_type": "code",
   "execution_count": 106,
   "id": "99cf3d0b",
   "metadata": {},
   "outputs": [
    {
     "data": {
      "text/plain": [
       "Index(['Student Id', 'Session 2', 'Session 3', 'Session 4', 'Session 5',\n",
       "       'Session 6'],\n",
       "      dtype='object')"
      ]
     },
     "execution_count": 106,
     "metadata": {},
     "output_type": "execute_result"
    }
   ],
   "source": [
    "interim_df.columns"
   ]
  },
  {
   "cell_type": "code",
   "execution_count": 107,
   "id": "c270479e",
   "metadata": {},
   "outputs": [
    {
     "data": {
      "text/plain": [
       "Index(['sid', 'interim_scr2', 'interim_scr3', 'interim_scr4', 'interim_scr5',\n",
       "       'interim_scr6'],\n",
       "      dtype='object', name='variable')"
      ]
     },
     "execution_count": 107,
     "metadata": {},
     "output_type": "execute_result"
    }
   ],
   "source": [
    "interim_out.columns"
   ]
  },
  {
   "cell_type": "code",
   "execution_count": 108,
   "id": "1af7a243",
   "metadata": {},
   "outputs": [],
   "source": [
    "interim_var_lookup = pd.DataFrame({'original_variable' : interim_df.columns,\n",
    "                                  'new_variable' : interim_out.columns})"
   ]
  },
  {
   "cell_type": "code",
   "execution_count": 109,
   "id": "52ce9329",
   "metadata": {},
   "outputs": [],
   "source": [
    "interim_var_lookup.to_csv('interim_var_lookup.csv', index=False)"
   ]
  },
  {
   "cell_type": "code",
   "execution_count": 110,
   "id": "fbcdc6b3",
   "metadata": {},
   "outputs": [
    {
     "data": {
      "text/plain": [
       "Index(['Student ID', 'ES 1.1 \\n(2 points)', 'ES 1.2 \\n(3 points)',\n",
       "       'ES 2.1\\n(2 points)', 'ES 2.2\\n(3 points)', 'ES 3.1\\n(1 points)',\n",
       "       'ES 3.2\\n(2 points)', 'ES 3.3\\n(2 points)', 'ES 3.4\\n(2 points)',\n",
       "       'ES 3.5\\n(3 points)', 'ES 4.1\\n(15 points)', 'ES 4.2\\n(10 points)',\n",
       "       'ES 5.1\\n(2 points)', 'ES 5.2\\n(10 points)', 'ES 5.3\\n(3 points)',\n",
       "       'ES 6.1\\n(25 points)', 'ES 6.2\\n(15 points)', 'TOTAL\\n(100 points)'],\n",
       "      dtype='object')"
      ]
     },
     "execution_count": 110,
     "metadata": {},
     "output_type": "execute_result"
    }
   ],
   "source": [
    "final_df.columns"
   ]
  },
  {
   "cell_type": "code",
   "execution_count": 111,
   "id": "f3c7e8f2",
   "metadata": {},
   "outputs": [
    {
     "data": {
      "text/plain": [
       "Index(['sid', 'Es_1q1', 'Es_1q2', 'Es_2q1', 'Es_2q2', 'Es_3q1', 'Es_3q2',\n",
       "       'Es_3q3', 'Es_3q4', 'Es_3q5', 'Es_4q1', 'Es_4q2', 'Es_5q1', 'Es_5q2',\n",
       "       'Es_5q3', 'Es_6q1', 'Es_6q2', 'final_score'],\n",
       "      dtype='object', name='question')"
      ]
     },
     "execution_count": 111,
     "metadata": {},
     "output_type": "execute_result"
    }
   ],
   "source": [
    "final_out.columns"
   ]
  },
  {
   "cell_type": "code",
   "execution_count": 112,
   "id": "f96d70f7",
   "metadata": {},
   "outputs": [],
   "source": [
    "final_var_lookup = pd.DataFrame({'original_variable' : final_df.columns,\n",
    "                                  'new_variable' : final_out.columns})"
   ]
  },
  {
   "cell_type": "code",
   "execution_count": 113,
   "id": "3a4d8ea3",
   "metadata": {},
   "outputs": [],
   "source": [
    "final_var_lookup.to_csv('final_var_lookup.csv', index=False)"
   ]
  }
 ],
 "metadata": {
  "kernelspec": {
   "display_name": "Python 3 (ipykernel)",
   "language": "python",
   "name": "python3"
  },
  "language_info": {
   "codemirror_mode": {
    "name": "ipython",
    "version": 3
   },
   "file_extension": ".py",
   "mimetype": "text/x-python",
   "name": "python",
   "nbconvert_exporter": "python",
   "pygments_lexer": "ipython3",
   "version": "3.8.15"
  }
 },
 "nbformat": 4,
 "nbformat_minor": 5
}
