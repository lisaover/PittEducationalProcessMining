{
 "cells": [
  {
   "cell_type": "markdown",
   "id": "7fe4e746",
   "metadata": {},
   "source": [
    "# Educational Process Mining\n",
    "\n",
    "https://archive-beta.ics.uci.edu/dataset/346/educational+process+mining+epm+a+learning+analytics+data+set\n",
    "\n",
    "Educational Process Mining (EPM): A Learning Analytics Data Set. (2015). UCI Machine Learning Repository.\n",
    "\n",
    "## PCA\n",
    "\n",
    "This notebook includes PCA preprocessing for inclusion with other notebooks."
   ]
  },
  {
   "cell_type": "markdown",
   "id": "144d6ecd",
   "metadata": {},
   "source": [
    "### Standardize the numeric inputs"
   ]
  },
  {
   "cell_type": "code",
   "execution_count": null,
   "id": "a38343e8",
   "metadata": {},
   "outputs": [],
   "source": [
    "Xtimepoints = StandardScaler().fit_transform( features_df )"
   ]
  },
  {
   "cell_type": "code",
   "execution_count": null,
   "id": "946c9ef2",
   "metadata": {},
   "outputs": [],
   "source": [
    "Xtimepoints.shape"
   ]
  },
  {
   "cell_type": "code",
   "execution_count": null,
   "id": "3ec10e04",
   "metadata": {},
   "outputs": [],
   "source": [
    "sns.catplot(data = pd.DataFrame(Xtimepoints, columns=feature_names), kind='box', aspect=3.5)\n",
    "\n",
    "plt.show()"
   ]
  },
  {
   "cell_type": "markdown",
   "id": "af00c712",
   "metadata": {},
   "source": [
    "### PCA"
   ]
  },
  {
   "cell_type": "code",
   "execution_count": null,
   "id": "2a835740",
   "metadata": {},
   "outputs": [],
   "source": [
    "pca_object = PCA()"
   ]
  },
  {
   "cell_type": "code",
   "execution_count": null,
   "id": "f9480826",
   "metadata": {},
   "outputs": [],
   "source": [
    "type( pca_object )"
   ]
  },
  {
   "cell_type": "code",
   "execution_count": null,
   "id": "7c8d1428",
   "metadata": {},
   "outputs": [],
   "source": [
    "pca_object.fit( Xtimepoints )"
   ]
  },
  {
   "cell_type": "code",
   "execution_count": null,
   "id": "328563ca",
   "metadata": {},
   "outputs": [],
   "source": [
    "timepoint_pcs = pca_object.transform( Xtimepoints )"
   ]
  },
  {
   "cell_type": "code",
   "execution_count": null,
   "id": "6740742f",
   "metadata": {},
   "outputs": [],
   "source": [
    "timepoint_pcs.shape"
   ]
  },
  {
   "cell_type": "code",
   "execution_count": null,
   "id": "78cf9794",
   "metadata": {},
   "outputs": [],
   "source": [
    "type(timepoint_pcs)"
   ]
  },
  {
   "cell_type": "code",
   "execution_count": null,
   "id": "635283cf",
   "metadata": {},
   "outputs": [],
   "source": [
    "pc_names = ['pc_'+str(d).zfill(2) for d in range(1, (timepoint_pcs.shape[1]+1))]"
   ]
  },
  {
   "cell_type": "code",
   "execution_count": null,
   "id": "fc8af525",
   "metadata": {},
   "outputs": [],
   "source": [
    "pc_names"
   ]
  },
  {
   "cell_type": "code",
   "execution_count": null,
   "id": "cd38dff8",
   "metadata": {},
   "outputs": [],
   "source": [
    "timepoint_pcs_df = pd.DataFrame( timepoint_pcs, columns=pc_names )"
   ]
  },
  {
   "cell_type": "code",
   "execution_count": null,
   "id": "8a1a28fb",
   "metadata": {},
   "outputs": [],
   "source": [
    "timepoint_pcs_df"
   ]
  },
  {
   "cell_type": "code",
   "execution_count": null,
   "id": "8abc72dd",
   "metadata": {},
   "outputs": [],
   "source": [
    "sns.catplot(data = timepoint_pcs_df, kind='box', aspect=3.5)\n",
    "\n",
    "plt.show()"
   ]
  },
  {
   "cell_type": "code",
   "execution_count": null,
   "id": "18fa13f5",
   "metadata": {},
   "outputs": [],
   "source": [
    "fig, ax = plt.subplots(figsize=(12, 8))\n",
    "\n",
    "timepoint_pcs_df.describe().loc['std'].plot(ax=ax)\n",
    "\n",
    "plt.show()"
   ]
  },
  {
   "cell_type": "markdown",
   "id": "d4f74856",
   "metadata": {},
   "source": [
    "##### Correlation plot showing no correlation"
   ]
  },
  {
   "cell_type": "code",
   "execution_count": null,
   "id": "eb7efe48",
   "metadata": {},
   "outputs": [],
   "source": [
    "fig, ax = plt.subplots(figsize=(12, 8))\n",
    "\n",
    "sns.heatmap( data = timepoint_pcs_df.corr(),\n",
    "            vmin=-1, vmax=1, center = 0,\n",
    "            cmap='coolwarm',\n",
    "            ax=ax)\n",
    "\n",
    "plt.show()"
   ]
  },
  {
   "cell_type": "markdown",
   "id": "4b791a6a",
   "metadata": {},
   "source": [
    "##### PCA Scree plot and total variance explained"
   ]
  },
  {
   "cell_type": "code",
   "execution_count": null,
   "id": "4902f205",
   "metadata": {},
   "outputs": [],
   "source": [
    "fig, ax = plt.subplots(figsize=(12, 8))\n",
    "\n",
    "ax.plot( np.arange( len(pca_object.explained_variance_ratio_ ) )+1, pca_object.explained_variance_ratio_, 'bo-')\n",
    "\n",
    "ax.set_xlabel('PC')\n",
    "ax.set_ylabel('Variance Explained Ratio')\n",
    "\n",
    "plt.show()"
   ]
  },
  {
   "cell_type": "code",
   "execution_count": null,
   "id": "e4f4a029",
   "metadata": {},
   "outputs": [],
   "source": [
    "total_var_explain = pca_object.explained_variance_ratio_.cumsum()"
   ]
  },
  {
   "cell_type": "code",
   "execution_count": null,
   "id": "d3c66faf",
   "metadata": {},
   "outputs": [],
   "source": [
    "fig, ax = plt.subplots(figsize=(12, 6))\n",
    "\n",
    "ax.plot( np.arange( len(total_var_explain) ) + 1, total_var_explain, 'bo-')\n",
    "\n",
    "ax.set_xlabel('PC')\n",
    "ax.set_ylabel('Total variance explained')\n",
    "\n",
    "plt.show()"
   ]
  },
  {
   "cell_type": "code",
   "execution_count": null,
   "id": "362d3475",
   "metadata": {},
   "outputs": [],
   "source": [
    "pc_scores_df = pd.DataFrame( timepoint_pcs, columns=['PC' + str(d+1).zfill(2) for d in range( timepoint_pcs.shape[1]) ] )"
   ]
  },
  {
   "cell_type": "code",
   "execution_count": null,
   "id": "2c325eaa",
   "metadata": {},
   "outputs": [],
   "source": [
    "pc_scores_df.info()"
   ]
  },
  {
   "cell_type": "markdown",
   "id": "7576c93b",
   "metadata": {},
   "source": [
    "##### PCA Contribution"
   ]
  },
  {
   "cell_type": "code",
   "execution_count": null,
   "id": "9159e376",
   "metadata": {},
   "outputs": [],
   "source": [
    "def calc_pca_contrib(load_mat):\n",
    "    # square each element in the loadings matrix\n",
    "    load_mat_sq = load_mat ** 2\n",
    "    # sum the square loadings for each PC\n",
    "    sum_load_squares = load_mat_sq.sum(axis=0)\n",
    "    # divide the square loadings by the sum of the squared loadings per PC\n",
    "    contrib_mat = load_mat_sq / sum_load_squares\n",
    "    \n",
    "    return(contrib_mat)"
   ]
  },
  {
   "cell_type": "code",
   "execution_count": null,
   "id": "d79d5ea4",
   "metadata": {},
   "outputs": [],
   "source": [
    "fig, ax = plt.subplots(figsize=(36, 18))\n",
    "\n",
    "sns.heatmap( data = np.transpose( calc_pca_contrib( pca_object.components_) ) > (1 / timepoint_pcs.shape[1]), \n",
    "            xticklabels=pc_scores_df.iloc[:, :len(feature_names)].columns.tolist(),\n",
    "            yticklabels=feature_names,\n",
    "            vmin=0, vmax=1)\n",
    "\n",
    "plt.show()"
   ]
  },
  {
   "cell_type": "markdown",
   "id": "fcbfad2e",
   "metadata": {},
   "source": [
    "##### Biplot for the first two PCs"
   ]
  },
  {
   "cell_type": "code",
   "execution_count": null,
   "id": "46e5dc0b",
   "metadata": {},
   "outputs": [],
   "source": [
    "fig, ax = plt.subplots(figsize=(27, 27))\n",
    "\n",
    "ax.scatter(pc_scores_df.PC01, pc_scores_df.PC02, s=11)\n",
    "\n",
    "for i in range(pca_object.components_[0:2, :].shape[1]):\n",
    "    ax.arrow(0, 0, \n",
    "             pca_object.components_[0, i] * (pc_scores_df.PC01.max() - pc_scores_df.PC01.min()), \n",
    "             pca_object.components_[1, i] * (pc_scores_df.PC02.max() - pc_scores_df.PC02.min()), \n",
    "             color='r')\n",
    "    \n",
    "    ax.text(pca_object.components_[0, i] * 1.15 * (pc_scores_df.PC01.max() - pc_scores_df.PC01.min()), \n",
    "            pca_object.components_[1, i] * 1.15 * (pc_scores_df.PC02.max() - pc_scores_df.PC02.min()),\n",
    "            features_df.columns[i],\n",
    "            color = 'black', ha = 'center', va = 'center')\n",
    "\n",
    "ax.set_xlabel('PC01')\n",
    "ax.set_ylabel('PC02')\n",
    "\n",
    "plt.show()"
   ]
  },
  {
   "cell_type": "markdown",
   "id": "03127666",
   "metadata": {},
   "source": [
    "##### Biplot for the PC02 and PC03"
   ]
  },
  {
   "cell_type": "code",
   "execution_count": null,
   "id": "f647c165",
   "metadata": {},
   "outputs": [],
   "source": [
    "fig, ax = plt.subplots(figsize=(27, 27))\n",
    "\n",
    "ax.scatter(pc_scores_df.PC02, pc_scores_df.PC03, s=11)\n",
    "\n",
    "for i in range(pca_object.components_[0:2, :].shape[1]):\n",
    "    ax.arrow(0, 0, \n",
    "             pca_object.components_[0, i] * (pc_scores_df.PC02.max() - pc_scores_df.PC02.min()), \n",
    "             pca_object.components_[1, i] * (pc_scores_df.PC03.max() - pc_scores_df.PC03.min()), \n",
    "             color='r')\n",
    "    \n",
    "    ax.text(pca_object.components_[0, i] * 1.15 * (pc_scores_df.PC02.max() - pc_scores_df.PC02.min()), \n",
    "            pca_object.components_[1, i] * 1.15 * (pc_scores_df.PC03.max() - pc_scores_df.PC03.min()),\n",
    "            features_df.columns[i],\n",
    "            color = 'black', ha = 'center', va = 'center')\n",
    "\n",
    "ax.set_xlabel('PC02')\n",
    "ax.set_ylabel('PC03')\n",
    "\n",
    "plt.show()"
   ]
  },
  {
   "cell_type": "markdown",
   "id": "e8a13a4c",
   "metadata": {},
   "source": [
    "##### Biplot for the PC03 and PC04"
   ]
  },
  {
   "cell_type": "code",
   "execution_count": null,
   "id": "f99a99e0",
   "metadata": {},
   "outputs": [],
   "source": [
    "fig, ax = plt.subplots(figsize=(27, 27))\n",
    "\n",
    "ax.scatter(pc_scores_df.PC03, pc_scores_df.PC04, s=11)\n",
    "\n",
    "for i in range(pca_object.components_[0:2, :].shape[1]):\n",
    "    ax.arrow(0, 0, \n",
    "             pca_object.components_[0, i] * (pc_scores_df.PC03.max() - pc_scores_df.PC03.min()), \n",
    "             pca_object.components_[1, i] * (pc_scores_df.PC04.max() - pc_scores_df.PC04.min()), \n",
    "             color='r')\n",
    "    \n",
    "    ax.text(pca_object.components_[0, i] * 1.15 * (pc_scores_df.PC03.max() - pc_scores_df.PC03.min()), \n",
    "            pca_object.components_[1, i] * 1.15 * (pc_scores_df.PC04.max() - pc_scores_df.PC04.min()),\n",
    "            features_df.columns[i],\n",
    "            color = 'black', ha = 'center', va = 'center')\n",
    "\n",
    "ax.set_xlabel('PC03')\n",
    "ax.set_ylabel('PC04')\n",
    "\n",
    "plt.show()"
   ]
  },
  {
   "cell_type": "markdown",
   "id": "8ec846a5",
   "metadata": {},
   "source": [
    "##### Biplot for the PC04 and PC05"
   ]
  },
  {
   "cell_type": "code",
   "execution_count": null,
   "id": "c752cd89",
   "metadata": {},
   "outputs": [],
   "source": [
    "fig, ax = plt.subplots(figsize=(27, 27))\n",
    "\n",
    "ax.scatter(pc_scores_df.PC04, pc_scores_df.PC05, s=11)\n",
    "\n",
    "for i in range(pca_object.components_[0:2, :].shape[1]):\n",
    "    ax.arrow(0, 0, \n",
    "             pca_object.components_[0, i] * (pc_scores_df.PC04.max() - pc_scores_df.PC04.min()), \n",
    "             pca_object.components_[1, i] * (pc_scores_df.PC05.max() - pc_scores_df.PC05.min()), \n",
    "             color='r')\n",
    "    \n",
    "    ax.text(pca_object.components_[0, i] * 1.15 * (pc_scores_df.PC04.max() - pc_scores_df.PC04.min()), \n",
    "            pca_object.components_[1, i] * 1.15 * (pc_scores_df.PC05.max() - pc_scores_df.PC05.min()),\n",
    "            features_df.columns[i],\n",
    "            color = 'black', ha = 'center', va = 'center')\n",
    "\n",
    "ax.set_xlabel('PC04')\n",
    "ax.set_ylabel('PC05')\n",
    "\n",
    "plt.show()"
   ]
  }
 ],
 "metadata": {
  "kernelspec": {
   "display_name": "Python 3 (ipykernel)",
   "language": "python",
   "name": "python3"
  },
  "language_info": {
   "codemirror_mode": {
    "name": "ipython",
    "version": 3
   },
   "file_extension": ".py",
   "mimetype": "text/x-python",
   "name": "python",
   "nbconvert_exporter": "python",
   "pygments_lexer": "ipython3",
   "version": "3.8.15"
  }
 },
 "nbformat": 4,
 "nbformat_minor": 5
}
