{
 "cells": [
  {
   "cell_type": "markdown",
   "id": "78d1be26",
   "metadata": {},
   "source": [
    "# Educational Process Mining\n",
    "\n",
    "https://archive-beta.ics.uci.edu/dataset/346/educational+process+mining+epm+a+learning+analytics+data+set\n",
    "\n",
    "Educational Process Mining (EPM): A Learning Analytics Data Set. (2015). UCI Machine Learning Repository.\n",
    "\n",
    "This notebook reads in the data set created by the DATA notebook and includes part 1 of the exploratory data analysis, which resulted in more data cleaning and more new variables. It outputs 3 cleaned input datasets.\n",
    "\n",
    "New variables include `active_ms`, the difference between `total_ms` and `idle_ms` and transformation variables for all numeric inputs to correct skewness. Skewness was only resolved for `mm` (mouse movement). The variables `idel_tm` and `mw` (mouse wheel) improved but are still not gaussian. Transformation methods included natural log, windsorizing, and square root.\n",
    "\n",
    "Evaluation of `idle_time` revealed that 158 records had a negative `idle_time`, and these values were replaced with NaN.\n",
    "\n",
    "Evaluation of active_ms revealed that `idle_ms` was greater than `total_ms` for 53,202 records (~23%), and these negative `active_ms` values were replaced with NaN.\n",
    "\n",
    "Evaluation of `total_ms` revealed one record that had a negative value, which corresponds with an `end_dt` that was earlier than the `start_dt`. These will be treated as unknown and were replaced with NaT. This evaluation also revealed that 59,767 records (\\~26%) had 0 `total_ms`, which corresponds with `end_dt` and `start_dt` that are equal. Of these records with equal `start_dt` and `end_dt`, 3,392 records (\\~5.7%) have a value of 0 in every mouse/keystroke field: (`mw` + `mwc` + `mcl` + `mcr` + `mm` + `ks`) == 0."
   ]
  },
  {
   "cell_type": "code",
   "execution_count": 1,
   "id": "c2ab1f59",
   "metadata": {},
   "outputs": [],
   "source": [
    "import pandas as pd\n",
    "import numpy as np\n",
    "import matplotlib.pyplot as plt\n",
    "\n",
    "import seaborn as sns"
   ]
  },
  {
   "cell_type": "markdown",
   "id": "38800c27",
   "metadata": {},
   "source": [
    "### Load the data from github repository"
   ]
  },
  {
   "cell_type": "code",
   "execution_count": 2,
   "id": "e42f0471",
   "metadata": {},
   "outputs": [],
   "source": [
    "inputs_path = 'https://raw.githubusercontent.com/lisaover/CMPINF2120_project/main/inputs_df.csv'\n",
    "interim_path = 'https://raw.githubusercontent.com/lisaover/CMPINF2120_project/main/interim_df.csv'\n",
    "final_path = 'https://raw.githubusercontent.com/lisaover/CMPINF2120_project/main/final_df.csv'\n",
    "pts_path = 'https://raw.githubusercontent.com/lisaover/CMPINF2120_project/main/final_points_lookup.csv'"
   ]
  },
  {
   "cell_type": "code",
   "execution_count": 3,
   "id": "0826e2a3",
   "metadata": {},
   "outputs": [],
   "source": [
    "inputs_init = pd.read_csv(inputs_path)"
   ]
  },
  {
   "cell_type": "code",
   "execution_count": 4,
   "id": "031423d3",
   "metadata": {},
   "outputs": [],
   "source": [
    "interim_init = pd.read_csv(interim_path)"
   ]
  },
  {
   "cell_type": "code",
   "execution_count": 5,
   "id": "52bf99e9",
   "metadata": {},
   "outputs": [],
   "source": [
    "final_init = pd.read_csv(final_path)"
   ]
  },
  {
   "cell_type": "code",
   "execution_count": 6,
   "id": "63efdb46",
   "metadata": {},
   "outputs": [],
   "source": [
    "pts_final_lookup = pd.read_csv(pts_path)"
   ]
  },
  {
   "cell_type": "code",
   "execution_count": 7,
   "id": "e3a843be",
   "metadata": {},
   "outputs": [
    {
     "data": {
      "text/plain": [
       "Index(['sess', 'sid', 'exer', 'actv', 'actv_grp', 'actv_exer', 'start_dt',\n",
       "       'end_dt', 'total_ms', 'idle_ms', 'mw', 'mwc', 'mcl', 'mcr', 'mm', 'ks'],\n",
       "      dtype='object')"
      ]
     },
     "execution_count": 7,
     "metadata": {},
     "output_type": "execute_result"
    }
   ],
   "source": [
    "inputs_init.columns"
   ]
  },
  {
   "cell_type": "code",
   "execution_count": 8,
   "id": "b0642c7d",
   "metadata": {},
   "outputs": [
    {
     "data": {
      "text/plain": [
       "Index(['sid', 'interim_scr2', 'interim_scr3', 'interim_scr4', 'interim_scr5',\n",
       "       'interim_scr6'],\n",
       "      dtype='object')"
      ]
     },
     "execution_count": 8,
     "metadata": {},
     "output_type": "execute_result"
    }
   ],
   "source": [
    "interim_init.columns"
   ]
  },
  {
   "cell_type": "code",
   "execution_count": 9,
   "id": "9441e715",
   "metadata": {},
   "outputs": [
    {
     "data": {
      "text/plain": [
       "Index(['sid', 'Es_1q1', 'Es_1q2', 'Es_2q1', 'Es_2q2', 'Es_3q1', 'Es_3q2',\n",
       "       'Es_3q3', 'Es_3q4', 'Es_3q5', 'Es_4q1', 'Es_4q2', 'Es_5q1', 'Es_5q2',\n",
       "       'Es_5q3', 'Es_6q1', 'Es_6q2', 'final_score'],\n",
       "      dtype='object')"
      ]
     },
     "execution_count": 9,
     "metadata": {},
     "output_type": "execute_result"
    }
   ],
   "source": [
    "final_init.columns"
   ]
  },
  {
   "cell_type": "code",
   "execution_count": 10,
   "id": "ca39539a",
   "metadata": {},
   "outputs": [
    {
     "data": {
      "text/plain": [
       "Index(['question', 'question_points'], dtype='object')"
      ]
     },
     "execution_count": 10,
     "metadata": {},
     "output_type": "execute_result"
    }
   ],
   "source": [
    "pts_final_lookup.columns"
   ]
  },
  {
   "cell_type": "markdown",
   "id": "7715af34",
   "metadata": {},
   "source": [
    "## Inputs"
   ]
  },
  {
   "cell_type": "markdown",
   "id": "7534685b",
   "metadata": {},
   "source": [
    "There are 16 columns:\n",
    "\n",
    "* Two ID columns as type integer - sess and sid\n",
    "* Six object columns, two should be dates - exer, actv, actv_grp, actv_exer, start_dt, and end_dt\n",
    "* Eight integer columns - total_ms, idle_ms, mouse_wheel, mouse_wheel_click, mouse_click_left, mouse_click_right, mouse_movement, and keystoke\n",
    "\n",
    "There are missing data only in the column `actv_exer` because it is a derived column from splitting the original `actv` column into two columns, one to hold the activity group and the other the exercise associated with the activity - not all activity was associated with a specific exercise.\n",
    "\n",
    "There are 158 records where `idle_ms` is negative. About 26% of the data has start and end times that are equal. About 23% of the data have an `idle_ms` that is greater than the derived `total_ms`, and this was calculated after assigning NaN to `total_ms` where it equaled zero because of equal start and end times."
   ]
  },
  {
   "cell_type": "code",
   "execution_count": 11,
   "id": "eb45c40b",
   "metadata": {},
   "outputs": [
    {
     "name": "stdout",
     "output_type": "stream",
     "text": [
      "<class 'pandas.core.frame.DataFrame'>\n",
      "RangeIndex: 227129 entries, 0 to 227128\n",
      "Data columns (total 16 columns):\n",
      " #   Column     Non-Null Count   Dtype  \n",
      "---  ------     --------------   -----  \n",
      " 0   sess       227129 non-null  int64  \n",
      " 1   sid        227129 non-null  int64  \n",
      " 2   exer       227129 non-null  object \n",
      " 3   actv       227129 non-null  object \n",
      " 4   actv_grp   227129 non-null  object \n",
      " 5   actv_exer  111979 non-null  object \n",
      " 6   start_dt   227129 non-null  object \n",
      " 7   end_dt     227129 non-null  object \n",
      " 8   total_ms   227129 non-null  float64\n",
      " 9   idle_ms    227129 non-null  int64  \n",
      " 10  mw         227129 non-null  int64  \n",
      " 11  mwc        227129 non-null  int64  \n",
      " 12  mcl        227129 non-null  int64  \n",
      " 13  mcr        227129 non-null  int64  \n",
      " 14  mm         227129 non-null  int64  \n",
      " 15  ks         227129 non-null  int64  \n",
      "dtypes: float64(1), int64(9), object(6)\n",
      "memory usage: 27.7+ MB\n"
     ]
    }
   ],
   "source": [
    "inputs_init.info()"
   ]
  },
  {
   "cell_type": "code",
   "execution_count": 12,
   "id": "1fc06de8",
   "metadata": {},
   "outputs": [
    {
     "data": {
      "text/plain": [
       "sess              0\n",
       "sid               0\n",
       "exer              0\n",
       "actv              0\n",
       "actv_grp          0\n",
       "actv_exer    115150\n",
       "start_dt          0\n",
       "end_dt            0\n",
       "total_ms          0\n",
       "idle_ms           0\n",
       "mw                0\n",
       "mwc               0\n",
       "mcl               0\n",
       "mcr               0\n",
       "mm                0\n",
       "ks                0\n",
       "dtype: int64"
      ]
     },
     "execution_count": 12,
     "metadata": {},
     "output_type": "execute_result"
    }
   ],
   "source": [
    "inputs_init.isna().sum()"
   ]
  },
  {
   "cell_type": "markdown",
   "id": "e505c424",
   "metadata": {},
   "source": [
    "### Evaluate ID and date columns"
   ]
  },
  {
   "cell_type": "code",
   "execution_count": 13,
   "id": "68561dec",
   "metadata": {},
   "outputs": [
    {
     "data": {
      "text/plain": [
       "6"
      ]
     },
     "execution_count": 13,
     "metadata": {},
     "output_type": "execute_result"
    }
   ],
   "source": [
    "inputs_init.sess.nunique()"
   ]
  },
  {
   "cell_type": "code",
   "execution_count": 14,
   "id": "e292962e",
   "metadata": {},
   "outputs": [
    {
     "data": {
      "text/plain": [
       "array([1, 2, 3, 4, 5, 6])"
      ]
     },
     "execution_count": 14,
     "metadata": {},
     "output_type": "execute_result"
    }
   ],
   "source": [
    "inputs_init.sess.unique()"
   ]
  },
  {
   "cell_type": "code",
   "execution_count": 15,
   "id": "80bc70f2",
   "metadata": {},
   "outputs": [
    {
     "data": {
      "text/plain": [
       "113"
      ]
     },
     "execution_count": 15,
     "metadata": {},
     "output_type": "execute_result"
    }
   ],
   "source": [
    "inputs_init.sid.nunique()"
   ]
  },
  {
   "cell_type": "code",
   "execution_count": 16,
   "id": "42fc91b6",
   "metadata": {},
   "outputs": [
    {
     "data": {
      "text/plain": [
       "array([  1,   2,   4,   5,   7,   9,  10,  11,  12,  14,  15,  17,  19,\n",
       "        20,  21,  22,  28,  30,  32,  34,  36,  37,  38,  39,  42,  43,\n",
       "        44,  46,  47,  49,  51,  52,  53,  54,  55,  56,  59,  62,  63,\n",
       "        66,  67,  68,  70,  71,  73,  74,  76,  78,  79,  80,  81,  82,\n",
       "        85,  86,  87,  88,  90,  91,  92,  93,  94,  96,  97,  98, 100,\n",
       "       101, 102, 104, 105, 108, 109, 110, 111, 112, 113, 114,   3,   6,\n",
       "         8,  16,  18,  24,  27,  29,  41,  48,  50,  61,  72,  83,  84,\n",
       "        95,  99, 103,  23,  25,  31,  35,  45,  69,  75,  89, 106,  13,\n",
       "        26,  33,  40,  57,  58,  60,  64,  65,  77])"
      ]
     },
     "execution_count": 16,
     "metadata": {},
     "output_type": "execute_result"
    }
   ],
   "source": [
    "inputs_init.sid.unique()"
   ]
  },
  {
   "cell_type": "markdown",
   "id": "8477fd31",
   "metadata": {},
   "source": [
    "##### Convert student_id and session to object type"
   ]
  },
  {
   "cell_type": "code",
   "execution_count": 17,
   "id": "2731a4ad",
   "metadata": {},
   "outputs": [],
   "source": [
    "inputs_init['sid'] = inputs_init['sid'].astype('object')\n",
    "inputs_init['sess'] = inputs_init['sess'].astype('object')"
   ]
  },
  {
   "cell_type": "markdown",
   "id": "7c78ef98",
   "metadata": {},
   "source": [
    "##### Convert start_time and end_time to datetime type and add variable for the total time\n",
    "\n",
    "The variable `idle_time` is the duration of idle time between the start and end times in milliseconds."
   ]
  },
  {
   "cell_type": "code",
   "execution_count": 18,
   "id": "ef0287d2",
   "metadata": {},
   "outputs": [],
   "source": [
    "inputs_init['start_dt'] = pd.to_datetime(inputs_init['start_dt'])\n",
    "inputs_init['end_dt'] = pd.to_datetime(inputs_init['end_dt'])"
   ]
  },
  {
   "cell_type": "markdown",
   "id": "aab1df81",
   "metadata": {},
   "source": [
    "##### Evaluate `idle_ms` and `total_ms` values\n",
    "\n",
    "`idle_ms` has 158 negative values, all of which are large in magnitude with a min of -2.06 x 10^14. The average values for the mouse and keyboard actions are mostly higher for this group than those for the set of records with positive or zero idle times. \n",
    "\n",
    "`total_ms` has one record with negative values because the start date is greater than the end date. About 26% of records have a `total_ms` of 0 because the start and end times are equal. Of these records with equal start and end times, there are mouse and keyboard actions recorded for about 94% of them."
   ]
  },
  {
   "cell_type": "code",
   "execution_count": 19,
   "id": "f20510df",
   "metadata": {},
   "outputs": [
    {
     "data": {
      "text/plain": [
       "count    2.271290e+05\n",
       "mean    -1.873839e+09\n",
       "std      4.528877e+11\n",
       "min     -2.059092e+14\n",
       "25%      0.000000e+00\n",
       "50%      7.900000e+01\n",
       "75%      5.719000e+03\n",
       "max      7.244736e+09\n",
       "Name: idle_ms, dtype: float64"
      ]
     },
     "execution_count": 19,
     "metadata": {},
     "output_type": "execute_result"
    }
   ],
   "source": [
    "inputs_init['idle_ms'].describe()"
   ]
  },
  {
   "cell_type": "code",
   "execution_count": 20,
   "id": "3c06eda6",
   "metadata": {},
   "outputs": [
    {
     "data": {
      "text/plain": [
       "158"
      ]
     },
     "execution_count": 20,
     "metadata": {},
     "output_type": "execute_result"
    }
   ],
   "source": [
    "inputs_init.loc[inputs_init['idle_ms'] < 0].shape[0]"
   ]
  },
  {
   "cell_type": "code",
   "execution_count": 21,
   "id": "93dd4d1b",
   "metadata": {},
   "outputs": [
    {
     "data": {
      "text/html": [
       "<div>\n",
       "<style scoped>\n",
       "    .dataframe tbody tr th:only-of-type {\n",
       "        vertical-align: middle;\n",
       "    }\n",
       "\n",
       "    .dataframe tbody tr th {\n",
       "        vertical-align: top;\n",
       "    }\n",
       "\n",
       "    .dataframe thead th {\n",
       "        text-align: right;\n",
       "    }\n",
       "</style>\n",
       "<table border=\"1\" class=\"dataframe\">\n",
       "  <thead>\n",
       "    <tr style=\"text-align: right;\">\n",
       "      <th></th>\n",
       "      <th>total_ms</th>\n",
       "      <th>idle_ms</th>\n",
       "      <th>mw</th>\n",
       "      <th>mwc</th>\n",
       "      <th>mcl</th>\n",
       "      <th>mcr</th>\n",
       "      <th>mm</th>\n",
       "      <th>ks</th>\n",
       "    </tr>\n",
       "  </thead>\n",
       "  <tbody>\n",
       "    <tr>\n",
       "      <th>count</th>\n",
       "      <td>158.000000</td>\n",
       "      <td>1.580000e+02</td>\n",
       "      <td>158.000000</td>\n",
       "      <td>158.0</td>\n",
       "      <td>158.000000</td>\n",
       "      <td>158.000000</td>\n",
       "      <td>158.000000</td>\n",
       "      <td>158.000000</td>\n",
       "    </tr>\n",
       "    <tr>\n",
       "      <th>mean</th>\n",
       "      <td>29177.215190</td>\n",
       "      <td>-2.695335e+12</td>\n",
       "      <td>7.987342</td>\n",
       "      <td>0.0</td>\n",
       "      <td>6.955696</td>\n",
       "      <td>0.607595</td>\n",
       "      <td>560.537975</td>\n",
       "      <td>16.316456</td>\n",
       "    </tr>\n",
       "    <tr>\n",
       "      <th>std</th>\n",
       "      <td>66599.144903</td>\n",
       "      <td>1.701228e+13</td>\n",
       "      <td>25.769183</td>\n",
       "      <td>0.0</td>\n",
       "      <td>11.049019</td>\n",
       "      <td>2.648964</td>\n",
       "      <td>687.320243</td>\n",
       "      <td>78.981501</td>\n",
       "    </tr>\n",
       "    <tr>\n",
       "      <th>min</th>\n",
       "      <td>1000.000000</td>\n",
       "      <td>-2.059092e+14</td>\n",
       "      <td>0.000000</td>\n",
       "      <td>0.0</td>\n",
       "      <td>0.000000</td>\n",
       "      <td>0.000000</td>\n",
       "      <td>13.000000</td>\n",
       "      <td>0.000000</td>\n",
       "    </tr>\n",
       "    <tr>\n",
       "      <th>25%</th>\n",
       "      <td>2000.000000</td>\n",
       "      <td>-3.639984e+11</td>\n",
       "      <td>0.000000</td>\n",
       "      <td>0.0</td>\n",
       "      <td>2.000000</td>\n",
       "      <td>0.000000</td>\n",
       "      <td>168.000000</td>\n",
       "      <td>0.000000</td>\n",
       "    </tr>\n",
       "    <tr>\n",
       "      <th>50%</th>\n",
       "      <td>7000.000000</td>\n",
       "      <td>-3.221225e+10</td>\n",
       "      <td>0.000000</td>\n",
       "      <td>0.0</td>\n",
       "      <td>4.000000</td>\n",
       "      <td>0.000000</td>\n",
       "      <td>312.000000</td>\n",
       "      <td>0.000000</td>\n",
       "    </tr>\n",
       "    <tr>\n",
       "      <th>75%</th>\n",
       "      <td>27500.000000</td>\n",
       "      <td>-4.294967e+09</td>\n",
       "      <td>0.750000</td>\n",
       "      <td>0.0</td>\n",
       "      <td>6.000000</td>\n",
       "      <td>0.000000</td>\n",
       "      <td>627.500000</td>\n",
       "      <td>0.000000</td>\n",
       "    </tr>\n",
       "    <tr>\n",
       "      <th>max</th>\n",
       "      <td>624000.000000</td>\n",
       "      <td>-4.294833e+09</td>\n",
       "      <td>172.000000</td>\n",
       "      <td>0.0</td>\n",
       "      <td>82.000000</td>\n",
       "      <td>22.000000</td>\n",
       "      <td>4153.000000</td>\n",
       "      <td>850.000000</td>\n",
       "    </tr>\n",
       "  </tbody>\n",
       "</table>\n",
       "</div>"
      ],
      "text/plain": [
       "            total_ms       idle_ms          mw    mwc         mcl         mcr  \\\n",
       "count     158.000000  1.580000e+02  158.000000  158.0  158.000000  158.000000   \n",
       "mean    29177.215190 -2.695335e+12    7.987342    0.0    6.955696    0.607595   \n",
       "std     66599.144903  1.701228e+13   25.769183    0.0   11.049019    2.648964   \n",
       "min      1000.000000 -2.059092e+14    0.000000    0.0    0.000000    0.000000   \n",
       "25%      2000.000000 -3.639984e+11    0.000000    0.0    2.000000    0.000000   \n",
       "50%      7000.000000 -3.221225e+10    0.000000    0.0    4.000000    0.000000   \n",
       "75%     27500.000000 -4.294967e+09    0.750000    0.0    6.000000    0.000000   \n",
       "max    624000.000000 -4.294833e+09  172.000000    0.0   82.000000   22.000000   \n",
       "\n",
       "                mm          ks  \n",
       "count   158.000000  158.000000  \n",
       "mean    560.537975   16.316456  \n",
       "std     687.320243   78.981501  \n",
       "min      13.000000    0.000000  \n",
       "25%     168.000000    0.000000  \n",
       "50%     312.000000    0.000000  \n",
       "75%     627.500000    0.000000  \n",
       "max    4153.000000  850.000000  "
      ]
     },
     "execution_count": 21,
     "metadata": {},
     "output_type": "execute_result"
    }
   ],
   "source": [
    "inputs_init.loc[inputs_init['idle_ms'] < 0].describe()"
   ]
  },
  {
   "cell_type": "code",
   "execution_count": 22,
   "id": "590216b0",
   "metadata": {},
   "outputs": [
    {
     "data": {
      "text/html": [
       "<div>\n",
       "<style scoped>\n",
       "    .dataframe tbody tr th:only-of-type {\n",
       "        vertical-align: middle;\n",
       "    }\n",
       "\n",
       "    .dataframe tbody tr th {\n",
       "        vertical-align: top;\n",
       "    }\n",
       "\n",
       "    .dataframe thead th {\n",
       "        text-align: right;\n",
       "    }\n",
       "</style>\n",
       "<table border=\"1\" class=\"dataframe\">\n",
       "  <thead>\n",
       "    <tr style=\"text-align: right;\">\n",
       "      <th></th>\n",
       "      <th>total_ms</th>\n",
       "      <th>idle_ms</th>\n",
       "      <th>mw</th>\n",
       "      <th>mwc</th>\n",
       "      <th>mcl</th>\n",
       "      <th>mcr</th>\n",
       "      <th>mm</th>\n",
       "      <th>ks</th>\n",
       "    </tr>\n",
       "  </thead>\n",
       "  <tbody>\n",
       "    <tr>\n",
       "      <th>count</th>\n",
       "      <td>2.269710e+05</td>\n",
       "      <td>2.269710e+05</td>\n",
       "      <td>226971.000000</td>\n",
       "      <td>226971.000000</td>\n",
       "      <td>226971.000000</td>\n",
       "      <td>226971.000000</td>\n",
       "      <td>226971.000000</td>\n",
       "      <td>226971.000000</td>\n",
       "    </tr>\n",
       "    <tr>\n",
       "      <th>mean</th>\n",
       "      <td>1.584867e+04</td>\n",
       "      <td>1.144022e+06</td>\n",
       "      <td>2.703433</td>\n",
       "      <td>0.005454</td>\n",
       "      <td>7.076023</td>\n",
       "      <td>0.336642</td>\n",
       "      <td>414.526257</td>\n",
       "      <td>6.274912</td>\n",
       "    </tr>\n",
       "    <tr>\n",
       "      <th>std</th>\n",
       "      <td>6.111513e+04</td>\n",
       "      <td>2.977009e+07</td>\n",
       "      <td>27.103456</td>\n",
       "      <td>0.224617</td>\n",
       "      <td>21.564804</td>\n",
       "      <td>3.023388</td>\n",
       "      <td>1276.142958</td>\n",
       "      <td>50.923113</td>\n",
       "    </tr>\n",
       "    <tr>\n",
       "      <th>min</th>\n",
       "      <td>-6.120000e+05</td>\n",
       "      <td>0.000000e+00</td>\n",
       "      <td>0.000000</td>\n",
       "      <td>0.000000</td>\n",
       "      <td>0.000000</td>\n",
       "      <td>0.000000</td>\n",
       "      <td>0.000000</td>\n",
       "      <td>0.000000</td>\n",
       "    </tr>\n",
       "    <tr>\n",
       "      <th>25%</th>\n",
       "      <td>0.000000e+00</td>\n",
       "      <td>0.000000e+00</td>\n",
       "      <td>0.000000</td>\n",
       "      <td>0.000000</td>\n",
       "      <td>2.000000</td>\n",
       "      <td>0.000000</td>\n",
       "      <td>62.000000</td>\n",
       "      <td>0.000000</td>\n",
       "    </tr>\n",
       "    <tr>\n",
       "      <th>50%</th>\n",
       "      <td>2.000000e+03</td>\n",
       "      <td>8.000000e+01</td>\n",
       "      <td>0.000000</td>\n",
       "      <td>0.000000</td>\n",
       "      <td>2.000000</td>\n",
       "      <td>0.000000</td>\n",
       "      <td>137.000000</td>\n",
       "      <td>0.000000</td>\n",
       "    </tr>\n",
       "    <tr>\n",
       "      <th>75%</th>\n",
       "      <td>9.000000e+03</td>\n",
       "      <td>5.740500e+03</td>\n",
       "      <td>0.000000</td>\n",
       "      <td>0.000000</td>\n",
       "      <td>5.000000</td>\n",
       "      <td>0.000000</td>\n",
       "      <td>335.000000</td>\n",
       "      <td>0.000000</td>\n",
       "    </tr>\n",
       "    <tr>\n",
       "      <th>max</th>\n",
       "      <td>3.861000e+06</td>\n",
       "      <td>7.244736e+09</td>\n",
       "      <td>2904.000000</td>\n",
       "      <td>60.000000</td>\n",
       "      <td>1096.000000</td>\n",
       "      <td>168.000000</td>\n",
       "      <td>85949.000000</td>\n",
       "      <td>4754.000000</td>\n",
       "    </tr>\n",
       "  </tbody>\n",
       "</table>\n",
       "</div>"
      ],
      "text/plain": [
       "           total_ms       idle_ms             mw            mwc  \\\n",
       "count  2.269710e+05  2.269710e+05  226971.000000  226971.000000   \n",
       "mean   1.584867e+04  1.144022e+06       2.703433       0.005454   \n",
       "std    6.111513e+04  2.977009e+07      27.103456       0.224617   \n",
       "min   -6.120000e+05  0.000000e+00       0.000000       0.000000   \n",
       "25%    0.000000e+00  0.000000e+00       0.000000       0.000000   \n",
       "50%    2.000000e+03  8.000000e+01       0.000000       0.000000   \n",
       "75%    9.000000e+03  5.740500e+03       0.000000       0.000000   \n",
       "max    3.861000e+06  7.244736e+09    2904.000000      60.000000   \n",
       "\n",
       "                 mcl            mcr             mm             ks  \n",
       "count  226971.000000  226971.000000  226971.000000  226971.000000  \n",
       "mean        7.076023       0.336642     414.526257       6.274912  \n",
       "std        21.564804       3.023388    1276.142958      50.923113  \n",
       "min         0.000000       0.000000       0.000000       0.000000  \n",
       "25%         2.000000       0.000000      62.000000       0.000000  \n",
       "50%         2.000000       0.000000     137.000000       0.000000  \n",
       "75%         5.000000       0.000000     335.000000       0.000000  \n",
       "max      1096.000000     168.000000   85949.000000    4754.000000  "
      ]
     },
     "execution_count": 22,
     "metadata": {},
     "output_type": "execute_result"
    }
   ],
   "source": [
    "inputs_init.loc[inputs_init['idle_ms'] >= 0].describe()"
   ]
  },
  {
   "cell_type": "code",
   "execution_count": 23,
   "id": "c6552ea2",
   "metadata": {},
   "outputs": [
    {
     "data": {
      "text/plain": [
       "count    2.271290e+05\n",
       "mean     1.585794e+04\n",
       "std      6.111997e+04\n",
       "min     -6.120000e+05\n",
       "25%      0.000000e+00\n",
       "50%      2.000000e+03\n",
       "75%      9.000000e+03\n",
       "max      3.861000e+06\n",
       "Name: total_ms, dtype: float64"
      ]
     },
     "execution_count": 23,
     "metadata": {},
     "output_type": "execute_result"
    }
   ],
   "source": [
    "inputs_init['total_ms'].describe()"
   ]
  },
  {
   "cell_type": "code",
   "execution_count": 24,
   "id": "584b495e",
   "metadata": {},
   "outputs": [
    {
     "data": {
      "text/plain": [
       "1"
      ]
     },
     "execution_count": 24,
     "metadata": {},
     "output_type": "execute_result"
    }
   ],
   "source": [
    "inputs_init.loc[inputs_init['total_ms'] < 0].shape[0]"
   ]
  },
  {
   "cell_type": "code",
   "execution_count": 25,
   "id": "27f1f12c",
   "metadata": {},
   "outputs": [
    {
     "data": {
      "text/html": [
       "<div>\n",
       "<style scoped>\n",
       "    .dataframe tbody tr th:only-of-type {\n",
       "        vertical-align: middle;\n",
       "    }\n",
       "\n",
       "    .dataframe tbody tr th {\n",
       "        vertical-align: top;\n",
       "    }\n",
       "\n",
       "    .dataframe thead th {\n",
       "        text-align: right;\n",
       "    }\n",
       "</style>\n",
       "<table border=\"1\" class=\"dataframe\">\n",
       "  <thead>\n",
       "    <tr style=\"text-align: right;\">\n",
       "      <th></th>\n",
       "      <th>sess</th>\n",
       "      <th>sid</th>\n",
       "      <th>exer</th>\n",
       "      <th>actv</th>\n",
       "      <th>actv_grp</th>\n",
       "      <th>actv_exer</th>\n",
       "      <th>start_dt</th>\n",
       "      <th>end_dt</th>\n",
       "      <th>total_ms</th>\n",
       "      <th>idle_ms</th>\n",
       "      <th>mw</th>\n",
       "      <th>mwc</th>\n",
       "      <th>mcl</th>\n",
       "      <th>mcr</th>\n",
       "      <th>mm</th>\n",
       "      <th>ks</th>\n",
       "    </tr>\n",
       "  </thead>\n",
       "  <tbody>\n",
       "    <tr>\n",
       "      <th>137606</th>\n",
       "      <td>4</td>\n",
       "      <td>89</td>\n",
       "      <td>Es_4_5</td>\n",
       "      <td>Diagram</td>\n",
       "      <td>Diagram</td>\n",
       "      <td>NaN</td>\n",
       "      <td>2014-11-13 13:50:40</td>\n",
       "      <td>2014-11-13 13:40:28</td>\n",
       "      <td>-612000.0</td>\n",
       "      <td>30681</td>\n",
       "      <td>0</td>\n",
       "      <td>0</td>\n",
       "      <td>42</td>\n",
       "      <td>0</td>\n",
       "      <td>636</td>\n",
       "      <td>0</td>\n",
       "    </tr>\n",
       "  </tbody>\n",
       "</table>\n",
       "</div>"
      ],
      "text/plain": [
       "       sess sid    exer     actv actv_grp actv_exer            start_dt  \\\n",
       "137606    4  89  Es_4_5  Diagram  Diagram       NaN 2014-11-13 13:50:40   \n",
       "\n",
       "                    end_dt  total_ms  idle_ms  mw  mwc  mcl  mcr   mm  ks  \n",
       "137606 2014-11-13 13:40:28 -612000.0    30681   0    0   42    0  636   0  "
      ]
     },
     "execution_count": 25,
     "metadata": {},
     "output_type": "execute_result"
    }
   ],
   "source": [
    "inputs_init.loc[inputs_init['total_ms'] < 0]"
   ]
  },
  {
   "cell_type": "code",
   "execution_count": 26,
   "id": "08130548",
   "metadata": {},
   "outputs": [
    {
     "data": {
      "text/html": [
       "<div>\n",
       "<style scoped>\n",
       "    .dataframe tbody tr th:only-of-type {\n",
       "        vertical-align: middle;\n",
       "    }\n",
       "\n",
       "    .dataframe tbody tr th {\n",
       "        vertical-align: top;\n",
       "    }\n",
       "\n",
       "    .dataframe thead th {\n",
       "        text-align: right;\n",
       "    }\n",
       "</style>\n",
       "<table border=\"1\" class=\"dataframe\">\n",
       "  <thead>\n",
       "    <tr style=\"text-align: right;\">\n",
       "      <th></th>\n",
       "      <th>sess</th>\n",
       "      <th>sid</th>\n",
       "      <th>exer</th>\n",
       "      <th>actv</th>\n",
       "      <th>actv_grp</th>\n",
       "      <th>actv_exer</th>\n",
       "      <th>start_dt</th>\n",
       "      <th>end_dt</th>\n",
       "      <th>total_ms</th>\n",
       "      <th>idle_ms</th>\n",
       "      <th>mw</th>\n",
       "      <th>mwc</th>\n",
       "      <th>mcl</th>\n",
       "      <th>mcr</th>\n",
       "      <th>mm</th>\n",
       "      <th>ks</th>\n",
       "    </tr>\n",
       "  </thead>\n",
       "  <tbody>\n",
       "    <tr>\n",
       "      <th>137606</th>\n",
       "      <td>4</td>\n",
       "      <td>89</td>\n",
       "      <td>Es_4_5</td>\n",
       "      <td>Diagram</td>\n",
       "      <td>Diagram</td>\n",
       "      <td>NaN</td>\n",
       "      <td>2014-11-13 13:50:40</td>\n",
       "      <td>2014-11-13 13:40:28</td>\n",
       "      <td>-612000.0</td>\n",
       "      <td>30681</td>\n",
       "      <td>0</td>\n",
       "      <td>0</td>\n",
       "      <td>42</td>\n",
       "      <td>0</td>\n",
       "      <td>636</td>\n",
       "      <td>0</td>\n",
       "    </tr>\n",
       "  </tbody>\n",
       "</table>\n",
       "</div>"
      ],
      "text/plain": [
       "       sess sid    exer     actv actv_grp actv_exer            start_dt  \\\n",
       "137606    4  89  Es_4_5  Diagram  Diagram       NaN 2014-11-13 13:50:40   \n",
       "\n",
       "                    end_dt  total_ms  idle_ms  mw  mwc  mcl  mcr   mm  ks  \n",
       "137606 2014-11-13 13:40:28 -612000.0    30681   0    0   42    0  636   0  "
      ]
     },
     "execution_count": 26,
     "metadata": {},
     "output_type": "execute_result"
    }
   ],
   "source": [
    "inputs_init.loc[inputs_init['start_dt'] > inputs_init['end_dt']]"
   ]
  },
  {
   "cell_type": "code",
   "execution_count": 27,
   "id": "7f1f9f41",
   "metadata": {},
   "outputs": [
    {
     "data": {
      "text/html": [
       "<div>\n",
       "<style scoped>\n",
       "    .dataframe tbody tr th:only-of-type {\n",
       "        vertical-align: middle;\n",
       "    }\n",
       "\n",
       "    .dataframe tbody tr th {\n",
       "        vertical-align: top;\n",
       "    }\n",
       "\n",
       "    .dataframe thead th {\n",
       "        text-align: right;\n",
       "    }\n",
       "</style>\n",
       "<table border=\"1\" class=\"dataframe\">\n",
       "  <thead>\n",
       "    <tr style=\"text-align: right;\">\n",
       "      <th></th>\n",
       "      <th>total_ms</th>\n",
       "      <th>idle_ms</th>\n",
       "      <th>mw</th>\n",
       "      <th>mwc</th>\n",
       "      <th>mcl</th>\n",
       "      <th>mcr</th>\n",
       "      <th>mm</th>\n",
       "      <th>ks</th>\n",
       "    </tr>\n",
       "  </thead>\n",
       "  <tbody>\n",
       "    <tr>\n",
       "      <th>count</th>\n",
       "      <td>59767.0</td>\n",
       "      <td>59767.0</td>\n",
       "      <td>59767.000000</td>\n",
       "      <td>59767.000000</td>\n",
       "      <td>59767.000000</td>\n",
       "      <td>59767.000000</td>\n",
       "      <td>59767.000000</td>\n",
       "      <td>59767.000000</td>\n",
       "    </tr>\n",
       "    <tr>\n",
       "      <th>mean</th>\n",
       "      <td>0.0</td>\n",
       "      <td>0.0</td>\n",
       "      <td>0.024662</td>\n",
       "      <td>0.001071</td>\n",
       "      <td>1.753074</td>\n",
       "      <td>0.039487</td>\n",
       "      <td>58.992588</td>\n",
       "      <td>0.086268</td>\n",
       "    </tr>\n",
       "    <tr>\n",
       "      <th>std</th>\n",
       "      <td>0.0</td>\n",
       "      <td>0.0</td>\n",
       "      <td>0.600667</td>\n",
       "      <td>0.048387</td>\n",
       "      <td>1.004523</td>\n",
       "      <td>0.277212</td>\n",
       "      <td>60.357439</td>\n",
       "      <td>0.825030</td>\n",
       "    </tr>\n",
       "    <tr>\n",
       "      <th>min</th>\n",
       "      <td>0.0</td>\n",
       "      <td>0.0</td>\n",
       "      <td>0.000000</td>\n",
       "      <td>0.000000</td>\n",
       "      <td>0.000000</td>\n",
       "      <td>0.000000</td>\n",
       "      <td>0.000000</td>\n",
       "      <td>0.000000</td>\n",
       "    </tr>\n",
       "    <tr>\n",
       "      <th>25%</th>\n",
       "      <td>0.0</td>\n",
       "      <td>0.0</td>\n",
       "      <td>0.000000</td>\n",
       "      <td>0.000000</td>\n",
       "      <td>1.000000</td>\n",
       "      <td>0.000000</td>\n",
       "      <td>25.000000</td>\n",
       "      <td>0.000000</td>\n",
       "    </tr>\n",
       "    <tr>\n",
       "      <th>50%</th>\n",
       "      <td>0.0</td>\n",
       "      <td>0.0</td>\n",
       "      <td>0.000000</td>\n",
       "      <td>0.000000</td>\n",
       "      <td>2.000000</td>\n",
       "      <td>0.000000</td>\n",
       "      <td>51.000000</td>\n",
       "      <td>0.000000</td>\n",
       "    </tr>\n",
       "    <tr>\n",
       "      <th>75%</th>\n",
       "      <td>0.0</td>\n",
       "      <td>0.0</td>\n",
       "      <td>0.000000</td>\n",
       "      <td>0.000000</td>\n",
       "      <td>2.000000</td>\n",
       "      <td>0.000000</td>\n",
       "      <td>79.000000</td>\n",
       "      <td>0.000000</td>\n",
       "    </tr>\n",
       "    <tr>\n",
       "      <th>max</th>\n",
       "      <td>0.0</td>\n",
       "      <td>0.0</td>\n",
       "      <td>69.000000</td>\n",
       "      <td>5.000000</td>\n",
       "      <td>12.000000</td>\n",
       "      <td>6.000000</td>\n",
       "      <td>780.000000</td>\n",
       "      <td>38.000000</td>\n",
       "    </tr>\n",
       "  </tbody>\n",
       "</table>\n",
       "</div>"
      ],
      "text/plain": [
       "       total_ms  idle_ms            mw           mwc           mcl  \\\n",
       "count   59767.0  59767.0  59767.000000  59767.000000  59767.000000   \n",
       "mean        0.0      0.0      0.024662      0.001071      1.753074   \n",
       "std         0.0      0.0      0.600667      0.048387      1.004523   \n",
       "min         0.0      0.0      0.000000      0.000000      0.000000   \n",
       "25%         0.0      0.0      0.000000      0.000000      1.000000   \n",
       "50%         0.0      0.0      0.000000      0.000000      2.000000   \n",
       "75%         0.0      0.0      0.000000      0.000000      2.000000   \n",
       "max         0.0      0.0     69.000000      5.000000     12.000000   \n",
       "\n",
       "                mcr            mm            ks  \n",
       "count  59767.000000  59767.000000  59767.000000  \n",
       "mean       0.039487     58.992588      0.086268  \n",
       "std        0.277212     60.357439      0.825030  \n",
       "min        0.000000      0.000000      0.000000  \n",
       "25%        0.000000     25.000000      0.000000  \n",
       "50%        0.000000     51.000000      0.000000  \n",
       "75%        0.000000     79.000000      0.000000  \n",
       "max        6.000000    780.000000     38.000000  "
      ]
     },
     "execution_count": 27,
     "metadata": {},
     "output_type": "execute_result"
    }
   ],
   "source": [
    "inputs_init.loc[inputs_init['total_ms'] == 0].describe()"
   ]
  },
  {
   "cell_type": "code",
   "execution_count": 28,
   "id": "50d59696",
   "metadata": {},
   "outputs": [
    {
     "data": {
      "text/html": [
       "<div>\n",
       "<style scoped>\n",
       "    .dataframe tbody tr th:only-of-type {\n",
       "        vertical-align: middle;\n",
       "    }\n",
       "\n",
       "    .dataframe tbody tr th {\n",
       "        vertical-align: top;\n",
       "    }\n",
       "\n",
       "    .dataframe thead th {\n",
       "        text-align: right;\n",
       "    }\n",
       "</style>\n",
       "<table border=\"1\" class=\"dataframe\">\n",
       "  <thead>\n",
       "    <tr style=\"text-align: right;\">\n",
       "      <th></th>\n",
       "      <th>total_ms</th>\n",
       "      <th>idle_ms</th>\n",
       "      <th>mw</th>\n",
       "      <th>mwc</th>\n",
       "      <th>mcl</th>\n",
       "      <th>mcr</th>\n",
       "      <th>mm</th>\n",
       "      <th>ks</th>\n",
       "    </tr>\n",
       "  </thead>\n",
       "  <tbody>\n",
       "    <tr>\n",
       "      <th>count</th>\n",
       "      <td>2.271280e+05</td>\n",
       "      <td>2.271280e+05</td>\n",
       "      <td>227128.000000</td>\n",
       "      <td>227128.000000</td>\n",
       "      <td>227128.000000</td>\n",
       "      <td>227128.000000</td>\n",
       "      <td>227128.000000</td>\n",
       "      <td>227128.000000</td>\n",
       "    </tr>\n",
       "    <tr>\n",
       "      <th>mean</th>\n",
       "      <td>1.586071e+04</td>\n",
       "      <td>-1.873848e+09</td>\n",
       "      <td>2.707121</td>\n",
       "      <td>0.005451</td>\n",
       "      <td>7.075785</td>\n",
       "      <td>0.336832</td>\n",
       "      <td>414.626854</td>\n",
       "      <td>6.281925</td>\n",
       "    </tr>\n",
       "    <tr>\n",
       "      <th>std</th>\n",
       "      <td>6.110590e+04</td>\n",
       "      <td>4.528886e+11</td>\n",
       "      <td>27.102914</td>\n",
       "      <td>0.224539</td>\n",
       "      <td>21.559182</td>\n",
       "      <td>3.023153</td>\n",
       "      <td>1275.835525</td>\n",
       "      <td>50.948531</td>\n",
       "    </tr>\n",
       "    <tr>\n",
       "      <th>min</th>\n",
       "      <td>0.000000e+00</td>\n",
       "      <td>-2.059092e+14</td>\n",
       "      <td>0.000000</td>\n",
       "      <td>0.000000</td>\n",
       "      <td>0.000000</td>\n",
       "      <td>0.000000</td>\n",
       "      <td>0.000000</td>\n",
       "      <td>0.000000</td>\n",
       "    </tr>\n",
       "    <tr>\n",
       "      <th>25%</th>\n",
       "      <td>0.000000e+00</td>\n",
       "      <td>0.000000e+00</td>\n",
       "      <td>0.000000</td>\n",
       "      <td>0.000000</td>\n",
       "      <td>2.000000</td>\n",
       "      <td>0.000000</td>\n",
       "      <td>62.000000</td>\n",
       "      <td>0.000000</td>\n",
       "    </tr>\n",
       "    <tr>\n",
       "      <th>50%</th>\n",
       "      <td>2.000000e+03</td>\n",
       "      <td>7.900000e+01</td>\n",
       "      <td>0.000000</td>\n",
       "      <td>0.000000</td>\n",
       "      <td>2.000000</td>\n",
       "      <td>0.000000</td>\n",
       "      <td>137.000000</td>\n",
       "      <td>0.000000</td>\n",
       "    </tr>\n",
       "    <tr>\n",
       "      <th>75%</th>\n",
       "      <td>9.000000e+03</td>\n",
       "      <td>5.719000e+03</td>\n",
       "      <td>0.000000</td>\n",
       "      <td>0.000000</td>\n",
       "      <td>5.000000</td>\n",
       "      <td>0.000000</td>\n",
       "      <td>335.000000</td>\n",
       "      <td>0.000000</td>\n",
       "    </tr>\n",
       "    <tr>\n",
       "      <th>max</th>\n",
       "      <td>3.861000e+06</td>\n",
       "      <td>7.244736e+09</td>\n",
       "      <td>2904.000000</td>\n",
       "      <td>60.000000</td>\n",
       "      <td>1096.000000</td>\n",
       "      <td>168.000000</td>\n",
       "      <td>85949.000000</td>\n",
       "      <td>4754.000000</td>\n",
       "    </tr>\n",
       "  </tbody>\n",
       "</table>\n",
       "</div>"
      ],
      "text/plain": [
       "           total_ms       idle_ms             mw            mwc  \\\n",
       "count  2.271280e+05  2.271280e+05  227128.000000  227128.000000   \n",
       "mean   1.586071e+04 -1.873848e+09       2.707121       0.005451   \n",
       "std    6.110590e+04  4.528886e+11      27.102914       0.224539   \n",
       "min    0.000000e+00 -2.059092e+14       0.000000       0.000000   \n",
       "25%    0.000000e+00  0.000000e+00       0.000000       0.000000   \n",
       "50%    2.000000e+03  7.900000e+01       0.000000       0.000000   \n",
       "75%    9.000000e+03  5.719000e+03       0.000000       0.000000   \n",
       "max    3.861000e+06  7.244736e+09    2904.000000      60.000000   \n",
       "\n",
       "                 mcl            mcr             mm             ks  \n",
       "count  227128.000000  227128.000000  227128.000000  227128.000000  \n",
       "mean        7.075785       0.336832     414.626854       6.281925  \n",
       "std        21.559182       3.023153    1275.835525      50.948531  \n",
       "min         0.000000       0.000000       0.000000       0.000000  \n",
       "25%         2.000000       0.000000      62.000000       0.000000  \n",
       "50%         2.000000       0.000000     137.000000       0.000000  \n",
       "75%         5.000000       0.000000     335.000000       0.000000  \n",
       "max      1096.000000     168.000000   85949.000000    4754.000000  "
      ]
     },
     "execution_count": 28,
     "metadata": {},
     "output_type": "execute_result"
    }
   ],
   "source": [
    "inputs_init.loc[inputs_init['total_ms'] >= 0].describe()"
   ]
  },
  {
   "cell_type": "markdown",
   "id": "fbe6a8e7",
   "metadata": {},
   "source": [
    "#### <span style=\"color:red\">Should anything be done to start and end times when they are equal?</span>"
   ]
  },
  {
   "cell_type": "code",
   "execution_count": 29,
   "id": "50bc19e6",
   "metadata": {},
   "outputs": [],
   "source": [
    "chk = inputs_init.copy()"
   ]
  },
  {
   "cell_type": "code",
   "execution_count": 30,
   "id": "1dee6d78",
   "metadata": {},
   "outputs": [],
   "source": [
    "chk['zero_time'] = np.where(chk['start_dt'] == chk['end_dt'], 1, 0)"
   ]
  },
  {
   "cell_type": "code",
   "execution_count": 31,
   "id": "205fc781",
   "metadata": {},
   "outputs": [
    {
     "data": {
      "text/plain": [
       "59767"
      ]
     },
     "execution_count": 31,
     "metadata": {},
     "output_type": "execute_result"
    }
   ],
   "source": [
    "chk['zero_time'].sum()"
   ]
  },
  {
   "cell_type": "code",
   "execution_count": 32,
   "id": "7332e464",
   "metadata": {},
   "outputs": [
    {
     "data": {
      "text/plain": [
       "0.26314121050152117"
      ]
     },
     "execution_count": 32,
     "metadata": {},
     "output_type": "execute_result"
    }
   ],
   "source": [
    "chk['zero_time'].mean()"
   ]
  },
  {
   "cell_type": "code",
   "execution_count": 33,
   "id": "1ea3c79c",
   "metadata": {},
   "outputs": [
    {
     "data": {
      "text/html": [
       "<div>\n",
       "<style scoped>\n",
       "    .dataframe tbody tr th:only-of-type {\n",
       "        vertical-align: middle;\n",
       "    }\n",
       "\n",
       "    .dataframe tbody tr th {\n",
       "        vertical-align: top;\n",
       "    }\n",
       "\n",
       "    .dataframe thead th {\n",
       "        text-align: right;\n",
       "    }\n",
       "</style>\n",
       "<table border=\"1\" class=\"dataframe\">\n",
       "  <thead>\n",
       "    <tr style=\"text-align: right;\">\n",
       "      <th></th>\n",
       "      <th>sess</th>\n",
       "      <th>sid</th>\n",
       "      <th>exer</th>\n",
       "      <th>actv</th>\n",
       "      <th>actv_grp</th>\n",
       "      <th>actv_exer</th>\n",
       "      <th>start_dt</th>\n",
       "      <th>end_dt</th>\n",
       "      <th>total_ms</th>\n",
       "      <th>idle_ms</th>\n",
       "      <th>mw</th>\n",
       "      <th>mwc</th>\n",
       "      <th>mcl</th>\n",
       "      <th>mcr</th>\n",
       "      <th>mm</th>\n",
       "      <th>ks</th>\n",
       "      <th>zero_time</th>\n",
       "    </tr>\n",
       "  </thead>\n",
       "  <tbody>\n",
       "    <tr>\n",
       "      <th>169</th>\n",
       "      <td>1</td>\n",
       "      <td>1</td>\n",
       "      <td>Es_1_2</td>\n",
       "      <td>Study_Es_1_2</td>\n",
       "      <td>Study</td>\n",
       "      <td>Es_1_2</td>\n",
       "      <td>2014-02-10 12:14:34</td>\n",
       "      <td>2014-02-10 12:14:34</td>\n",
       "      <td>0.0</td>\n",
       "      <td>0</td>\n",
       "      <td>0</td>\n",
       "      <td>0</td>\n",
       "      <td>0</td>\n",
       "      <td>0</td>\n",
       "      <td>0</td>\n",
       "      <td>0</td>\n",
       "      <td>1</td>\n",
       "    </tr>\n",
       "    <tr>\n",
       "      <th>593</th>\n",
       "      <td>1</td>\n",
       "      <td>2</td>\n",
       "      <td>Es_1_1</td>\n",
       "      <td>Other</td>\n",
       "      <td>Other</td>\n",
       "      <td>NaN</td>\n",
       "      <td>2014-02-10 11:38:24</td>\n",
       "      <td>2014-02-10 11:38:24</td>\n",
       "      <td>0.0</td>\n",
       "      <td>0</td>\n",
       "      <td>0</td>\n",
       "      <td>0</td>\n",
       "      <td>0</td>\n",
       "      <td>0</td>\n",
       "      <td>0</td>\n",
       "      <td>0</td>\n",
       "      <td>1</td>\n",
       "    </tr>\n",
       "    <tr>\n",
       "      <th>594</th>\n",
       "      <td>1</td>\n",
       "      <td>2</td>\n",
       "      <td>Es_1_1</td>\n",
       "      <td>Blank</td>\n",
       "      <td>Blank</td>\n",
       "      <td>NaN</td>\n",
       "      <td>2014-02-10 11:38:25</td>\n",
       "      <td>2014-02-10 11:38:25</td>\n",
       "      <td>0.0</td>\n",
       "      <td>0</td>\n",
       "      <td>0</td>\n",
       "      <td>0</td>\n",
       "      <td>0</td>\n",
       "      <td>0</td>\n",
       "      <td>0</td>\n",
       "      <td>0</td>\n",
       "      <td>1</td>\n",
       "    </tr>\n",
       "    <tr>\n",
       "      <th>597</th>\n",
       "      <td>1</td>\n",
       "      <td>2</td>\n",
       "      <td>Es_1_1</td>\n",
       "      <td>Blank</td>\n",
       "      <td>Blank</td>\n",
       "      <td>NaN</td>\n",
       "      <td>2014-02-10 11:38:43</td>\n",
       "      <td>2014-02-10 11:38:43</td>\n",
       "      <td>0.0</td>\n",
       "      <td>0</td>\n",
       "      <td>0</td>\n",
       "      <td>0</td>\n",
       "      <td>0</td>\n",
       "      <td>0</td>\n",
       "      <td>0</td>\n",
       "      <td>0</td>\n",
       "      <td>1</td>\n",
       "    </tr>\n",
       "    <tr>\n",
       "      <th>607</th>\n",
       "      <td>1</td>\n",
       "      <td>2</td>\n",
       "      <td>Es_1_1</td>\n",
       "      <td>Deeds_Es_1_1</td>\n",
       "      <td>Deeds</td>\n",
       "      <td>Es_1_1</td>\n",
       "      <td>2014-02-10 11:50:25</td>\n",
       "      <td>2014-02-10 11:50:25</td>\n",
       "      <td>0.0</td>\n",
       "      <td>0</td>\n",
       "      <td>0</td>\n",
       "      <td>0</td>\n",
       "      <td>0</td>\n",
       "      <td>0</td>\n",
       "      <td>0</td>\n",
       "      <td>0</td>\n",
       "      <td>1</td>\n",
       "    </tr>\n",
       "    <tr>\n",
       "      <th>...</th>\n",
       "      <td>...</td>\n",
       "      <td>...</td>\n",
       "      <td>...</td>\n",
       "      <td>...</td>\n",
       "      <td>...</td>\n",
       "      <td>...</td>\n",
       "      <td>...</td>\n",
       "      <td>...</td>\n",
       "      <td>...</td>\n",
       "      <td>...</td>\n",
       "      <td>...</td>\n",
       "      <td>...</td>\n",
       "      <td>...</td>\n",
       "      <td>...</td>\n",
       "      <td>...</td>\n",
       "      <td>...</td>\n",
       "      <td>...</td>\n",
       "    </tr>\n",
       "    <tr>\n",
       "      <th>221884</th>\n",
       "      <td>6</td>\n",
       "      <td>91</td>\n",
       "      <td>Es_6_3</td>\n",
       "      <td>FSM_Related</td>\n",
       "      <td>FSM_Related</td>\n",
       "      <td>NaN</td>\n",
       "      <td>2014-11-12 13:41:14</td>\n",
       "      <td>2014-11-12 13:41:14</td>\n",
       "      <td>0.0</td>\n",
       "      <td>0</td>\n",
       "      <td>0</td>\n",
       "      <td>0</td>\n",
       "      <td>0</td>\n",
       "      <td>0</td>\n",
       "      <td>0</td>\n",
       "      <td>0</td>\n",
       "      <td>1</td>\n",
       "    </tr>\n",
       "    <tr>\n",
       "      <th>221932</th>\n",
       "      <td>6</td>\n",
       "      <td>91</td>\n",
       "      <td>Es_6_4</td>\n",
       "      <td>Deeds</td>\n",
       "      <td>Deeds</td>\n",
       "      <td>NaN</td>\n",
       "      <td>2014-11-12 13:55:51</td>\n",
       "      <td>2014-11-12 13:55:51</td>\n",
       "      <td>0.0</td>\n",
       "      <td>0</td>\n",
       "      <td>0</td>\n",
       "      <td>0</td>\n",
       "      <td>0</td>\n",
       "      <td>0</td>\n",
       "      <td>0</td>\n",
       "      <td>0</td>\n",
       "      <td>1</td>\n",
       "    </tr>\n",
       "    <tr>\n",
       "      <th>223522</th>\n",
       "      <td>6</td>\n",
       "      <td>94</td>\n",
       "      <td>Es_6_3</td>\n",
       "      <td>Blank</td>\n",
       "      <td>Blank</td>\n",
       "      <td>NaN</td>\n",
       "      <td>2014-11-12 13:38:41</td>\n",
       "      <td>2014-11-12 13:38:41</td>\n",
       "      <td>0.0</td>\n",
       "      <td>0</td>\n",
       "      <td>0</td>\n",
       "      <td>0</td>\n",
       "      <td>0</td>\n",
       "      <td>0</td>\n",
       "      <td>0</td>\n",
       "      <td>0</td>\n",
       "      <td>1</td>\n",
       "    </tr>\n",
       "    <tr>\n",
       "      <th>226070</th>\n",
       "      <td>6</td>\n",
       "      <td>99</td>\n",
       "      <td>Es_6_1</td>\n",
       "      <td>Other</td>\n",
       "      <td>Other</td>\n",
       "      <td>NaN</td>\n",
       "      <td>2014-11-12 11:35:01</td>\n",
       "      <td>2014-11-12 11:35:01</td>\n",
       "      <td>0.0</td>\n",
       "      <td>0</td>\n",
       "      <td>0</td>\n",
       "      <td>0</td>\n",
       "      <td>0</td>\n",
       "      <td>0</td>\n",
       "      <td>0</td>\n",
       "      <td>0</td>\n",
       "      <td>1</td>\n",
       "    </tr>\n",
       "    <tr>\n",
       "      <th>226880</th>\n",
       "      <td>6</td>\n",
       "      <td>102</td>\n",
       "      <td>Es_6_3</td>\n",
       "      <td>Blank</td>\n",
       "      <td>Blank</td>\n",
       "      <td>NaN</td>\n",
       "      <td>2014-11-12 12:30:35</td>\n",
       "      <td>2014-11-12 12:30:35</td>\n",
       "      <td>0.0</td>\n",
       "      <td>0</td>\n",
       "      <td>0</td>\n",
       "      <td>0</td>\n",
       "      <td>0</td>\n",
       "      <td>0</td>\n",
       "      <td>0</td>\n",
       "      <td>0</td>\n",
       "      <td>1</td>\n",
       "    </tr>\n",
       "  </tbody>\n",
       "</table>\n",
       "<p>3392 rows × 17 columns</p>\n",
       "</div>"
      ],
      "text/plain": [
       "       sess  sid    exer          actv     actv_grp actv_exer  \\\n",
       "169       1    1  Es_1_2  Study_Es_1_2        Study    Es_1_2   \n",
       "593       1    2  Es_1_1         Other        Other       NaN   \n",
       "594       1    2  Es_1_1         Blank        Blank       NaN   \n",
       "597       1    2  Es_1_1         Blank        Blank       NaN   \n",
       "607       1    2  Es_1_1  Deeds_Es_1_1        Deeds    Es_1_1   \n",
       "...     ...  ...     ...           ...          ...       ...   \n",
       "221884    6   91  Es_6_3   FSM_Related  FSM_Related       NaN   \n",
       "221932    6   91  Es_6_4         Deeds        Deeds       NaN   \n",
       "223522    6   94  Es_6_3         Blank        Blank       NaN   \n",
       "226070    6   99  Es_6_1         Other        Other       NaN   \n",
       "226880    6  102  Es_6_3         Blank        Blank       NaN   \n",
       "\n",
       "                  start_dt              end_dt  total_ms  idle_ms  mw  mwc  \\\n",
       "169    2014-02-10 12:14:34 2014-02-10 12:14:34       0.0        0   0    0   \n",
       "593    2014-02-10 11:38:24 2014-02-10 11:38:24       0.0        0   0    0   \n",
       "594    2014-02-10 11:38:25 2014-02-10 11:38:25       0.0        0   0    0   \n",
       "597    2014-02-10 11:38:43 2014-02-10 11:38:43       0.0        0   0    0   \n",
       "607    2014-02-10 11:50:25 2014-02-10 11:50:25       0.0        0   0    0   \n",
       "...                    ...                 ...       ...      ...  ..  ...   \n",
       "221884 2014-11-12 13:41:14 2014-11-12 13:41:14       0.0        0   0    0   \n",
       "221932 2014-11-12 13:55:51 2014-11-12 13:55:51       0.0        0   0    0   \n",
       "223522 2014-11-12 13:38:41 2014-11-12 13:38:41       0.0        0   0    0   \n",
       "226070 2014-11-12 11:35:01 2014-11-12 11:35:01       0.0        0   0    0   \n",
       "226880 2014-11-12 12:30:35 2014-11-12 12:30:35       0.0        0   0    0   \n",
       "\n",
       "        mcl  mcr  mm  ks  zero_time  \n",
       "169       0    0   0   0          1  \n",
       "593       0    0   0   0          1  \n",
       "594       0    0   0   0          1  \n",
       "597       0    0   0   0          1  \n",
       "607       0    0   0   0          1  \n",
       "...     ...  ...  ..  ..        ...  \n",
       "221884    0    0   0   0          1  \n",
       "221932    0    0   0   0          1  \n",
       "223522    0    0   0   0          1  \n",
       "226070    0    0   0   0          1  \n",
       "226880    0    0   0   0          1  \n",
       "\n",
       "[3392 rows x 17 columns]"
      ]
     },
     "execution_count": 33,
     "metadata": {},
     "output_type": "execute_result"
    }
   ],
   "source": [
    "chk.loc[(chk['zero_time'] == 1) & ((chk.mw + chk.mwc + chk.mcl + chk.mcr + chk.mm + chk.ks) == 0)]"
   ]
  },
  {
   "cell_type": "code",
   "execution_count": 34,
   "id": "d4de30be",
   "metadata": {},
   "outputs": [],
   "source": [
    "chk['zero_activity'] = np.where((chk.mw + chk.mwc + chk.mcl + chk.mcr + chk.mm + chk.ks) == 0, 1, 0)"
   ]
  },
  {
   "cell_type": "code",
   "execution_count": 35,
   "id": "6d89bfd9",
   "metadata": {},
   "outputs": [
    {
     "data": {
      "text/plain": [
       "9650"
      ]
     },
     "execution_count": 35,
     "metadata": {},
     "output_type": "execute_result"
    }
   ],
   "source": [
    "chk['zero_activity'].sum()"
   ]
  },
  {
   "cell_type": "code",
   "execution_count": 36,
   "id": "0b5315e4",
   "metadata": {},
   "outputs": [
    {
     "data": {
      "text/plain": [
       "0.0424868686957632"
      ]
     },
     "execution_count": 36,
     "metadata": {},
     "output_type": "execute_result"
    }
   ],
   "source": [
    "chk['zero_activity'].mean()"
   ]
  },
  {
   "cell_type": "code",
   "execution_count": 37,
   "id": "39c98a67",
   "metadata": {},
   "outputs": [
    {
     "data": {
      "text/plain": [
       "3392"
      ]
     },
     "execution_count": 37,
     "metadata": {},
     "output_type": "execute_result"
    }
   ],
   "source": [
    "chk.loc[(chk['zero_time'] == 1)].zero_activity.sum()"
   ]
  },
  {
   "cell_type": "code",
   "execution_count": 38,
   "id": "72707e4f",
   "metadata": {},
   "outputs": [
    {
     "data": {
      "text/plain": [
       "0.05675372697307879"
      ]
     },
     "execution_count": 38,
     "metadata": {},
     "output_type": "execute_result"
    }
   ],
   "source": [
    "chk.loc[(chk['zero_time'] == 1)].zero_activity.mean()"
   ]
  },
  {
   "cell_type": "markdown",
   "id": "f1c2b6fd",
   "metadata": {},
   "source": [
    "##### Change values to NaN or NaT for  `idle_ms`, `total_ms`, `start_dt`, and `end_dt` for values that are considered missing:\n",
    "\n",
    "* Negative `idle_ms` values\n",
    "<!--* Zero `total_ms` values-->\n",
    "* Negative `total_ms` values and the corresponding `start_dt` and `end_dt`"
   ]
  },
  {
   "cell_type": "code",
   "execution_count": 39,
   "id": "27ceb14d",
   "metadata": {},
   "outputs": [],
   "source": [
    "inputs_init['idle_ms'] = inputs_init['idle_ms'].astype('float')\n",
    "inputs_init['total_ms'] = inputs_init['total_ms'].astype('float')"
   ]
  },
  {
   "cell_type": "code",
   "execution_count": 40,
   "id": "198a78df",
   "metadata": {},
   "outputs": [],
   "source": [
    "inputs_init['idle_ms'] = [x if x >= 0 else np.nan for x in inputs_init['idle_ms']]"
   ]
  },
  {
   "cell_type": "code",
   "execution_count": 41,
   "id": "bb4972d3",
   "metadata": {},
   "outputs": [],
   "source": [
    "inputs_init['total_ms'] = [x if x >= 0 else np.nan for x in inputs_init['total_ms']]"
   ]
  },
  {
   "cell_type": "code",
   "execution_count": 42,
   "id": "583ecf3e",
   "metadata": {},
   "outputs": [
    {
     "data": {
      "text/plain": [
       "count    2.269710e+05\n",
       "mean     1.144022e+06\n",
       "std      2.977009e+07\n",
       "min      0.000000e+00\n",
       "25%      0.000000e+00\n",
       "50%      8.000000e+01\n",
       "75%      5.740500e+03\n",
       "max      7.244736e+09\n",
       "Name: idle_ms, dtype: float64"
      ]
     },
     "execution_count": 42,
     "metadata": {},
     "output_type": "execute_result"
    }
   ],
   "source": [
    "inputs_init['idle_ms'].describe()"
   ]
  },
  {
   "cell_type": "code",
   "execution_count": 43,
   "id": "2fe408df",
   "metadata": {},
   "outputs": [
    {
     "data": {
      "text/plain": [
       "count    2.271280e+05\n",
       "mean     1.586071e+04\n",
       "std      6.110590e+04\n",
       "min      0.000000e+00\n",
       "25%      0.000000e+00\n",
       "50%      2.000000e+03\n",
       "75%      9.000000e+03\n",
       "max      3.861000e+06\n",
       "Name: total_ms, dtype: float64"
      ]
     },
     "execution_count": 43,
     "metadata": {},
     "output_type": "execute_result"
    }
   ],
   "source": [
    "inputs_init['total_ms'].describe()\n"
   ]
  },
  {
   "cell_type": "code",
   "execution_count": 44,
   "id": "7a15221b",
   "metadata": {},
   "outputs": [
    {
     "data": {
      "text/plain": [
       "1"
      ]
     },
     "execution_count": 44,
     "metadata": {},
     "output_type": "execute_result"
    }
   ],
   "source": [
    "inputs_init['total_ms'].loc[inputs_init['total_ms'].isna()].shape[0]"
   ]
  },
  {
   "cell_type": "code",
   "execution_count": 45,
   "id": "6ffedd87",
   "metadata": {},
   "outputs": [],
   "source": [
    "inputs_init['end_dt2'] = [pd.Timestamp('nat') if i > j else j for (i, j) in zip(inputs_init['start_dt'],inputs_init['end_dt'])]"
   ]
  },
  {
   "cell_type": "code",
   "execution_count": 46,
   "id": "b9e0d085",
   "metadata": {},
   "outputs": [],
   "source": [
    "inputs_init['start_dt2'] = [pd.Timestamp('nat') if i == pd.Timestamp('nat') else i for (i, j) in zip(inputs_init['start_dt'],inputs_init['end_dt'])]"
   ]
  },
  {
   "cell_type": "code",
   "execution_count": 47,
   "id": "f7d5eea8",
   "metadata": {},
   "outputs": [
    {
     "name": "stdout",
     "output_type": "stream",
     "text": [
      "<class 'pandas.core.frame.DataFrame'>\n",
      "RangeIndex: 227129 entries, 0 to 227128\n",
      "Data columns (total 18 columns):\n",
      " #   Column     Non-Null Count   Dtype         \n",
      "---  ------     --------------   -----         \n",
      " 0   sess       227129 non-null  object        \n",
      " 1   sid        227129 non-null  object        \n",
      " 2   exer       227129 non-null  object        \n",
      " 3   actv       227129 non-null  object        \n",
      " 4   actv_grp   227129 non-null  object        \n",
      " 5   actv_exer  111979 non-null  object        \n",
      " 6   start_dt   227129 non-null  datetime64[ns]\n",
      " 7   end_dt     227129 non-null  datetime64[ns]\n",
      " 8   total_ms   227128 non-null  float64       \n",
      " 9   idle_ms    226971 non-null  float64       \n",
      " 10  mw         227129 non-null  int64         \n",
      " 11  mwc        227129 non-null  int64         \n",
      " 12  mcl        227129 non-null  int64         \n",
      " 13  mcr        227129 non-null  int64         \n",
      " 14  mm         227129 non-null  int64         \n",
      " 15  ks         227129 non-null  int64         \n",
      " 16  end_dt2    227128 non-null  datetime64[ns]\n",
      " 17  start_dt2  227129 non-null  datetime64[ns]\n",
      "dtypes: datetime64[ns](4), float64(2), int64(6), object(6)\n",
      "memory usage: 31.2+ MB\n"
     ]
    }
   ],
   "source": [
    "inputs_init.info()"
   ]
  },
  {
   "cell_type": "markdown",
   "id": "ada85416",
   "metadata": {},
   "source": [
    "##### Calculate `active_ms` as difference between `total_ms` and `idle_ms`"
   ]
  },
  {
   "cell_type": "code",
   "execution_count": 48,
   "id": "bf8f8f2f",
   "metadata": {},
   "outputs": [],
   "source": [
    "inputs_init['active_ms'] = inputs_init['total_ms'] - inputs_init['idle_ms']"
   ]
  },
  {
   "cell_type": "code",
   "execution_count": 49,
   "id": "724159f4",
   "metadata": {},
   "outputs": [
    {
     "data": {
      "text/plain": [
       "count    2.269700e+05\n",
       "mean    -1.128175e+06\n",
       "std      2.973134e+07\n",
       "min     -7.240875e+09\n",
       "25%      0.000000e+00\n",
       "50%      1.265000e+02\n",
       "75%      2.000000e+03\n",
       "max      3.738236e+06\n",
       "Name: active_ms, dtype: float64"
      ]
     },
     "execution_count": 49,
     "metadata": {},
     "output_type": "execute_result"
    }
   ],
   "source": [
    "inputs_init['active_ms'].describe()"
   ]
  },
  {
   "cell_type": "markdown",
   "id": "630cbd69",
   "metadata": {},
   "source": [
    "#### <span style=\"color:red\">Should anything be done when the `idle_ms` is greater than the derived `total_ms`?</span>"
   ]
  },
  {
   "cell_type": "code",
   "execution_count": 50,
   "id": "bceb24d8",
   "metadata": {},
   "outputs": [],
   "source": [
    "chk['neg_active'] = np.where(chk['idle_ms'] > chk['total_ms'], 1, 0)"
   ]
  },
  {
   "cell_type": "code",
   "execution_count": 51,
   "id": "48d66cb7",
   "metadata": {},
   "outputs": [
    {
     "data": {
      "text/plain": [
       "53202"
      ]
     },
     "execution_count": 51,
     "metadata": {},
     "output_type": "execute_result"
    }
   ],
   "source": [
    "chk['neg_active'].sum()"
   ]
  },
  {
   "cell_type": "code",
   "execution_count": 52,
   "id": "8f390153",
   "metadata": {},
   "outputs": [
    {
     "data": {
      "text/plain": [
       "0.23423693143543978"
      ]
     },
     "execution_count": 52,
     "metadata": {},
     "output_type": "execute_result"
    }
   ],
   "source": [
    "chk['neg_active'].mean()"
   ]
  },
  {
   "cell_type": "code",
   "execution_count": 53,
   "id": "2a803866",
   "metadata": {},
   "outputs": [
    {
     "data": {
      "text/html": [
       "<div>\n",
       "<style scoped>\n",
       "    .dataframe tbody tr th:only-of-type {\n",
       "        vertical-align: middle;\n",
       "    }\n",
       "\n",
       "    .dataframe tbody tr th {\n",
       "        vertical-align: top;\n",
       "    }\n",
       "\n",
       "    .dataframe thead th {\n",
       "        text-align: right;\n",
       "    }\n",
       "</style>\n",
       "<table border=\"1\" class=\"dataframe\">\n",
       "  <thead>\n",
       "    <tr style=\"text-align: right;\">\n",
       "      <th></th>\n",
       "      <th>total_ms</th>\n",
       "      <th>idle_ms</th>\n",
       "      <th>mw</th>\n",
       "      <th>mwc</th>\n",
       "      <th>mcl</th>\n",
       "      <th>mcr</th>\n",
       "      <th>mm</th>\n",
       "      <th>ks</th>\n",
       "      <th>active_ms</th>\n",
       "    </tr>\n",
       "  </thead>\n",
       "  <tbody>\n",
       "    <tr>\n",
       "      <th>count</th>\n",
       "      <td>5.320100e+04</td>\n",
       "      <td>5.320100e+04</td>\n",
       "      <td>53201.000000</td>\n",
       "      <td>53201.000000</td>\n",
       "      <td>53201.000000</td>\n",
       "      <td>53201.000000</td>\n",
       "      <td>53201.000000</td>\n",
       "      <td>53201.000000</td>\n",
       "      <td>5.320100e+04</td>\n",
       "    </tr>\n",
       "    <tr>\n",
       "      <th>mean</th>\n",
       "      <td>5.796536e+04</td>\n",
       "      <td>4.877783e+06</td>\n",
       "      <td>8.263510</td>\n",
       "      <td>0.012669</td>\n",
       "      <td>18.430311</td>\n",
       "      <td>1.080656</td>\n",
       "      <td>1108.941975</td>\n",
       "      <td>22.798087</td>\n",
       "      <td>-4.819818e+06</td>\n",
       "    </tr>\n",
       "    <tr>\n",
       "      <th>std</th>\n",
       "      <td>1.147357e+05</td>\n",
       "      <td>6.134233e+07</td>\n",
       "      <td>53.465434</td>\n",
       "      <td>0.417148</td>\n",
       "      <td>41.435602</td>\n",
       "      <td>6.058820</td>\n",
       "      <td>2441.302877</td>\n",
       "      <td>97.327373</td>\n",
       "      <td>6.126529e+07</td>\n",
       "    </tr>\n",
       "    <tr>\n",
       "      <th>min</th>\n",
       "      <td>1.000000e+03</td>\n",
       "      <td>1.001000e+03</td>\n",
       "      <td>0.000000</td>\n",
       "      <td>0.000000</td>\n",
       "      <td>0.000000</td>\n",
       "      <td>0.000000</td>\n",
       "      <td>0.000000</td>\n",
       "      <td>0.000000</td>\n",
       "      <td>-7.240875e+09</td>\n",
       "    </tr>\n",
       "    <tr>\n",
       "      <th>25%</th>\n",
       "      <td>1.200000e+04</td>\n",
       "      <td>2.384900e+04</td>\n",
       "      <td>0.000000</td>\n",
       "      <td>0.000000</td>\n",
       "      <td>2.000000</td>\n",
       "      <td>0.000000</td>\n",
       "      <td>155.000000</td>\n",
       "      <td>0.000000</td>\n",
       "      <td>-6.285500e+05</td>\n",
       "    </tr>\n",
       "    <tr>\n",
       "      <th>50%</th>\n",
       "      <td>2.600000e+04</td>\n",
       "      <td>1.062540e+05</td>\n",
       "      <td>0.000000</td>\n",
       "      <td>0.000000</td>\n",
       "      <td>5.000000</td>\n",
       "      <td>0.000000</td>\n",
       "      <td>435.000000</td>\n",
       "      <td>0.000000</td>\n",
       "      <td>-7.816000e+04</td>\n",
       "    </tr>\n",
       "    <tr>\n",
       "      <th>75%</th>\n",
       "      <td>5.800000e+04</td>\n",
       "      <td>6.877070e+05</td>\n",
       "      <td>0.000000</td>\n",
       "      <td>0.000000</td>\n",
       "      <td>16.000000</td>\n",
       "      <td>0.000000</td>\n",
       "      <td>1106.000000</td>\n",
       "      <td>4.000000</td>\n",
       "      <td>-9.661000e+03</td>\n",
       "    </tr>\n",
       "    <tr>\n",
       "      <th>max</th>\n",
       "      <td>3.861000e+06</td>\n",
       "      <td>7.244736e+09</td>\n",
       "      <td>2904.000000</td>\n",
       "      <td>60.000000</td>\n",
       "      <td>1096.000000</td>\n",
       "      <td>168.000000</td>\n",
       "      <td>85949.000000</td>\n",
       "      <td>3102.000000</td>\n",
       "      <td>-1.000000e+00</td>\n",
       "    </tr>\n",
       "  </tbody>\n",
       "</table>\n",
       "</div>"
      ],
      "text/plain": [
       "           total_ms       idle_ms            mw           mwc           mcl  \\\n",
       "count  5.320100e+04  5.320100e+04  53201.000000  53201.000000  53201.000000   \n",
       "mean   5.796536e+04  4.877783e+06      8.263510      0.012669     18.430311   \n",
       "std    1.147357e+05  6.134233e+07     53.465434      0.417148     41.435602   \n",
       "min    1.000000e+03  1.001000e+03      0.000000      0.000000      0.000000   \n",
       "25%    1.200000e+04  2.384900e+04      0.000000      0.000000      2.000000   \n",
       "50%    2.600000e+04  1.062540e+05      0.000000      0.000000      5.000000   \n",
       "75%    5.800000e+04  6.877070e+05      0.000000      0.000000     16.000000   \n",
       "max    3.861000e+06  7.244736e+09   2904.000000     60.000000   1096.000000   \n",
       "\n",
       "                mcr            mm            ks     active_ms  \n",
       "count  53201.000000  53201.000000  53201.000000  5.320100e+04  \n",
       "mean       1.080656   1108.941975     22.798087 -4.819818e+06  \n",
       "std        6.058820   2441.302877     97.327373  6.126529e+07  \n",
       "min        0.000000      0.000000      0.000000 -7.240875e+09  \n",
       "25%        0.000000    155.000000      0.000000 -6.285500e+05  \n",
       "50%        0.000000    435.000000      0.000000 -7.816000e+04  \n",
       "75%        0.000000   1106.000000      4.000000 -9.661000e+03  \n",
       "max      168.000000  85949.000000   3102.000000 -1.000000e+00  "
      ]
     },
     "execution_count": 53,
     "metadata": {},
     "output_type": "execute_result"
    }
   ],
   "source": [
    "inputs_init.loc[inputs_init['active_ms'] < 0].describe()"
   ]
  },
  {
   "cell_type": "markdown",
   "id": "449327d9",
   "metadata": {},
   "source": [
    "##### Change negative `active_ms` to NaN"
   ]
  },
  {
   "cell_type": "code",
   "execution_count": 54,
   "id": "7f962716",
   "metadata": {},
   "outputs": [],
   "source": [
    "inputs_init['active_ms'] = [x if x >= 0 else np.nan for x in inputs_init['active_ms']]"
   ]
  },
  {
   "cell_type": "code",
   "execution_count": 55,
   "id": "b4aec8e9",
   "metadata": {},
   "outputs": [
    {
     "data": {
      "text/plain": [
       "count    1.737690e+05\n",
       "mean     2.055835e+03\n",
       "std      1.088817e+04\n",
       "min      0.000000e+00\n",
       "25%      0.000000e+00\n",
       "50%      1.000000e+03\n",
       "75%      2.859000e+03\n",
       "max      3.738236e+06\n",
       "Name: active_ms, dtype: float64"
      ]
     },
     "execution_count": 55,
     "metadata": {},
     "output_type": "execute_result"
    }
   ],
   "source": [
    "inputs_init['active_ms'].describe()"
   ]
  },
  {
   "cell_type": "markdown",
   "id": "17dc8c34",
   "metadata": {},
   "source": [
    "### Evaluate categorical variables"
   ]
  },
  {
   "cell_type": "code",
   "execution_count": 56,
   "id": "d1fcca0e",
   "metadata": {},
   "outputs": [
    {
     "name": "stdout",
     "output_type": "stream",
     "text": [
      "<class 'pandas.core.frame.DataFrame'>\n",
      "RangeIndex: 227129 entries, 0 to 227128\n",
      "Data columns (total 19 columns):\n",
      " #   Column     Non-Null Count   Dtype         \n",
      "---  ------     --------------   -----         \n",
      " 0   sess       227129 non-null  object        \n",
      " 1   sid        227129 non-null  object        \n",
      " 2   exer       227129 non-null  object        \n",
      " 3   actv       227129 non-null  object        \n",
      " 4   actv_grp   227129 non-null  object        \n",
      " 5   actv_exer  111979 non-null  object        \n",
      " 6   start_dt   227129 non-null  datetime64[ns]\n",
      " 7   end_dt     227129 non-null  datetime64[ns]\n",
      " 8   total_ms   227128 non-null  float64       \n",
      " 9   idle_ms    226971 non-null  float64       \n",
      " 10  mw         227129 non-null  int64         \n",
      " 11  mwc        227129 non-null  int64         \n",
      " 12  mcl        227129 non-null  int64         \n",
      " 13  mcr        227129 non-null  int64         \n",
      " 14  mm         227129 non-null  int64         \n",
      " 15  ks         227129 non-null  int64         \n",
      " 16  end_dt2    227128 non-null  datetime64[ns]\n",
      " 17  start_dt2  227129 non-null  datetime64[ns]\n",
      " 18  active_ms  173769 non-null  float64       \n",
      "dtypes: datetime64[ns](4), float64(3), int64(6), object(6)\n",
      "memory usage: 32.9+ MB\n"
     ]
    }
   ],
   "source": [
    "inputs_init.info()"
   ]
  },
  {
   "cell_type": "code",
   "execution_count": 57,
   "id": "20272288",
   "metadata": {},
   "outputs": [
    {
     "data": {
      "text/plain": [
       "30"
      ]
     },
     "execution_count": 57,
     "metadata": {},
     "output_type": "execute_result"
    }
   ],
   "source": [
    "inputs_init.exer.nunique()"
   ]
  },
  {
   "cell_type": "code",
   "execution_count": 58,
   "id": "afd2e6d2",
   "metadata": {},
   "outputs": [
    {
     "data": {
      "text/plain": [
       "array(['Es', 'Es_1_1', 'Es_1_2', 'Es_1_4', 'Es_1_3', 'Es_2_1', 'Es_2_2',\n",
       "       'Es_2_3', 'Es_2_4', 'Es_2_5', 'Es_2_6', 'Es_3_1', 'Es_3_2',\n",
       "       'Es_3_3', 'Es_3_4', 'Es_4_1', 'Es_4_2', 'Es_4_3', 'Es_4_4',\n",
       "       'Es_4_5', 'Es_5_2', 'Es_5_1', 'Es_5_3', 'Es_5_4', 'Es_6_1',\n",
       "       'Es_6_2', 'Es_6_3', 'Es_6_4', 'Es_6_6', 'Es_6_5'], dtype=object)"
      ]
     },
     "execution_count": 58,
     "metadata": {},
     "output_type": "execute_result"
    }
   ],
   "source": [
    "inputs_init.exer.unique()"
   ]
  },
  {
   "cell_type": "code",
   "execution_count": 59,
   "id": "ec3d5f88",
   "metadata": {},
   "outputs": [
    {
     "data": {
      "text/plain": [
       "array(['Other', 'Aulaweb', 'Blank', 'Deeds', 'Study', 'Properties',\n",
       "       'Diagram', 'TextEditor', 'Study_Materials', 'Fsm_Related', 'FSM',\n",
       "       'FSM_Related'], dtype=object)"
      ]
     },
     "execution_count": 59,
     "metadata": {},
     "output_type": "execute_result"
    }
   ],
   "source": [
    "inputs_init.actv_grp.unique()"
   ]
  },
  {
   "cell_type": "code",
   "execution_count": 60,
   "id": "ee50bda2",
   "metadata": {},
   "outputs": [
    {
     "data": {
      "text/plain": [
       "12"
      ]
     },
     "execution_count": 60,
     "metadata": {},
     "output_type": "execute_result"
    }
   ],
   "source": [
    "inputs_init.actv_grp.nunique()"
   ]
  },
  {
   "cell_type": "code",
   "execution_count": 61,
   "id": "37d9794c",
   "metadata": {},
   "outputs": [
    {
     "data": {
      "text/plain": [
       "array(['Other', 'Aulaweb', 'Blank', 'Deeds', 'Study', 'Properties',\n",
       "       'Diagram', 'TextEditor', 'Study_Materials', 'Fsm_Related', 'FSM',\n",
       "       'FSM_Related'], dtype=object)"
      ]
     },
     "execution_count": 61,
     "metadata": {},
     "output_type": "execute_result"
    }
   ],
   "source": [
    "inputs_init.actv_grp.unique()"
   ]
  },
  {
   "cell_type": "code",
   "execution_count": 62,
   "id": "3226b0b7",
   "metadata": {},
   "outputs": [],
   "source": [
    "inputs_init['actv_grp'] = inputs_init['actv_grp'].str.replace(\"Fsm\", \"FSM\", 1)"
   ]
  },
  {
   "cell_type": "code",
   "execution_count": 63,
   "id": "f36ebe8b",
   "metadata": {},
   "outputs": [
    {
     "data": {
      "text/plain": [
       "array(['Other', 'Aulaweb', 'Blank', 'Deeds', 'Study', 'Properties',\n",
       "       'Diagram', 'TextEditor', 'Study_Materials', 'FSM_Related', 'FSM'],\n",
       "      dtype=object)"
      ]
     },
     "execution_count": 63,
     "metadata": {},
     "output_type": "execute_result"
    }
   ],
   "source": [
    "inputs_init.actv_grp.unique()"
   ]
  },
  {
   "cell_type": "code",
   "execution_count": 64,
   "id": "34eadf89",
   "metadata": {},
   "outputs": [
    {
     "data": {
      "text/plain": [
       "TextEditor         41900\n",
       "Deeds              38000\n",
       "Other              33009\n",
       "Blank              23929\n",
       "Study              21540\n",
       "Diagram            20546\n",
       "Properties         19419\n",
       "FSM                17000\n",
       "Aulaweb             8113\n",
       "FSM_Related         3275\n",
       "Study_Materials      398\n",
       "Name: actv_grp, dtype: int64"
      ]
     },
     "execution_count": 64,
     "metadata": {},
     "output_type": "execute_result"
    }
   ],
   "source": [
    "inputs_init.actv_grp.value_counts()"
   ]
  },
  {
   "cell_type": "code",
   "execution_count": 65,
   "id": "c5bdb4c5",
   "metadata": {},
   "outputs": [
    {
     "data": {
      "text/plain": [
       "29"
      ]
     },
     "execution_count": 65,
     "metadata": {},
     "output_type": "execute_result"
    }
   ],
   "source": [
    "inputs_init.actv_exer.nunique()"
   ]
  },
  {
   "cell_type": "code",
   "execution_count": 66,
   "id": "8867a9bf",
   "metadata": {},
   "outputs": [
    {
     "data": {
      "text/plain": [
       "array([nan, 'Es_1_1', 'Es_1_2', 'Es_1_4', 'Es_3_1', 'Es_1_3', 'Es_4_1',\n",
       "       'Es_4_2', 'Es_4_3', 'Es_4_4', 'Es_2_1', 'Es_2_2', 'Es_2_3',\n",
       "       'Es_2_4', 'Es_2_5', 'Es_2_6', 'Es_3_2', 'Es_3_3', 'Es_3_4',\n",
       "       'Es_4_5', 'Es_5_2', 'Es_5_1', 'Es_5_3', 'Es_5_4', 'Es_6_1',\n",
       "       'Es_6_2', 'Es_6_3', 'Es_6_4', 'Es_6_6', 'Es_6_5'], dtype=object)"
      ]
     },
     "execution_count": 66,
     "metadata": {},
     "output_type": "execute_result"
    }
   ],
   "source": [
    "inputs_init.actv_exer.unique()"
   ]
  },
  {
   "cell_type": "code",
   "execution_count": 67,
   "id": "552a1cd9",
   "metadata": {
    "scrolled": true
   },
   "outputs": [
    {
     "data": {
      "text/plain": [
       "Es_6_3    10471\n",
       "Es_6_2     8356\n",
       "Es_6_1     7105\n",
       "Es_4_5     6812\n",
       "Es_5_4     6671\n",
       "Es_3_2     6094\n",
       "Es_2_2     5665\n",
       "Es_5_1     4790\n",
       "Es_1_2     4752\n",
       "Es_5_3     4484\n",
       "Es_2_4     4454\n",
       "Es_3_1     4340\n",
       "Es_1_1     4325\n",
       "Es_2_1     4318\n",
       "Es_1_3     3491\n",
       "Es_2_3     3209\n",
       "Es_4_1     2711\n",
       "Es_5_2     2684\n",
       "Es_3_4     2595\n",
       "Es_3_3     2548\n",
       "Es_1_4     2517\n",
       "Es_2_5     2379\n",
       "Es_4_2     1892\n",
       "Es_4_3     1729\n",
       "Es_4_4     1574\n",
       "Es_2_6     1311\n",
       "Es_6_4      629\n",
       "Es_6_5       37\n",
       "Es_6_6       36\n",
       "Name: actv_exer, dtype: int64"
      ]
     },
     "execution_count": 67,
     "metadata": {},
     "output_type": "execute_result"
    }
   ],
   "source": [
    "inputs_init.actv_exer.value_counts()"
   ]
  },
  {
   "cell_type": "markdown",
   "id": "5cb496b3",
   "metadata": {},
   "source": [
    "### Evaluate numeric variables"
   ]
  },
  {
   "cell_type": "code",
   "execution_count": 68,
   "id": "0760fc24",
   "metadata": {},
   "outputs": [
    {
     "name": "stdout",
     "output_type": "stream",
     "text": [
      "<class 'pandas.core.frame.DataFrame'>\n",
      "RangeIndex: 227129 entries, 0 to 227128\n",
      "Data columns (total 19 columns):\n",
      " #   Column     Non-Null Count   Dtype         \n",
      "---  ------     --------------   -----         \n",
      " 0   sess       227129 non-null  object        \n",
      " 1   sid        227129 non-null  object        \n",
      " 2   exer       227129 non-null  object        \n",
      " 3   actv       227129 non-null  object        \n",
      " 4   actv_grp   227129 non-null  object        \n",
      " 5   actv_exer  111979 non-null  object        \n",
      " 6   start_dt   227129 non-null  datetime64[ns]\n",
      " 7   end_dt     227129 non-null  datetime64[ns]\n",
      " 8   total_ms   227128 non-null  float64       \n",
      " 9   idle_ms    226971 non-null  float64       \n",
      " 10  mw         227129 non-null  int64         \n",
      " 11  mwc        227129 non-null  int64         \n",
      " 12  mcl        227129 non-null  int64         \n",
      " 13  mcr        227129 non-null  int64         \n",
      " 14  mm         227129 non-null  int64         \n",
      " 15  ks         227129 non-null  int64         \n",
      " 16  end_dt2    227128 non-null  datetime64[ns]\n",
      " 17  start_dt2  227129 non-null  datetime64[ns]\n",
      " 18  active_ms  173769 non-null  float64       \n",
      "dtypes: datetime64[ns](4), float64(3), int64(6), object(6)\n",
      "memory usage: 32.9+ MB\n"
     ]
    }
   ],
   "source": [
    "inputs_init.info()"
   ]
  },
  {
   "cell_type": "markdown",
   "id": "2064c1c2",
   "metadata": {},
   "source": [
    "### Outlier Resolution"
   ]
  },
  {
   "cell_type": "markdown",
   "id": "3d9bd010",
   "metadata": {},
   "source": [
    "##### Create functions to get summary of numeric columns\n",
    "\n",
    "Trivial groupby column to aggregate on all rows per the following:\n",
    "\n",
    "https://github.com/pandas-dev/pandas/issues/41768"
   ]
  },
  {
   "cell_type": "markdown",
   "id": "7d104f19",
   "metadata": {},
   "source": [
    "#### <span style=\"color:red\">The two outlier summaries are not consistent with how they report outliers for `idle_ms`, `total_ms`, and `active_ms`.</span>"
   ]
  },
  {
   "cell_type": "code",
   "execution_count": 69,
   "id": "5224ff71",
   "metadata": {},
   "outputs": [],
   "source": [
    "def my_q25(values):\n",
    "    return np.percentile( values, q=25 )"
   ]
  },
  {
   "cell_type": "code",
   "execution_count": 70,
   "id": "b07513e1",
   "metadata": {},
   "outputs": [],
   "source": [
    "def my_q75(values):\n",
    "    return np.percentile( values, q=75 )"
   ]
  },
  {
   "cell_type": "code",
   "execution_count": 71,
   "id": "f5e43382",
   "metadata": {},
   "outputs": [],
   "source": [
    "def my_iqr(values):\n",
    "    return my_q75(values) - my_q25(values)"
   ]
  },
  {
   "cell_type": "code",
   "execution_count": 72,
   "id": "f4dc8179",
   "metadata": {},
   "outputs": [],
   "source": [
    "def upper_outlier_bound(values): \n",
    "    return my_q75(values) + 1.5 * my_iqr(values)"
   ]
  },
  {
   "cell_type": "code",
   "execution_count": 73,
   "id": "55cf828b",
   "metadata": {},
   "outputs": [],
   "source": [
    "def lower_outlier_bound(values): \n",
    "    return my_q25(values) - 1.5 * my_iqr(values)"
   ]
  },
  {
   "cell_type": "code",
   "execution_count": 74,
   "id": "bd48c710",
   "metadata": {},
   "outputs": [],
   "source": [
    "def var_name(values):\n",
    "    return values.name"
   ]
  },
  {
   "cell_type": "code",
   "execution_count": 75,
   "id": "213d7a8b",
   "metadata": {},
   "outputs": [],
   "source": [
    "def outliers_exist(values):\n",
    "    if (values.min() < lower_outlier_bound(values)) or (values.max() > upper_outlier_bound(values)):\n",
    "        return 'Yes'\n",
    "    else: \n",
    "        return 'No'"
   ]
  },
  {
   "cell_type": "code",
   "execution_count": 76,
   "id": "73674c88",
   "metadata": {},
   "outputs": [],
   "source": [
    "def percent_outliers(values):\n",
    "    df = pd.DataFrame(values)\n",
    "    df['outlier'] = np.where((df[values.name] < lower_outlier_bound(values)) | (df[values.name] > upper_outlier_bound(values)), 1, 0)\n",
    "    return round(df['outlier'].mean()*100, 1)"
   ]
  },
  {
   "cell_type": "code",
   "execution_count": 77,
   "id": "2f606805",
   "metadata": {},
   "outputs": [],
   "source": [
    "def get_summary(df_in):\n",
    "    \n",
    "    df_out = pd.DataFrame(columns=['var_name', 'nunique', 'mean', 'median', \n",
    "                                   'min', 'lower_outlier_bound', 'max', 'upper_outlier_bound',\n",
    "                                   'outliers_exist', 'percent_outliers'])\n",
    "    \n",
    "    # add trivial groupby column\n",
    "    df_in['all'] = 'grp_all'\n",
    "    \n",
    "    for var in df_in.select_dtypes('number').columns.tolist():\n",
    "        df_out = pd.concat([df_out, df_in.loc[df_in[var].notnull()].groupby(['all'])[var].\\\n",
    "                           aggregate( [var_name, 'nunique', 'mean', 'median', \n",
    "                                       'min', lower_outlier_bound, 'max', upper_outlier_bound, \n",
    "                                       outliers_exist, percent_outliers] ).\\\n",
    "                           reset_index().copy()])\n",
    "        \n",
    "    return df_out.drop('all', axis=1)"
   ]
  },
  {
   "cell_type": "code",
   "execution_count": 78,
   "id": "8943d5d5",
   "metadata": {},
   "outputs": [
    {
     "data": {
      "text/html": [
       "<div>\n",
       "<style scoped>\n",
       "    .dataframe tbody tr th:only-of-type {\n",
       "        vertical-align: middle;\n",
       "    }\n",
       "\n",
       "    .dataframe tbody tr th {\n",
       "        vertical-align: top;\n",
       "    }\n",
       "\n",
       "    .dataframe thead th {\n",
       "        text-align: right;\n",
       "    }\n",
       "</style>\n",
       "<table border=\"1\" class=\"dataframe\">\n",
       "  <thead>\n",
       "    <tr style=\"text-align: right;\">\n",
       "      <th></th>\n",
       "      <th>var_name</th>\n",
       "      <th>nunique</th>\n",
       "      <th>mean</th>\n",
       "      <th>median</th>\n",
       "      <th>min</th>\n",
       "      <th>lower_outlier_bound</th>\n",
       "      <th>max</th>\n",
       "      <th>upper_outlier_bound</th>\n",
       "      <th>outliers_exist</th>\n",
       "      <th>percent_outliers</th>\n",
       "    </tr>\n",
       "  </thead>\n",
       "  <tbody>\n",
       "    <tr>\n",
       "      <th>0</th>\n",
       "      <td>total_ms</td>\n",
       "      <td>890</td>\n",
       "      <td>1.586071e+04</td>\n",
       "      <td>2000.0</td>\n",
       "      <td>0.0</td>\n",
       "      <td>-13500.00</td>\n",
       "      <td>3.861000e+06</td>\n",
       "      <td>22500.00</td>\n",
       "      <td>Yes</td>\n",
       "      <td>13.8</td>\n",
       "    </tr>\n",
       "    <tr>\n",
       "      <th>0</th>\n",
       "      <td>idle_ms</td>\n",
       "      <td>54071</td>\n",
       "      <td>1.144022e+06</td>\n",
       "      <td>80.0</td>\n",
       "      <td>0.0</td>\n",
       "      <td>-8610.75</td>\n",
       "      <td>7.244736e+09</td>\n",
       "      <td>14351.25</td>\n",
       "      <td>Yes</td>\n",
       "      <td>20.2</td>\n",
       "    </tr>\n",
       "    <tr>\n",
       "      <th>0</th>\n",
       "      <td>mw</td>\n",
       "      <td>460</td>\n",
       "      <td>2.707109e+00</td>\n",
       "      <td>0.0</td>\n",
       "      <td>0.0</td>\n",
       "      <td>0.00</td>\n",
       "      <td>2.904000e+03</td>\n",
       "      <td>0.00</td>\n",
       "      <td>Yes</td>\n",
       "      <td>9.2</td>\n",
       "    </tr>\n",
       "    <tr>\n",
       "      <th>0</th>\n",
       "      <td>mwc</td>\n",
       "      <td>17</td>\n",
       "      <td>5.450647e-03</td>\n",
       "      <td>0.0</td>\n",
       "      <td>0.0</td>\n",
       "      <td>0.00</td>\n",
       "      <td>6.000000e+01</td>\n",
       "      <td>0.00</td>\n",
       "      <td>Yes</td>\n",
       "      <td>0.2</td>\n",
       "    </tr>\n",
       "    <tr>\n",
       "      <th>0</th>\n",
       "      <td>mcl</td>\n",
       "      <td>394</td>\n",
       "      <td>7.075939e+00</td>\n",
       "      <td>2.0</td>\n",
       "      <td>0.0</td>\n",
       "      <td>-2.50</td>\n",
       "      <td>1.096000e+03</td>\n",
       "      <td>9.50</td>\n",
       "      <td>Yes</td>\n",
       "      <td>12.9</td>\n",
       "    </tr>\n",
       "    <tr>\n",
       "      <th>0</th>\n",
       "      <td>mcr</td>\n",
       "      <td>75</td>\n",
       "      <td>3.368306e-01</td>\n",
       "      <td>0.0</td>\n",
       "      <td>0.0</td>\n",
       "      <td>0.00</td>\n",
       "      <td>1.680000e+02</td>\n",
       "      <td>0.00</td>\n",
       "      <td>Yes</td>\n",
       "      <td>5.6</td>\n",
       "    </tr>\n",
       "    <tr>\n",
       "      <th>0</th>\n",
       "      <td>mm</td>\n",
       "      <td>6221</td>\n",
       "      <td>4.146278e+02</td>\n",
       "      <td>137.0</td>\n",
       "      <td>0.0</td>\n",
       "      <td>-347.50</td>\n",
       "      <td>8.594900e+04</td>\n",
       "      <td>744.50</td>\n",
       "      <td>Yes</td>\n",
       "      <td>11.5</td>\n",
       "    </tr>\n",
       "    <tr>\n",
       "      <th>0</th>\n",
       "      <td>ks</td>\n",
       "      <td>808</td>\n",
       "      <td>6.281897e+00</td>\n",
       "      <td>0.0</td>\n",
       "      <td>0.0</td>\n",
       "      <td>0.00</td>\n",
       "      <td>4.754000e+03</td>\n",
       "      <td>0.00</td>\n",
       "      <td>Yes</td>\n",
       "      <td>14.7</td>\n",
       "    </tr>\n",
       "    <tr>\n",
       "      <th>0</th>\n",
       "      <td>active_ms</td>\n",
       "      <td>12018</td>\n",
       "      <td>2.055835e+03</td>\n",
       "      <td>1000.0</td>\n",
       "      <td>0.0</td>\n",
       "      <td>-4288.50</td>\n",
       "      <td>3.738236e+06</td>\n",
       "      <td>7147.50</td>\n",
       "      <td>Yes</td>\n",
       "      <td>5.2</td>\n",
       "    </tr>\n",
       "  </tbody>\n",
       "</table>\n",
       "</div>"
      ],
      "text/plain": [
       "    var_name nunique          mean  median  min  lower_outlier_bound  \\\n",
       "0   total_ms     890  1.586071e+04  2000.0  0.0            -13500.00   \n",
       "0    idle_ms   54071  1.144022e+06    80.0  0.0             -8610.75   \n",
       "0         mw     460  2.707109e+00     0.0  0.0                 0.00   \n",
       "0        mwc      17  5.450647e-03     0.0  0.0                 0.00   \n",
       "0        mcl     394  7.075939e+00     2.0  0.0                -2.50   \n",
       "0        mcr      75  3.368306e-01     0.0  0.0                 0.00   \n",
       "0         mm    6221  4.146278e+02   137.0  0.0              -347.50   \n",
       "0         ks     808  6.281897e+00     0.0  0.0                 0.00   \n",
       "0  active_ms   12018  2.055835e+03  1000.0  0.0             -4288.50   \n",
       "\n",
       "            max  upper_outlier_bound outliers_exist  percent_outliers  \n",
       "0  3.861000e+06             22500.00            Yes              13.8  \n",
       "0  7.244736e+09             14351.25            Yes              20.2  \n",
       "0  2.904000e+03                 0.00            Yes               9.2  \n",
       "0  6.000000e+01                 0.00            Yes               0.2  \n",
       "0  1.096000e+03                 9.50            Yes              12.9  \n",
       "0  1.680000e+02                 0.00            Yes               5.6  \n",
       "0  8.594900e+04               744.50            Yes              11.5  \n",
       "0  4.754000e+03                 0.00            Yes              14.7  \n",
       "0  3.738236e+06              7147.50            Yes               5.2  "
      ]
     },
     "execution_count": 78,
     "metadata": {},
     "output_type": "execute_result"
    }
   ],
   "source": [
    "get_summary(inputs_init.copy())"
   ]
  },
  {
   "cell_type": "code",
   "execution_count": 79,
   "id": "48560961",
   "metadata": {},
   "outputs": [],
   "source": [
    "inputs_xdf = inputs_init.copy()"
   ]
  },
  {
   "cell_type": "code",
   "execution_count": 80,
   "id": "87501ade",
   "metadata": {},
   "outputs": [
    {
     "data": {
      "text/plain": [
       "sess              0\n",
       "sid               0\n",
       "exer              0\n",
       "actv              0\n",
       "actv_grp          0\n",
       "actv_exer    115150\n",
       "start_dt          0\n",
       "end_dt            0\n",
       "total_ms          1\n",
       "idle_ms         158\n",
       "mw                0\n",
       "mwc               0\n",
       "mcl               0\n",
       "mcr               0\n",
       "mm                0\n",
       "ks                0\n",
       "end_dt2           1\n",
       "start_dt2         0\n",
       "active_ms     53360\n",
       "dtype: int64"
      ]
     },
     "execution_count": 80,
     "metadata": {},
     "output_type": "execute_result"
    }
   ],
   "source": [
    "inputs_xdf.isna().sum()"
   ]
  },
  {
   "cell_type": "code",
   "execution_count": 81,
   "id": "08daed35",
   "metadata": {},
   "outputs": [],
   "source": [
    "def upper_extreme_val(values):\n",
    "    return np.percentile( values, q=97.5 )"
   ]
  },
  {
   "cell_type": "code",
   "execution_count": 82,
   "id": "8b9cd162",
   "metadata": {},
   "outputs": [],
   "source": [
    "def lower_extreme_val(values):\n",
    "    return np.percentile( values, q=2.5 )"
   ]
  },
  {
   "cell_type": "code",
   "execution_count": 83,
   "id": "e1795d06",
   "metadata": {},
   "outputs": [],
   "source": [
    "outchk = inputs_init.copy()"
   ]
  },
  {
   "cell_type": "code",
   "execution_count": 84,
   "id": "e636133a",
   "metadata": {},
   "outputs": [],
   "source": [
    "vars_to_chk = ['total_ms', 'idle_ms', 'mw', \n",
    "               'mwc', 'mcl',\n",
    "               'mcr', 'mm', \n",
    "               'ks', 'active_ms']"
   ]
  },
  {
   "cell_type": "code",
   "execution_count": 85,
   "id": "3a536f8a",
   "metadata": {},
   "outputs": [],
   "source": [
    "def low_outlier_chk(varstr):\n",
    "    global outchk\n",
    "    new_var = varstr + '_low'\n",
    "    outchk[new_var] = np.where(outchk[varstr] < lower_outlier_bound(outchk[varstr]), 1, 0)\n",
    "    return outchk[new_var].mean()  "
   ]
  },
  {
   "cell_type": "code",
   "execution_count": 86,
   "id": "27a5fb7e",
   "metadata": {},
   "outputs": [],
   "source": [
    "def high_outlier_chk(varstr):\n",
    "    global outchk\n",
    "    new_var = varstr + '_high'\n",
    "    outchk[new_var] = np.where(outchk[varstr] > upper_outlier_bound(outchk[varstr]), 1, 0) \n",
    "    return outchk[new_var].mean()"
   ]
  },
  {
   "cell_type": "code",
   "execution_count": 87,
   "id": "0cd821fc",
   "metadata": {},
   "outputs": [],
   "source": [
    "outliers = pd.DataFrame({'variable': [v for v in vars_to_chk],\n",
    "                        'low outliers (%)': [low_outlier_chk(v) for v in vars_to_chk],\n",
    "                        'high outliers (%)': [high_outlier_chk(v) for v in vars_to_chk]})"
   ]
  },
  {
   "cell_type": "code",
   "execution_count": 88,
   "id": "a44ad79d",
   "metadata": {},
   "outputs": [
    {
     "data": {
      "text/html": [
       "<div>\n",
       "<style scoped>\n",
       "    .dataframe tbody tr th:only-of-type {\n",
       "        vertical-align: middle;\n",
       "    }\n",
       "\n",
       "    .dataframe tbody tr th {\n",
       "        vertical-align: top;\n",
       "    }\n",
       "\n",
       "    .dataframe thead th {\n",
       "        text-align: right;\n",
       "    }\n",
       "</style>\n",
       "<table border=\"1\" class=\"dataframe\">\n",
       "  <thead>\n",
       "    <tr style=\"text-align: right;\">\n",
       "      <th></th>\n",
       "      <th>variable</th>\n",
       "      <th>low outliers (%)</th>\n",
       "      <th>high outliers (%)</th>\n",
       "    </tr>\n",
       "  </thead>\n",
       "  <tbody>\n",
       "    <tr>\n",
       "      <th>0</th>\n",
       "      <td>total_ms</td>\n",
       "      <td>0.0</td>\n",
       "      <td>0.000000</td>\n",
       "    </tr>\n",
       "    <tr>\n",
       "      <th>1</th>\n",
       "      <td>idle_ms</td>\n",
       "      <td>0.0</td>\n",
       "      <td>0.000000</td>\n",
       "    </tr>\n",
       "    <tr>\n",
       "      <th>2</th>\n",
       "      <td>mw</td>\n",
       "      <td>0.0</td>\n",
       "      <td>0.092291</td>\n",
       "    </tr>\n",
       "    <tr>\n",
       "      <th>3</th>\n",
       "      <td>mwc</td>\n",
       "      <td>0.0</td>\n",
       "      <td>0.001625</td>\n",
       "    </tr>\n",
       "    <tr>\n",
       "      <th>4</th>\n",
       "      <td>mcl</td>\n",
       "      <td>0.0</td>\n",
       "      <td>0.129446</td>\n",
       "    </tr>\n",
       "    <tr>\n",
       "      <th>5</th>\n",
       "      <td>mcr</td>\n",
       "      <td>0.0</td>\n",
       "      <td>0.056307</td>\n",
       "    </tr>\n",
       "    <tr>\n",
       "      <th>6</th>\n",
       "      <td>mm</td>\n",
       "      <td>0.0</td>\n",
       "      <td>0.114798</td>\n",
       "    </tr>\n",
       "    <tr>\n",
       "      <th>7</th>\n",
       "      <td>ks</td>\n",
       "      <td>0.0</td>\n",
       "      <td>0.146947</td>\n",
       "    </tr>\n",
       "    <tr>\n",
       "      <th>8</th>\n",
       "      <td>active_ms</td>\n",
       "      <td>0.0</td>\n",
       "      <td>0.000000</td>\n",
       "    </tr>\n",
       "  </tbody>\n",
       "</table>\n",
       "</div>"
      ],
      "text/plain": [
       "    variable  low outliers (%)  high outliers (%)\n",
       "0   total_ms               0.0           0.000000\n",
       "1    idle_ms               0.0           0.000000\n",
       "2         mw               0.0           0.092291\n",
       "3        mwc               0.0           0.001625\n",
       "4        mcl               0.0           0.129446\n",
       "5        mcr               0.0           0.056307\n",
       "6         mm               0.0           0.114798\n",
       "7         ks               0.0           0.146947\n",
       "8  active_ms               0.0           0.000000"
      ]
     },
     "execution_count": 88,
     "metadata": {},
     "output_type": "execute_result"
    }
   ],
   "source": [
    "outliers"
   ]
  },
  {
   "cell_type": "code",
   "execution_count": 89,
   "id": "a97b0225",
   "metadata": {},
   "outputs": [
    {
     "data": {
      "text/plain": [
       "Index(['sess', 'sid', 'exer', 'actv', 'actv_grp', 'actv_exer', 'start_dt',\n",
       "       'end_dt', 'total_ms', 'idle_ms', 'mw', 'mwc', 'mcl', 'mcr', 'mm', 'ks',\n",
       "       'end_dt2', 'start_dt2', 'active_ms'],\n",
       "      dtype='object')"
      ]
     },
     "execution_count": 89,
     "metadata": {},
     "output_type": "execute_result"
    }
   ],
   "source": [
    "inputs_xdf.columns"
   ]
  },
  {
   "cell_type": "markdown",
   "id": "daf7d1fc",
   "metadata": {},
   "source": [
    "##### Natural Log"
   ]
  },
  {
   "cell_type": "code",
   "execution_count": 90,
   "id": "be9972b6",
   "metadata": {},
   "outputs": [],
   "source": [
    "inputs_xdf['total_ms_ln'] = np.log(inputs_xdf[['total_ms']].replace(0, np.nan))"
   ]
  },
  {
   "cell_type": "code",
   "execution_count": 91,
   "id": "64f11a81",
   "metadata": {},
   "outputs": [],
   "source": [
    "inputs_xdf['idle_ms_ln'] = np.log(inputs_xdf[['idle_ms']].replace(0, np.nan))"
   ]
  },
  {
   "cell_type": "code",
   "execution_count": 92,
   "id": "b5b34b54",
   "metadata": {},
   "outputs": [],
   "source": [
    "inputs_xdf['mw_ln'] = np.log(inputs_xdf[['mw']].replace(0, np.nan))"
   ]
  },
  {
   "cell_type": "code",
   "execution_count": 93,
   "id": "7290db37",
   "metadata": {},
   "outputs": [],
   "source": [
    "inputs_xdf['mwc_ln'] = np.log(inputs_xdf[['mwc']].replace(0, np.nan))"
   ]
  },
  {
   "cell_type": "code",
   "execution_count": 94,
   "id": "8cf7b1d6",
   "metadata": {},
   "outputs": [],
   "source": [
    "inputs_xdf['mcl_ln'] = np.log(inputs_xdf[['mcl']].replace(0, np.nan))"
   ]
  },
  {
   "cell_type": "code",
   "execution_count": 95,
   "id": "512d58d8",
   "metadata": {},
   "outputs": [],
   "source": [
    "inputs_xdf['mcr_ln'] = np.log(inputs_xdf[['mcr']].replace(0, np.nan))"
   ]
  },
  {
   "cell_type": "code",
   "execution_count": 96,
   "id": "fb0350e7",
   "metadata": {},
   "outputs": [],
   "source": [
    "inputs_xdf['mm_ln'] = np.log(inputs_xdf[['mm']].replace(0, np.nan))"
   ]
  },
  {
   "cell_type": "code",
   "execution_count": 97,
   "id": "8889e682",
   "metadata": {},
   "outputs": [],
   "source": [
    "inputs_xdf['ks_ln'] = np.log(inputs_xdf[['ks']].replace(0, np.nan))"
   ]
  },
  {
   "cell_type": "markdown",
   "id": "18eb0aab",
   "metadata": {},
   "source": [
    "##### Windsorize"
   ]
  },
  {
   "cell_type": "code",
   "execution_count": 98,
   "id": "f041687a",
   "metadata": {},
   "outputs": [],
   "source": [
    "xtr_lwr = lower_extreme_val(inputs_xdf['total_ms'].copy().dropna(how='any'))\n",
    "xtr_upr = upper_extreme_val(inputs_xdf['total_ms'].copy().dropna(how='any'))"
   ]
  },
  {
   "cell_type": "code",
   "execution_count": 99,
   "id": "f267b9bb",
   "metadata": {},
   "outputs": [
    {
     "data": {
      "text/plain": [
       "count    2.271280e+05\n",
       "mean     1.586071e+04\n",
       "std      6.110590e+04\n",
       "min      0.000000e+00\n",
       "25%      0.000000e+00\n",
       "50%      2.000000e+03\n",
       "75%      9.000000e+03\n",
       "max      3.861000e+06\n",
       "Name: total_ms, dtype: float64"
      ]
     },
     "execution_count": 99,
     "metadata": {},
     "output_type": "execute_result"
    }
   ],
   "source": [
    "inputs_xdf['total_ms'].describe()"
   ]
  },
  {
   "cell_type": "code",
   "execution_count": 100,
   "id": "4888bb54",
   "metadata": {},
   "outputs": [],
   "source": [
    "inputs_xdf['total_ms_wdz'] = [x if x >= xtr_lwr else xtr_lwr for x in inputs_xdf['total_ms']]"
   ]
  },
  {
   "cell_type": "code",
   "execution_count": 101,
   "id": "c3ee192e",
   "metadata": {},
   "outputs": [],
   "source": [
    "inputs_xdf['total_ms_wdz'] = [x if x <= xtr_upr else xtr_upr for x in inputs_xdf['total_ms']]"
   ]
  },
  {
   "cell_type": "code",
   "execution_count": 102,
   "id": "5d0af13e",
   "metadata": {},
   "outputs": [
    {
     "data": {
      "text/plain": [
       "count    227129.000000\n",
       "mean      11820.022983\n",
       "std       24910.445151\n",
       "min           0.000000\n",
       "25%           0.000000\n",
       "50%        2000.000000\n",
       "75%        9000.000000\n",
       "max      122000.000000\n",
       "Name: total_ms_wdz, dtype: float64"
      ]
     },
     "execution_count": 102,
     "metadata": {},
     "output_type": "execute_result"
    }
   ],
   "source": [
    "inputs_xdf['total_ms_wdz'].describe()"
   ]
  },
  {
   "cell_type": "code",
   "execution_count": 103,
   "id": "139bc945",
   "metadata": {},
   "outputs": [],
   "source": [
    "xtr_lwr = lower_extreme_val(inputs_xdf['idle_ms'].copy().dropna(how='any'))\n",
    "xtr_upr = upper_extreme_val(inputs_xdf['idle_ms'].copy().dropna(how='any'))"
   ]
  },
  {
   "cell_type": "code",
   "execution_count": 104,
   "id": "ac0ab8b2",
   "metadata": {},
   "outputs": [],
   "source": [
    "inputs_xdf['idle_ms_wdz'] = [x if x >= xtr_lwr else xtr_lwr for x in inputs_xdf['idle_ms']]"
   ]
  },
  {
   "cell_type": "code",
   "execution_count": 105,
   "id": "97b83a60",
   "metadata": {},
   "outputs": [],
   "source": [
    "inputs_xdf['idle_ms_wdz'] = [x if x <= xtr_upr else xtr_upr for x in inputs_xdf['idle_ms']]"
   ]
  },
  {
   "cell_type": "code",
   "execution_count": 106,
   "id": "40d12e31",
   "metadata": {},
   "outputs": [],
   "source": [
    "xtr_lwr = lower_extreme_val(inputs_xdf['mw'])\n",
    "xtr_upr = upper_extreme_val(inputs_xdf['mw'])"
   ]
  },
  {
   "cell_type": "code",
   "execution_count": 107,
   "id": "93bebf5b",
   "metadata": {},
   "outputs": [],
   "source": [
    "inputs_xdf['mw_wdz'] = [x if x >= xtr_lwr else xtr_lwr for x in inputs_xdf['mw']]"
   ]
  },
  {
   "cell_type": "code",
   "execution_count": 108,
   "id": "fac5a2bb",
   "metadata": {},
   "outputs": [],
   "source": [
    "inputs_xdf['mw_wdz'] = [x if x <= xtr_upr else xtr_upr for x in inputs_xdf['mw']]"
   ]
  },
  {
   "cell_type": "code",
   "execution_count": 109,
   "id": "83c2370d",
   "metadata": {},
   "outputs": [],
   "source": [
    "xtr_lwr = lower_extreme_val(inputs_xdf['mwc'])\n",
    "xtr_upr = upper_extreme_val(inputs_xdf['mwc'])"
   ]
  },
  {
   "cell_type": "code",
   "execution_count": 110,
   "id": "1c7b0e9d",
   "metadata": {},
   "outputs": [],
   "source": [
    "inputs_xdf['mwc_wdz'] = [x if x >= xtr_lwr else xtr_lwr for x in inputs_xdf['mwc']]"
   ]
  },
  {
   "cell_type": "code",
   "execution_count": 111,
   "id": "04352c0c",
   "metadata": {},
   "outputs": [],
   "source": [
    "inputs_xdf['mwc_wdz'] = [x if x <= xtr_upr else xtr_upr for x in inputs_xdf['mwc']]"
   ]
  },
  {
   "cell_type": "code",
   "execution_count": 112,
   "id": "6b4df493",
   "metadata": {},
   "outputs": [],
   "source": [
    "xtr_lwr = lower_extreme_val(inputs_xdf['mcl'])\n",
    "xtr_upr = upper_extreme_val(inputs_xdf['mcl'])"
   ]
  },
  {
   "cell_type": "code",
   "execution_count": 113,
   "id": "c160e624",
   "metadata": {},
   "outputs": [],
   "source": [
    "inputs_xdf['mcl_wdz'] = [x if x >= xtr_lwr else xtr_lwr for x in inputs_xdf['mcl']]"
   ]
  },
  {
   "cell_type": "code",
   "execution_count": 114,
   "id": "f582355a",
   "metadata": {},
   "outputs": [],
   "source": [
    "inputs_xdf['mcl_wdz'] = [x if x <= xtr_upr else xtr_upr for x in inputs_xdf['mcl']]"
   ]
  },
  {
   "cell_type": "code",
   "execution_count": 115,
   "id": "335de428",
   "metadata": {},
   "outputs": [],
   "source": [
    "xtr_lwr = lower_extreme_val(inputs_xdf['mcr'])\n",
    "xtr_upr = upper_extreme_val(inputs_xdf['mcr'])"
   ]
  },
  {
   "cell_type": "code",
   "execution_count": 116,
   "id": "7433a7db",
   "metadata": {},
   "outputs": [],
   "source": [
    "inputs_xdf['mcr_wdz'] = [x if x >= xtr_lwr else xtr_lwr for x in inputs_xdf['mcr']]"
   ]
  },
  {
   "cell_type": "code",
   "execution_count": 117,
   "id": "8bcf2402",
   "metadata": {},
   "outputs": [],
   "source": [
    "inputs_xdf['mcr_wdz'] = [x if x <= xtr_upr else xtr_upr for x in inputs_xdf['mcr']]"
   ]
  },
  {
   "cell_type": "code",
   "execution_count": 118,
   "id": "4a3e8a35",
   "metadata": {},
   "outputs": [],
   "source": [
    "xtr_lwr = lower_extreme_val(inputs_xdf['mm'])\n",
    "xtr_upr = upper_extreme_val(inputs_xdf['mm'])"
   ]
  },
  {
   "cell_type": "code",
   "execution_count": 119,
   "id": "2691af3d",
   "metadata": {},
   "outputs": [],
   "source": [
    "inputs_xdf['mm_wdz'] = [x if x >= xtr_lwr else xtr_lwr for x in inputs_xdf['mm']]"
   ]
  },
  {
   "cell_type": "code",
   "execution_count": 120,
   "id": "48db1377",
   "metadata": {},
   "outputs": [],
   "source": [
    "inputs_xdf['mm_wdz'] = [x if x <= xtr_upr else xtr_upr for x in inputs_xdf['mm']]"
   ]
  },
  {
   "cell_type": "code",
   "execution_count": 121,
   "id": "bf0225ba",
   "metadata": {},
   "outputs": [],
   "source": [
    "xtr_lwr = lower_extreme_val(inputs_xdf['ks'])\n",
    "xtr_upr = upper_extreme_val(inputs_xdf['ks'])"
   ]
  },
  {
   "cell_type": "code",
   "execution_count": 122,
   "id": "c0aa0f81",
   "metadata": {},
   "outputs": [],
   "source": [
    "inputs_xdf['ks_wdz'] = [x if x >= xtr_lwr else xtr_lwr for x in inputs_xdf['ks']]"
   ]
  },
  {
   "cell_type": "code",
   "execution_count": 123,
   "id": "1d21cc37",
   "metadata": {},
   "outputs": [],
   "source": [
    "inputs_xdf['ks_wdz'] = [x if x <= xtr_upr else xtr_upr for x in inputs_xdf['ks']]"
   ]
  },
  {
   "cell_type": "markdown",
   "id": "112dbb6d",
   "metadata": {},
   "source": [
    "##### Square Root"
   ]
  },
  {
   "cell_type": "code",
   "execution_count": 124,
   "id": "9dfae12a",
   "metadata": {},
   "outputs": [],
   "source": [
    "inputs_xdf['total_ms_sqrt'] = np.sqrt(inputs_xdf[['total_ms']])"
   ]
  },
  {
   "cell_type": "code",
   "execution_count": 125,
   "id": "04d08901",
   "metadata": {},
   "outputs": [],
   "source": [
    "inputs_xdf['idle_ms_sqrt'] = np.sqrt(inputs_xdf[['idle_ms']])"
   ]
  },
  {
   "cell_type": "code",
   "execution_count": 126,
   "id": "69a4e461",
   "metadata": {},
   "outputs": [],
   "source": [
    "inputs_xdf['mw_sqrt'] = np.sqrt(inputs_xdf[['mw']])"
   ]
  },
  {
   "cell_type": "code",
   "execution_count": 127,
   "id": "83275973",
   "metadata": {},
   "outputs": [],
   "source": [
    "inputs_xdf['mwc_sqrt'] = np.sqrt(inputs_xdf[['mwc']])"
   ]
  },
  {
   "cell_type": "code",
   "execution_count": 128,
   "id": "41aae684",
   "metadata": {},
   "outputs": [],
   "source": [
    "inputs_xdf['mcl_sqrt'] = np.sqrt(inputs_xdf[['mcl']])"
   ]
  },
  {
   "cell_type": "code",
   "execution_count": 129,
   "id": "0104b3ce",
   "metadata": {},
   "outputs": [],
   "source": [
    "inputs_xdf['mcr_sqrt'] = np.sqrt(inputs_xdf[['mcr']])"
   ]
  },
  {
   "cell_type": "code",
   "execution_count": 130,
   "id": "a781f985",
   "metadata": {},
   "outputs": [],
   "source": [
    "inputs_xdf['mm_sqrt'] = np.sqrt(inputs_xdf[['mm']])"
   ]
  },
  {
   "cell_type": "code",
   "execution_count": 131,
   "id": "fb080db5",
   "metadata": {},
   "outputs": [],
   "source": [
    "inputs_xdf['ks_sqrt'] = np.sqrt(inputs_xdf[['ks']])"
   ]
  },
  {
   "cell_type": "markdown",
   "id": "545e7235",
   "metadata": {},
   "source": [
    "##### `total_ms`"
   ]
  },
  {
   "cell_type": "code",
   "execution_count": 132,
   "id": "86049328",
   "metadata": {},
   "outputs": [
    {
     "data": {
      "image/png": "[encoded data removed]",
      "text/plain": [
       "<Figure size 400x400 with 1 Axes>"
      ]
     },
     "metadata": {},
     "output_type": "display_data"
    }
   ],
   "source": [
    "sns.displot(\n",
    "    inputs_xdf, x='total_ms', stat='percent', kind='hist', bins=30, height=4)\n",
    "\n",
    "plt.show()"
   ]
  },
  {
   "cell_type": "code",
   "execution_count": 133,
   "id": "0958506b",
   "metadata": {},
   "outputs": [
    {
     "data": {
      "image/png": "[encoded data removed]",
      "text/plain": [
       "<Figure size 400x400 with 1 Axes>"
      ]
     },
     "metadata": {},
     "output_type": "display_data"
    }
   ],
   "source": [
    "sns.displot(\n",
    "    inputs_xdf, x='total_ms_ln', stat='percent', kind='hist', bins=30, height=4)\n",
    "\n",
    "plt.show()"
   ]
  },
  {
   "cell_type": "code",
   "execution_count": 134,
   "id": "48fa2822",
   "metadata": {},
   "outputs": [
    {
     "data": {
      "image/png": "[encoded data removed]",
      "text/plain": [
       "<Figure size 400x400 with 1 Axes>"
      ]
     },
     "metadata": {},
     "output_type": "display_data"
    }
   ],
   "source": [
    "sns.displot(\n",
    "    inputs_xdf, x='total_ms_wdz', stat='percent', kind='hist', bins=30, height=4)\n",
    "\n",
    "plt.show()"
   ]
  },
  {
   "cell_type": "code",
   "execution_count": 135,
   "id": "e2a1f8e1",
   "metadata": {},
   "outputs": [
    {
     "data": {
      "image/png": "[encoded data removed]",
      "text/plain": [
       "<Figure size 400x400 with 1 Axes>"
      ]
     },
     "metadata": {},
     "output_type": "display_data"
    }
   ],
   "source": [
    "sns.displot(\n",
    "    inputs_xdf, x='total_ms_sqrt', stat='percent', kind='hist', bins=30, height=4)\n",
    "\n",
    "plt.show()"
   ]
  },
  {
   "cell_type": "markdown",
   "id": "2897808c",
   "metadata": {},
   "source": [
    "##### `idle_ms`"
   ]
  },
  {
   "cell_type": "code",
   "execution_count": 136,
   "id": "8e98aa65",
   "metadata": {},
   "outputs": [
    {
     "data": {
      "image/png": "[encoded data removed]",
      "text/plain": [
       "<Figure size 400x400 with 1 Axes>"
      ]
     },
     "metadata": {},
     "output_type": "display_data"
    }
   ],
   "source": [
    "sns.displot(\n",
    "    inputs_xdf, x='idle_ms', stat='percent', kind='hist', bins=30, height=4)\n",
    "\n",
    "plt.show()"
   ]
  },
  {
   "cell_type": "code",
   "execution_count": 137,
   "id": "407c4c7d",
   "metadata": {},
   "outputs": [
    {
     "data": {
      "image/png": "[encoded data removed]",
      "text/plain": [
       "<Figure size 400x400 with 1 Axes>"
      ]
     },
     "metadata": {},
     "output_type": "display_data"
    }
   ],
   "source": [
    "sns.displot(\n",
    "    inputs_xdf, x='idle_ms_ln', stat='percent', kind='hist', bins=30, height=4)\n",
    "\n",
    "plt.show()"
   ]
  },
  {
   "cell_type": "code",
   "execution_count": 138,
   "id": "3973c3fb",
   "metadata": {},
   "outputs": [
    {
     "data": {
      "image/png": "[encoded data removed]",
      "text/plain": [
       "<Figure size 400x400 with 1 Axes>"
      ]
     },
     "metadata": {},
     "output_type": "display_data"
    }
   ],
   "source": [
    "sns.displot(\n",
    "    inputs_xdf, x='idle_ms_wdz', stat='percent', kind='hist', bins=30, height=4)\n",
    "\n",
    "plt.show()"
   ]
  },
  {
   "cell_type": "code",
   "execution_count": 139,
   "id": "e246e111",
   "metadata": {},
   "outputs": [
    {
     "data": {
      "image/png": "[encoded data removed]",
      "text/plain": [
       "<Figure size 400x400 with 1 Axes>"
      ]
     },
     "metadata": {},
     "output_type": "display_data"
    }
   ],
   "source": [
    "sns.displot(\n",
    "    inputs_xdf, x='idle_ms_sqrt', stat='percent', kind='hist', bins=30, height=4)\n",
    "\n",
    "plt.show()"
   ]
  },
  {
   "cell_type": "markdown",
   "id": "fb4afbfe",
   "metadata": {},
   "source": [
    "##### `mouse_wheel`"
   ]
  },
  {
   "cell_type": "code",
   "execution_count": 140,
   "id": "f307f138",
   "metadata": {},
   "outputs": [
    {
     "data": {
      "image/png": "[encoded data removed]",
      "text/plain": [
       "<Figure size 400x400 with 1 Axes>"
      ]
     },
     "metadata": {},
     "output_type": "display_data"
    }
   ],
   "source": [
    "sns.displot(\n",
    "    inputs_xdf, x='mw', stat='percent', kind='hist', bins=30, height=4)\n",
    "\n",
    "plt.show()"
   ]
  },
  {
   "cell_type": "code",
   "execution_count": 141,
   "id": "687a6dad",
   "metadata": {},
   "outputs": [
    {
     "data": {
      "image/png": "[encoded data removed]",
      "text/plain": [
       "<Figure size 400x400 with 1 Axes>"
      ]
     },
     "metadata": {},
     "output_type": "display_data"
    }
   ],
   "source": [
    "sns.displot(\n",
    "    inputs_xdf, x='mw_ln', stat='percent', kind='hist', bins=30, height=4)\n",
    "\n",
    "plt.show()"
   ]
  },
  {
   "cell_type": "code",
   "execution_count": 142,
   "id": "35acf0e7",
   "metadata": {},
   "outputs": [
    {
     "data": {
      "image/png": "[encoded data removed]",
      "text/plain": [
       "<Figure size 400x400 with 1 Axes>"
      ]
     },
     "metadata": {},
     "output_type": "display_data"
    }
   ],
   "source": [
    "sns.displot(\n",
    "    inputs_xdf, x='mw_wdz', stat='percent', kind='hist', bins=30, height=4)\n",
    "\n",
    "plt.show()"
   ]
  },
  {
   "cell_type": "code",
   "execution_count": 143,
   "id": "d7cc03f1",
   "metadata": {},
   "outputs": [
    {
     "data": {
      "image/png": "[encoded data removed]",
      "text/plain": [
       "<Figure size 400x400 with 1 Axes>"
      ]
     },
     "metadata": {},
     "output_type": "display_data"
    }
   ],
   "source": [
    "sns.displot(\n",
    "    inputs_xdf, x='mw_sqrt', stat='percent', kind='hist', bins=30, height=4)\n",
    "\n",
    "plt.show()"
   ]
  },
  {
   "cell_type": "markdown",
   "id": "8b5c31b6",
   "metadata": {},
   "source": [
    "##### `mouse_wheel_click`"
   ]
  },
  {
   "cell_type": "code",
   "execution_count": 144,
   "id": "5cb9b760",
   "metadata": {},
   "outputs": [
    {
     "data": {
      "image/png": "[encoded data removed]",
      "text/plain": [
       "<Figure size 400x400 with 1 Axes>"
      ]
     },
     "metadata": {},
     "output_type": "display_data"
    }
   ],
   "source": [
    "sns.displot(\n",
    "    inputs_xdf, x='mwc', stat='percent', kind='hist', bins=30, height=4)\n",
    "\n",
    "plt.show()"
   ]
  },
  {
   "cell_type": "code",
   "execution_count": 145,
   "id": "1f8cb093",
   "metadata": {},
   "outputs": [
    {
     "data": {
      "image/png": "[encoded data removed]",
      "text/plain": [
       "<Figure size 400x400 with 1 Axes>"
      ]
     },
     "metadata": {},
     "output_type": "display_data"
    }
   ],
   "source": [
    "sns.displot(\n",
    "    inputs_xdf, x='mwc_ln', stat='percent', kind='hist', bins=30, height=4)\n",
    "\n",
    "plt.show()"
   ]
  },
  {
   "cell_type": "code",
   "execution_count": 146,
   "id": "176f015d",
   "metadata": {},
   "outputs": [
    {
     "data": {
      "image/png": "[encoded data removed]",
      "text/plain": [
       "<Figure size 400x400 with 1 Axes>"
      ]
     },
     "metadata": {},
     "output_type": "display_data"
    }
   ],
   "source": [
    "sns.displot(\n",
    "    inputs_xdf, x='mwc_wdz', stat='percent', kind='hist', bins=30, height=4)\n",
    "\n",
    "plt.show()"
   ]
  },
  {
   "cell_type": "code",
   "execution_count": 147,
   "id": "fd820a45",
   "metadata": {},
   "outputs": [
    {
     "data": {
      "image/png": "[encoded data removed]",
      "text/plain": [
       "<Figure size 400x400 with 1 Axes>"
      ]
     },
     "metadata": {},
     "output_type": "display_data"
    }
   ],
   "source": [
    "sns.displot(\n",
    "    inputs_xdf, x='mwc_sqrt', stat='percent', kind='hist', bins=30, height=4)\n",
    "\n",
    "plt.show()"
   ]
  },
  {
   "cell_type": "markdown",
   "id": "e9da05a5",
   "metadata": {},
   "source": [
    "##### `mouse_click_left`"
   ]
  },
  {
   "cell_type": "code",
   "execution_count": 148,
   "id": "fbc46393",
   "metadata": {},
   "outputs": [
    {
     "data": {
      "image/png": "[encoded data removed]",
      "text/plain": [
       "<Figure size 400x400 with 1 Axes>"
      ]
     },
     "metadata": {},
     "output_type": "display_data"
    }
   ],
   "source": [
    "sns.displot(\n",
    "    inputs_xdf, x='mcl', stat='percent', kind='hist', bins=30, height=4)\n",
    "\n",
    "plt.show()"
   ]
  },
  {
   "cell_type": "code",
   "execution_count": 149,
   "id": "187d744b",
   "metadata": {},
   "outputs": [
    {
     "data": {
      "image/png": "[encoded data removed]",
      "text/plain": [
       "<Figure size 400x400 with 1 Axes>"
      ]
     },
     "metadata": {},
     "output_type": "display_data"
    }
   ],
   "source": [
    "sns.displot(\n",
    "    inputs_xdf, x='mcl_ln', stat='percent', kind='hist', bins=30, height=4)\n",
    "\n",
    "plt.show()"
   ]
  },
  {
   "cell_type": "code",
   "execution_count": 150,
   "id": "37041b08",
   "metadata": {},
   "outputs": [
    {
     "data": {
      "image/png": "[encoded data removed]",
      "text/plain": [
       "<Figure size 400x400 with 1 Axes>"
      ]
     },
     "metadata": {},
     "output_type": "display_data"
    }
   ],
   "source": [
    "sns.displot(\n",
    "    inputs_xdf, x='mcl_wdz', stat='percent', kind='hist', bins=30, height=4)\n",
    "\n",
    "plt.show()"
   ]
  },
  {
   "cell_type": "code",
   "execution_count": 151,
   "id": "adb49479",
   "metadata": {},
   "outputs": [
    {
     "data": {
      "image/png": "[encoded data removed]",
      "text/plain": [
       "<Figure size 400x400 with 1 Axes>"
      ]
     },
     "metadata": {},
     "output_type": "display_data"
    }
   ],
   "source": [
    "sns.displot(\n",
    "    inputs_xdf, x='mcl_sqrt', stat='percent', kind='hist', bins=30, height=4)\n",
    "\n",
    "plt.show()"
   ]
  },
  {
   "cell_type": "markdown",
   "id": "7b54379a",
   "metadata": {},
   "source": [
    "##### `mouse_click_right`"
   ]
  },
  {
   "cell_type": "code",
   "execution_count": 152,
   "id": "dd745428",
   "metadata": {},
   "outputs": [
    {
     "data": {
      "image/png": "[encoded data removed]",
      "text/plain": [
       "<Figure size 400x400 with 1 Axes>"
      ]
     },
     "metadata": {},
     "output_type": "display_data"
    }
   ],
   "source": [
    "sns.displot(\n",
    "    inputs_xdf, x='mcr', stat='percent', kind='hist', bins=30, height=4)\n",
    "\n",
    "plt.show()"
   ]
  },
  {
   "cell_type": "code",
   "execution_count": 153,
   "id": "0ee88aab",
   "metadata": {},
   "outputs": [
    {
     "data": {
      "image/png": "[encoded data removed]",
      "text/plain": [
       "<Figure size 400x400 with 1 Axes>"
      ]
     },
     "metadata": {},
     "output_type": "display_data"
    }
   ],
   "source": [
    "sns.displot(\n",
    "    inputs_xdf, x='mcr_ln', stat='percent', kind='hist', bins=30, height=4)\n",
    "\n",
    "plt.show()"
   ]
  },
  {
   "cell_type": "code",
   "execution_count": 154,
   "id": "b8cb867b",
   "metadata": {},
   "outputs": [
    {
     "data": {
      "image/png": "[encoded data removed]",
      "text/plain": [
       "<Figure size 400x400 with 1 Axes>"
      ]
     },
     "metadata": {},
     "output_type": "display_data"
    }
   ],
   "source": [
    "sns.displot(\n",
    "    inputs_xdf, x='mcr_wdz', stat='percent', kind='hist', bins=30, height=4)\n",
    "\n",
    "plt.show()"
   ]
  },
  {
   "cell_type": "code",
   "execution_count": 155,
   "id": "628db226",
   "metadata": {},
   "outputs": [
    {
     "data": {
      "image/png": "[encoded data removed]",
      "text/plain": [
       "<Figure size 400x400 with 1 Axes>"
      ]
     },
     "metadata": {},
     "output_type": "display_data"
    }
   ],
   "source": [
    "sns.displot(\n",
    "    inputs_xdf, x='mcr_sqrt', stat='percent', kind='hist', bins=30, height=4)\n",
    "\n",
    "plt.show()"
   ]
  },
  {
   "cell_type": "markdown",
   "id": "44a5fe9f",
   "metadata": {},
   "source": [
    "##### `mouse_movement`"
   ]
  },
  {
   "cell_type": "code",
   "execution_count": 156,
   "id": "02af6b14",
   "metadata": {},
   "outputs": [
    {
     "data": {
      "image/png": "[encoded data removed]",
      "text/plain": [
       "<Figure size 400x400 with 1 Axes>"
      ]
     },
     "metadata": {},
     "output_type": "display_data"
    }
   ],
   "source": [
    "sns.displot(\n",
    "    inputs_xdf, x='mm', stat='percent', kind='hist', bins=30, height=4)\n",
    "\n",
    "plt.show()"
   ]
  },
  {
   "cell_type": "code",
   "execution_count": 157,
   "id": "b61c2537",
   "metadata": {},
   "outputs": [
    {
     "data": {
      "image/png": "[encoded data removed]",
      "text/plain": [
       "<Figure size 400x400 with 1 Axes>"
      ]
     },
     "metadata": {},
     "output_type": "display_data"
    }
   ],
   "source": [
    "sns.displot(\n",
    "    inputs_xdf, x='mm_ln', stat='percent', kind='hist', bins=30, height=4)\n",
    "\n",
    "plt.show()"
   ]
  },
  {
   "cell_type": "code",
   "execution_count": 158,
   "id": "394c4509",
   "metadata": {},
   "outputs": [
    {
     "data": {
      "image/png": "[encoded data removed]",
      "text/plain": [
       "<Figure size 400x400 with 1 Axes>"
      ]
     },
     "metadata": {},
     "output_type": "display_data"
    }
   ],
   "source": [
    "sns.displot(\n",
    "    inputs_xdf, x='mm_wdz', stat='percent', kind='hist', bins=30, height=4)\n",
    "\n",
    "plt.show()"
   ]
  },
  {
   "cell_type": "code",
   "execution_count": 159,
   "id": "655864ff",
   "metadata": {},
   "outputs": [
    {
     "data": {
      "image/png": "[encoded data removed]",
      "text/plain": [
       "<Figure size 400x400 with 1 Axes>"
      ]
     },
     "metadata": {},
     "output_type": "display_data"
    }
   ],
   "source": [
    "sns.displot(\n",
    "    inputs_xdf, x='mm_sqrt', stat='percent', kind='hist', bins=30, height=4)\n",
    "\n",
    "plt.show()"
   ]
  },
  {
   "cell_type": "markdown",
   "id": "ab938833",
   "metadata": {},
   "source": [
    "##### `keystroke`"
   ]
  },
  {
   "cell_type": "code",
   "execution_count": 160,
   "id": "c433818e",
   "metadata": {},
   "outputs": [
    {
     "data": {
      "image/png": "[encoded data removed]",
      "text/plain": [
       "<Figure size 400x400 with 1 Axes>"
      ]
     },
     "metadata": {},
     "output_type": "display_data"
    }
   ],
   "source": [
    "sns.displot(\n",
    "    inputs_xdf, x='ks', stat='percent', kind='hist', bins=30, height=4)\n",
    "\n",
    "plt.show()"
   ]
  },
  {
   "cell_type": "code",
   "execution_count": 161,
   "id": "fdc79cee",
   "metadata": {},
   "outputs": [
    {
     "data": {
      "image/png": "[encoded data removed]",
      "text/plain": [
       "<Figure size 400x400 with 1 Axes>"
      ]
     },
     "metadata": {},
     "output_type": "display_data"
    }
   ],
   "source": [
    "sns.displot(\n",
    "    inputs_xdf, x='ks_ln', stat='percent', kind='hist', bins=30, height=4)\n",
    "\n",
    "plt.show()"
   ]
  },
  {
   "cell_type": "code",
   "execution_count": 162,
   "id": "a17a9025",
   "metadata": {},
   "outputs": [
    {
     "data": {
      "image/png": "[encoded data removed]",
      "text/plain": [
       "<Figure size 400x400 with 1 Axes>"
      ]
     },
     "metadata": {},
     "output_type": "display_data"
    }
   ],
   "source": [
    "sns.displot(\n",
    "    inputs_xdf, x='ks_wdz', stat='percent', kind='hist', bins=30, height=4)\n",
    "\n",
    "plt.show()"
   ]
  },
  {
   "cell_type": "code",
   "execution_count": 163,
   "id": "9fb5e0b6",
   "metadata": {},
   "outputs": [
    {
     "data": {
      "image/png": "[encoded data removed]",
      "text/plain": [
       "<Figure size 400x400 with 1 Axes>"
      ]
     },
     "metadata": {},
     "output_type": "display_data"
    }
   ],
   "source": [
    "sns.displot(\n",
    "    inputs_xdf, x='ks_sqrt', stat='percent', kind='hist', bins=30, height=4)\n",
    "\n",
    "plt.show()"
   ]
  },
  {
   "cell_type": "code",
   "execution_count": 164,
   "id": "f5efd753",
   "metadata": {},
   "outputs": [
    {
     "name": "stdout",
     "output_type": "stream",
     "text": [
      "<class 'pandas.core.frame.DataFrame'>\n",
      "RangeIndex: 227129 entries, 0 to 227128\n",
      "Data columns (total 43 columns):\n",
      " #   Column         Non-Null Count   Dtype         \n",
      "---  ------         --------------   -----         \n",
      " 0   sess           227129 non-null  object        \n",
      " 1   sid            227129 non-null  object        \n",
      " 2   exer           227129 non-null  object        \n",
      " 3   actv           227129 non-null  object        \n",
      " 4   actv_grp       227129 non-null  object        \n",
      " 5   actv_exer      111979 non-null  object        \n",
      " 6   start_dt       227129 non-null  datetime64[ns]\n",
      " 7   end_dt         227129 non-null  datetime64[ns]\n",
      " 8   total_ms       227128 non-null  float64       \n",
      " 9   idle_ms        226971 non-null  float64       \n",
      " 10  mw             227129 non-null  int64         \n",
      " 11  mwc            227129 non-null  int64         \n",
      " 12  mcl            227129 non-null  int64         \n",
      " 13  mcr            227129 non-null  int64         \n",
      " 14  mm             227129 non-null  int64         \n",
      " 15  ks             227129 non-null  int64         \n",
      " 16  end_dt2        227128 non-null  datetime64[ns]\n",
      " 17  start_dt2      227129 non-null  datetime64[ns]\n",
      " 18  active_ms      173769 non-null  float64       \n",
      " 19  total_ms_ln    167361 non-null  float64       \n",
      " 20  idle_ms_ln     144564 non-null  float64       \n",
      " 21  mw_ln          20962 non-null   float64       \n",
      " 22  mwc_ln         369 non-null     float64       \n",
      " 23  mcl_ln         203505 non-null  float64       \n",
      " 24  mcr_ln         12789 non-null   float64       \n",
      " 25  mm_ln          212448 non-null  float64       \n",
      " 26  ks_ln          33376 non-null   float64       \n",
      " 27  total_ms_wdz   227129 non-null  float64       \n",
      " 28  idle_ms_wdz    227129 non-null  float64       \n",
      " 29  mw_wdz         227129 non-null  float64       \n",
      " 30  mwc_wdz        227129 non-null  float64       \n",
      " 31  mcl_wdz        227129 non-null  float64       \n",
      " 32  mcr_wdz        227129 non-null  float64       \n",
      " 33  mm_wdz         227129 non-null  float64       \n",
      " 34  ks_wdz         227129 non-null  float64       \n",
      " 35  total_ms_sqrt  227128 non-null  float64       \n",
      " 36  idle_ms_sqrt   226971 non-null  float64       \n",
      " 37  mw_sqrt        227129 non-null  float64       \n",
      " 38  mwc_sqrt       227129 non-null  float64       \n",
      " 39  mcl_sqrt       227129 non-null  float64       \n",
      " 40  mcr_sqrt       227129 non-null  float64       \n",
      " 41  mm_sqrt        227129 non-null  float64       \n",
      " 42  ks_sqrt        227129 non-null  float64       \n",
      "dtypes: datetime64[ns](4), float64(27), int64(6), object(6)\n",
      "memory usage: 74.5+ MB\n"
     ]
    }
   ],
   "source": [
    "inputs_xdf.info()"
   ]
  },
  {
   "cell_type": "markdown",
   "id": "92908ab0",
   "metadata": {},
   "source": [
    "#### Select original variables and sqrt/windsorized transformations  (nlog produces too many NaN values because of the 0s)"
   ]
  },
  {
   "cell_type": "code",
   "execution_count": 165,
   "id": "3149f261",
   "metadata": {},
   "outputs": [
    {
     "data": {
      "text/plain": [
       "Index(['sess', 'sid', 'exer', 'actv', 'actv_grp', 'actv_exer', 'start_dt',\n",
       "       'end_dt', 'total_ms', 'idle_ms', 'mw', 'mwc', 'mcl', 'mcr', 'mm', 'ks',\n",
       "       'end_dt2', 'start_dt2', 'active_ms', 'total_ms_ln', 'idle_ms_ln',\n",
       "       'mw_ln', 'mwc_ln', 'mcl_ln', 'mcr_ln', 'mm_ln', 'ks_ln', 'total_ms_wdz',\n",
       "       'idle_ms_wdz', 'mw_wdz', 'mwc_wdz', 'mcl_wdz', 'mcr_wdz', 'mm_wdz',\n",
       "       'ks_wdz', 'total_ms_sqrt', 'idle_ms_sqrt', 'mw_sqrt', 'mwc_sqrt',\n",
       "       'mcl_sqrt', 'mcr_sqrt', 'mm_sqrt', 'ks_sqrt'],\n",
       "      dtype='object')"
      ]
     },
     "execution_count": 165,
     "metadata": {},
     "output_type": "execute_result"
    }
   ],
   "source": [
    "inputs_xdf.columns"
   ]
  },
  {
   "cell_type": "code",
   "execution_count": 166,
   "id": "c721d7f7",
   "metadata": {},
   "outputs": [],
   "source": [
    "inputs_out = inputs_xdf[['sess', 'sid', 'start_dt2', 'end_dt2', 'exer', 'actv', 'actv_grp', \n",
    "                         'total_ms', 'idle_ms', 'mw', 'mwc', 'mcl', 'mcr', 'mm', 'ks', \n",
    "                         'total_ms_wdz', 'idle_ms_wdz', 'mw_wdz', 'mwc_wdz', 'mcl_wdz', \n",
    "                         'mcr_wdz', 'mm_wdz', 'ks_wdz', 'total_ms_sqrt', 'idle_ms_sqrt', \n",
    "                         'mw_sqrt', 'mwc_sqrt', 'mcl_sqrt', 'mcr_sqrt', 'mm_sqrt', 'ks_sqrt']].\\\n",
    "       rename(columns={'start_dt2': 'start_dt', 'end_dt2': 'end_dt'}).\\\n",
    "       copy()"
   ]
  },
  {
   "cell_type": "code",
   "execution_count": 167,
   "id": "bba4040c",
   "metadata": {},
   "outputs": [
    {
     "name": "stdout",
     "output_type": "stream",
     "text": [
      "<class 'pandas.core.frame.DataFrame'>\n",
      "RangeIndex: 227129 entries, 0 to 227128\n",
      "Data columns (total 31 columns):\n",
      " #   Column         Non-Null Count   Dtype         \n",
      "---  ------         --------------   -----         \n",
      " 0   sess           227129 non-null  object        \n",
      " 1   sid            227129 non-null  object        \n",
      " 2   start_dt       227129 non-null  datetime64[ns]\n",
      " 3   end_dt         227128 non-null  datetime64[ns]\n",
      " 4   exer           227129 non-null  object        \n",
      " 5   actv           227129 non-null  object        \n",
      " 6   actv_grp       227129 non-null  object        \n",
      " 7   total_ms       227128 non-null  float64       \n",
      " 8   idle_ms        226971 non-null  float64       \n",
      " 9   mw             227129 non-null  int64         \n",
      " 10  mwc            227129 non-null  int64         \n",
      " 11  mcl            227129 non-null  int64         \n",
      " 12  mcr            227129 non-null  int64         \n",
      " 13  mm             227129 non-null  int64         \n",
      " 14  ks             227129 non-null  int64         \n",
      " 15  total_ms_wdz   227129 non-null  float64       \n",
      " 16  idle_ms_wdz    227129 non-null  float64       \n",
      " 17  mw_wdz         227129 non-null  float64       \n",
      " 18  mwc_wdz        227129 non-null  float64       \n",
      " 19  mcl_wdz        227129 non-null  float64       \n",
      " 20  mcr_wdz        227129 non-null  float64       \n",
      " 21  mm_wdz         227129 non-null  float64       \n",
      " 22  ks_wdz         227129 non-null  float64       \n",
      " 23  total_ms_sqrt  227128 non-null  float64       \n",
      " 24  idle_ms_sqrt   226971 non-null  float64       \n",
      " 25  mw_sqrt        227129 non-null  float64       \n",
      " 26  mwc_sqrt       227129 non-null  float64       \n",
      " 27  mcl_sqrt       227129 non-null  float64       \n",
      " 28  mcr_sqrt       227129 non-null  float64       \n",
      " 29  mm_sqrt        227129 non-null  float64       \n",
      " 30  ks_sqrt        227129 non-null  float64       \n",
      "dtypes: datetime64[ns](2), float64(18), int64(6), object(5)\n",
      "memory usage: 53.7+ MB\n"
     ]
    }
   ],
   "source": [
    "inputs_out.info()"
   ]
  },
  {
   "cell_type": "code",
   "execution_count": 168,
   "id": "27b711bd",
   "metadata": {},
   "outputs": [],
   "source": [
    "df_split = np.array_split(inputs_out, 3)"
   ]
  },
  {
   "cell_type": "code",
   "execution_count": 169,
   "id": "b25876f1",
   "metadata": {},
   "outputs": [
    {
     "data": {
      "text/plain": [
       "(227129, 31)"
      ]
     },
     "execution_count": 169,
     "metadata": {},
     "output_type": "execute_result"
    }
   ],
   "source": [
    "pd.concat([df_split[0], df_split[1], df_split[2]], ignore_index=True, axis=0).shape"
   ]
  },
  {
   "cell_type": "code",
   "execution_count": 170,
   "id": "5c04dcc1",
   "metadata": {},
   "outputs": [],
   "source": [
    "df_split[0].to_csv('inputs_clean_p1.csv', index=False)"
   ]
  },
  {
   "cell_type": "code",
   "execution_count": 171,
   "id": "404c708e",
   "metadata": {},
   "outputs": [],
   "source": [
    "df_split[1].to_csv('inputs_clean_p2.csv', index=False)"
   ]
  },
  {
   "cell_type": "code",
   "execution_count": 172,
   "id": "9bc0d64a",
   "metadata": {},
   "outputs": [],
   "source": [
    "df_split[2].to_csv('inputs_clean_p3.csv', index=False)"
   ]
  },
  {
   "cell_type": "markdown",
   "id": "55f85cf7",
   "metadata": {},
   "source": [
    "## Outputs"
   ]
  },
  {
   "cell_type": "markdown",
   "id": "d4ebd1e0",
   "metadata": {},
   "source": [
    "#### Total point values are not provided for interim session grades. Total points for each component of the final are in the pts_final data set."
   ]
  },
  {
   "cell_type": "code",
   "execution_count": 173,
   "id": "9130d382",
   "metadata": {},
   "outputs": [
    {
     "name": "stdout",
     "output_type": "stream",
     "text": [
      "<class 'pandas.core.frame.DataFrame'>\n",
      "RangeIndex: 115 entries, 0 to 114\n",
      "Data columns (total 6 columns):\n",
      " #   Column        Non-Null Count  Dtype  \n",
      "---  ------        --------------  -----  \n",
      " 0   sid           115 non-null    int64  \n",
      " 1   interim_scr2  115 non-null    float64\n",
      " 2   interim_scr3  115 non-null    float64\n",
      " 3   interim_scr4  115 non-null    float64\n",
      " 4   interim_scr5  115 non-null    float64\n",
      " 5   interim_scr6  115 non-null    float64\n",
      "dtypes: float64(5), int64(1)\n",
      "memory usage: 5.5 KB\n"
     ]
    }
   ],
   "source": [
    "interim_init.info()"
   ]
  },
  {
   "cell_type": "code",
   "execution_count": 174,
   "id": "4a301292",
   "metadata": {},
   "outputs": [
    {
     "name": "stdout",
     "output_type": "stream",
     "text": [
      "<class 'pandas.core.frame.DataFrame'>\n",
      "RangeIndex: 62 entries, 0 to 61\n",
      "Data columns (total 18 columns):\n",
      " #   Column       Non-Null Count  Dtype  \n",
      "---  ------       --------------  -----  \n",
      " 0   sid          62 non-null     int64  \n",
      " 1   Es_1q1       62 non-null     float64\n",
      " 2   Es_1q2       62 non-null     float64\n",
      " 3   Es_2q1       62 non-null     float64\n",
      " 4   Es_2q2       62 non-null     float64\n",
      " 5   Es_3q1       62 non-null     float64\n",
      " 6   Es_3q2       62 non-null     float64\n",
      " 7   Es_3q3       62 non-null     float64\n",
      " 8   Es_3q4       62 non-null     float64\n",
      " 9   Es_3q5       62 non-null     float64\n",
      " 10  Es_4q1       62 non-null     float64\n",
      " 11  Es_4q2       62 non-null     float64\n",
      " 12  Es_5q1       62 non-null     float64\n",
      " 13  Es_5q2       62 non-null     float64\n",
      " 14  Es_5q3       62 non-null     float64\n",
      " 15  Es_6q1       62 non-null     float64\n",
      " 16  Es_6q2       62 non-null     float64\n",
      " 17  final_score  62 non-null     float64\n",
      "dtypes: float64(17), int64(1)\n",
      "memory usage: 8.8 KB\n"
     ]
    }
   ],
   "source": [
    "final_init.info()"
   ]
  },
  {
   "cell_type": "code",
   "execution_count": 175,
   "id": "8302c11c",
   "metadata": {},
   "outputs": [
    {
     "data": {
      "text/plain": [
       "(62, 18)"
      ]
     },
     "execution_count": 175,
     "metadata": {},
     "output_type": "execute_result"
    }
   ],
   "source": [
    "final_init.shape"
   ]
  },
  {
   "cell_type": "code",
   "execution_count": 176,
   "id": "90b00845",
   "metadata": {},
   "outputs": [
    {
     "data": {
      "text/plain": [
       "62"
      ]
     },
     "execution_count": 176,
     "metadata": {},
     "output_type": "execute_result"
    }
   ],
   "source": [
    "final_init.sid.nunique()"
   ]
  },
  {
   "cell_type": "code",
   "execution_count": 177,
   "id": "70847a1b",
   "metadata": {},
   "outputs": [
    {
     "name": "stdout",
     "output_type": "stream",
     "text": [
      "<class 'pandas.core.frame.DataFrame'>\n",
      "RangeIndex: 17 entries, 0 to 16\n",
      "Data columns (total 2 columns):\n",
      " #   Column           Non-Null Count  Dtype \n",
      "---  ------           --------------  ----- \n",
      " 0   question         17 non-null     object\n",
      " 1   question_points  17 non-null     int64 \n",
      "dtypes: int64(1), object(1)\n",
      "memory usage: 400.0+ bytes\n"
     ]
    }
   ],
   "source": [
    "pts_final_lookup.info()"
   ]
  },
  {
   "cell_type": "code",
   "execution_count": 178,
   "id": "cf15235d",
   "metadata": {},
   "outputs": [
    {
     "data": {
      "text/plain": [
       "array(['Es_1q1', 'Es_1q2', 'Es_2q1', 'Es_2q2', 'Es_3q1', 'Es_3q2',\n",
       "       'Es_3q3', 'Es_3q4', 'Es_3q5', 'Es_4q1', 'Es_4q2', 'Es_5q1',\n",
       "       'Es_5q2', 'Es_5q3', 'Es_6q1', 'Es_6q2', 'final_score'],\n",
       "      dtype=object)"
      ]
     },
     "execution_count": 178,
     "metadata": {},
     "output_type": "execute_result"
    }
   ],
   "source": [
    "pts_final_lookup.question.unique()"
   ]
  },
  {
   "cell_type": "code",
   "execution_count": null,
   "id": "6de54257",
   "metadata": {},
   "outputs": [],
   "source": []
  }
 ],
 "metadata": {
  "kernelspec": {
   "display_name": "Python 3 (ipykernel)",
   "language": "python",
   "name": "python3"
  },
  "language_info": {
   "codemirror_mode": {
    "name": "ipython",
    "version": 3
   },
   "file_extension": ".py",
   "mimetype": "text/x-python",
   "name": "python",
   "nbconvert_exporter": "python",
   "pygments_lexer": "ipython3",
   "version": "3.8.15"
  }
 },
 "nbformat": 4,
 "nbformat_minor": 5
}
