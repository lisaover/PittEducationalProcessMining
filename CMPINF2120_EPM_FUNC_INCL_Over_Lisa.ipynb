{
 "cells": [
  {
   "cell_type": "markdown",
   "id": "88385aa2",
   "metadata": {},
   "source": [
    "# Educational Process Mining\n",
    "\n",
    "https://archive-beta.ics.uci.edu/dataset/346/educational+process+mining+epm+a+learning+analytics+data+set\n",
    "\n",
    "Educational Process Mining (EPM): A Learning Analytics Data Set. (2015). UCI Machine Learning Repository.\n",
    "\n",
    "## Functions\n",
    "\n",
    "This notebook includes functions forinclusion with other notebooks."
   ]
  },
  {
   "cell_type": "code",
   "execution_count": 1,
   "id": "246f8d3c",
   "metadata": {},
   "outputs": [],
   "source": [
    "def get_var_list(df, lst):\n",
    "    temp = []\n",
    "    for s in lst:\n",
    "        temp = [j for i in [temp, df.loc[:, df.columns.str.endswith(s)].columns] for j in i] \n",
    "    return temp"
   ]
  },
  {
   "cell_type": "code",
   "execution_count": 2,
   "id": "bf580c71",
   "metadata": {},
   "outputs": [],
   "source": [
    "def get_var_list_b(df, lst):\n",
    "    temp = []\n",
    "    for s in lst:\n",
    "        temp = [j for i in [temp, df.loc[:, df.columns.str.startswith(s)].columns] for j in i] \n",
    "    return temp"
   ]
  },
  {
   "cell_type": "code",
   "execution_count": 3,
   "id": "d2435e5a",
   "metadata": {},
   "outputs": [],
   "source": [
    "def make_dmat(df, formula_list):\n",
    "    \n",
    "    sk_list = []\n",
    "\n",
    "    for a_formula in formula_list:\n",
    "        y_sk, X_sk = dmatrices(a_formula, data = df)\n",
    "        sk_list.append( [y_sk, X_sk] )\n",
    "        \n",
    "    return sk_list"
   ]
  },
  {
   "cell_type": "code",
   "execution_count": 4,
   "id": "1f41bcd0",
   "metadata": {},
   "outputs": [],
   "source": [
    "def make_dim_df(df, sk_list, formula_list):\n",
    "        \n",
    "    model_dim = pd.DataFrame({'model name': [x for x in range(0,len(formula_list))],\n",
    "                          'dimensions': [dim[1].shape[1] for dim in sk_list],\n",
    "                          'number of obs': [len(df) for x in range(0,len(formula_list))],\n",
    "                          'dim < obs': ['Yes' if dim[1].shape[1] < len(df) else 'No' for dim in sk_list]})\n",
    "    return model_dim"
   ]
  },
  {
   "cell_type": "code",
   "execution_count": 5,
   "id": "7219c210",
   "metadata": {},
   "outputs": [],
   "source": [
    "def my_coefplot(model_object, figsize_use=(50,25)):\n",
    "    fig, ax = plt.subplots(figsize=figsize_use)\n",
    "    \n",
    "    ax.errorbar(y = model_object.params.index,\n",
    "                x = model_object.params,\n",
    "                fmt = 'o', color = 'black', ecolor='black',\n",
    "                xerr = 2 * model_object.bse,\n",
    "                elinewidth = 3, ms = 10)\n",
    "    \n",
    "    ax.axvline(x=0, linestyle='--', linewidth=5, color='grey')\n",
    "    \n",
    "    ax.set_xlabel('coefficient value')\n",
    "    ax.set_ylabel('coefficient name')\n",
    "    \n",
    "    plt.show()"
   ]
  }
 ],
 "metadata": {
  "kernelspec": {
   "display_name": "Python 3 (ipykernel)",
   "language": "python",
   "name": "python3"
  },
  "language_info": {
   "codemirror_mode": {
    "name": "ipython",
    "version": 3
   },
   "file_extension": ".py",
   "mimetype": "text/x-python",
   "name": "python",
   "nbconvert_exporter": "python",
   "pygments_lexer": "ipython3",
   "version": "3.8.15"
  }
 },
 "nbformat": 4,
 "nbformat_minor": 5
}
